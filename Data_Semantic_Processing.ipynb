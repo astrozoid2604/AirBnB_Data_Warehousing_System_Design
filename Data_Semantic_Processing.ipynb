{
 "cells": [
  {
   "cell_type": "code",
   "execution_count": 1,
   "id": "f213c8a3",
   "metadata": {},
   "outputs": [],
   "source": [
    "import pandas as pd\n",
    "import matplotlib.pyplot as plt\n",
    "import numpy as np"
   ]
  },
  {
   "cell_type": "markdown",
   "id": "d2fb507c",
   "metadata": {},
   "source": [
    "## 1. calendar"
   ]
  },
  {
   "cell_type": "code",
   "execution_count": 2,
   "id": "ae1522d9",
   "metadata": {},
   "outputs": [],
   "source": [
    "calendar = pd.read_csv('calendar.csv')"
   ]
  },
  {
   "cell_type": "code",
   "execution_count": 3,
   "id": "71d6cbec",
   "metadata": {},
   "outputs": [
    {
     "data": {
      "text/html": [
       "<div>\n",
       "<style scoped>\n",
       "    .dataframe tbody tr th:only-of-type {\n",
       "        vertical-align: middle;\n",
       "    }\n",
       "\n",
       "    .dataframe tbody tr th {\n",
       "        vertical-align: top;\n",
       "    }\n",
       "\n",
       "    .dataframe thead th {\n",
       "        text-align: right;\n",
       "    }\n",
       "</style>\n",
       "<table border=\"1\" class=\"dataframe\">\n",
       "  <thead>\n",
       "    <tr style=\"text-align: right;\">\n",
       "      <th></th>\n",
       "      <th>listing_id</th>\n",
       "      <th>date</th>\n",
       "      <th>available</th>\n",
       "      <th>price</th>\n",
       "      <th>adjusted_price</th>\n",
       "      <th>minimum_nights</th>\n",
       "      <th>maximum_nights</th>\n",
       "    </tr>\n",
       "  </thead>\n",
       "  <tbody>\n",
       "    <tr>\n",
       "      <th>0</th>\n",
       "      <td>645048906856594097</td>\n",
       "      <td>2022-06-20</td>\n",
       "      <td>t</td>\n",
       "      <td>$890.00</td>\n",
       "      <td>$890.00</td>\n",
       "      <td>1.0</td>\n",
       "      <td>365.0</td>\n",
       "    </tr>\n",
       "    <tr>\n",
       "      <th>1</th>\n",
       "      <td>645048906856594097</td>\n",
       "      <td>2022-06-21</td>\n",
       "      <td>t</td>\n",
       "      <td>$890.00</td>\n",
       "      <td>$890.00</td>\n",
       "      <td>1.0</td>\n",
       "      <td>365.0</td>\n",
       "    </tr>\n",
       "    <tr>\n",
       "      <th>2</th>\n",
       "      <td>645048906856594097</td>\n",
       "      <td>2022-06-22</td>\n",
       "      <td>t</td>\n",
       "      <td>$890.00</td>\n",
       "      <td>$890.00</td>\n",
       "      <td>1.0</td>\n",
       "      <td>365.0</td>\n",
       "    </tr>\n",
       "    <tr>\n",
       "      <th>3</th>\n",
       "      <td>645048906856594097</td>\n",
       "      <td>2022-06-23</td>\n",
       "      <td>t</td>\n",
       "      <td>$890.00</td>\n",
       "      <td>$890.00</td>\n",
       "      <td>1.0</td>\n",
       "      <td>365.0</td>\n",
       "    </tr>\n",
       "    <tr>\n",
       "      <th>4</th>\n",
       "      <td>645048906856594097</td>\n",
       "      <td>2022-06-24</td>\n",
       "      <td>t</td>\n",
       "      <td>$890.00</td>\n",
       "      <td>$890.00</td>\n",
       "      <td>1.0</td>\n",
       "      <td>365.0</td>\n",
       "    </tr>\n",
       "  </tbody>\n",
       "</table>\n",
       "</div>"
      ],
      "text/plain": [
       "           listing_id        date available    price adjusted_price  \\\n",
       "0  645048906856594097  2022-06-20         t  $890.00        $890.00   \n",
       "1  645048906856594097  2022-06-21         t  $890.00        $890.00   \n",
       "2  645048906856594097  2022-06-22         t  $890.00        $890.00   \n",
       "3  645048906856594097  2022-06-23         t  $890.00        $890.00   \n",
       "4  645048906856594097  2022-06-24         t  $890.00        $890.00   \n",
       "\n",
       "   minimum_nights  maximum_nights  \n",
       "0             1.0           365.0  \n",
       "1             1.0           365.0  \n",
       "2             1.0           365.0  \n",
       "3             1.0           365.0  \n",
       "4             1.0           365.0  "
      ]
     },
     "execution_count": 3,
     "metadata": {},
     "output_type": "execute_result"
    }
   ],
   "source": [
    "calendar.head()"
   ]
  },
  {
   "cell_type": "markdown",
   "id": "5e843514",
   "metadata": {},
   "source": [
    "### 1.1 Data Size"
   ]
  },
  {
   "cell_type": "markdown",
   "id": "4e0a7614",
   "metadata": {},
   "source": [
    "The calendar csv has 6231645 rows and 7 attributes."
   ]
  },
  {
   "cell_type": "code",
   "execution_count": 4,
   "id": "4906c14f",
   "metadata": {},
   "outputs": [
    {
     "data": {
      "text/plain": [
       "(6231645, 7)"
      ]
     },
     "execution_count": 4,
     "metadata": {},
     "output_type": "execute_result"
    }
   ],
   "source": [
    "calendar.shape"
   ]
  },
  {
   "cell_type": "markdown",
   "id": "69ebcd4f",
   "metadata": {},
   "source": [
    "### 1.2 Attribute Meaning"
   ]
  },
  {
   "cell_type": "markdown",
   "id": "98193c3f",
   "metadata": {},
   "source": [
    "* **listing_id**: listing id of the aibnb housing\n",
    "* **date**: the date in the listing's calendar\n",
    "* **available**: whether the listing is available for booking at that date\n",
    "* **price**: the price listed of the housing at that date\n",
    "* **adjusted_price**: adjusted price of the housing at that date, dynamic pricing\n",
    "* **minimum_nights**: the minimum nights for a booking made on this day\n",
    "* **maximum_nights**: the maximum nights for a booking made on this day"
   ]
  },
  {
   "cell_type": "markdown",
   "id": "b706b7d4",
   "metadata": {},
   "source": [
    "### 1.3 Attribute Data Type"
   ]
  },
  {
   "cell_type": "code",
   "execution_count": 6,
   "id": "b294b474",
   "metadata": {},
   "outputs": [
    {
     "data": {
      "text/plain": [
       "Unnamed: 0          int64\n",
       "listing_id          int64\n",
       "date               object\n",
       "available          object\n",
       "price              object\n",
       "adjusted_price     object\n",
       "minimum_nights    float64\n",
       "maximum_nights    float64\n",
       "dtype: object"
      ]
     },
     "execution_count": 6,
     "metadata": {},
     "output_type": "execute_result"
    }
   ],
   "source": [
    "calendar.dtypes"
   ]
  },
  {
   "cell_type": "markdown",
   "id": "1698aeac",
   "metadata": {},
   "source": [
    "* **listing_id**: integer  \n",
    "might convert to varchar(18) in SQL\n",
    "* **date**: string  \n",
    "might convert to date type in SQL\n",
    "* **available**: string  \n",
    "char(1) in SQL\n",
    "* **price**: string  \n",
    "might convert to float(1) in SQL\n",
    "* **adjusted_price**: string  \n",
    "might convert to float(1) in SQL\n",
    "* **minimum_nights**: float  \n",
    "float(1) in SQL\n",
    "* **maximum_nights**: float   \n",
    "float(1) in SQL"
   ]
  },
  {
   "cell_type": "markdown",
   "id": "29e5759c",
   "metadata": {},
   "source": [
    "### 1.4 Attribute Domain and Volume"
   ]
  },
  {
   "cell_type": "markdown",
   "id": "050786fe",
   "metadata": {},
   "source": [
    "## **listing_id**: 17073 unique listing ids. Max 18 digits in total."
   ]
  },
  {
   "cell_type": "code",
   "execution_count": 7,
   "id": "82a48ba8",
   "metadata": {},
   "outputs": [
    {
     "data": {
      "text/plain": [
       "17073"
      ]
     },
     "execution_count": 7,
     "metadata": {},
     "output_type": "execute_result"
    }
   ],
   "source": [
    "calendar['listing_id'].nunique()"
   ]
  },
  {
   "cell_type": "code",
   "execution_count": 8,
   "id": "5136455e",
   "metadata": {},
   "outputs": [
    {
     "data": {
      "text/plain": [
       "18"
      ]
     },
     "execution_count": 8,
     "metadata": {},
     "output_type": "execute_result"
    }
   ],
   "source": [
    "len(str(max(calendar['listing_id'])))"
   ]
  },
  {
   "cell_type": "markdown",
   "id": "0d49f64b",
   "metadata": {},
   "source": [
    "**date**: the listings starts from 2022/06/20 to 2023/06/20. Examining the selection of one listing_id shows that some listings are associated with 365 days, but not all. <span style=\"color:blue\">**The PK Combo?**</span>"
   ]
  },
  {
   "cell_type": "code",
   "execution_count": 9,
   "id": "024544d6",
   "metadata": {},
   "outputs": [],
   "source": [
    "# convert date to datetime object\n",
    "date = pd.to_datetime(calendar['date'])"
   ]
  },
  {
   "cell_type": "code",
   "execution_count": 10,
   "id": "a634a99e",
   "metadata": {},
   "outputs": [
    {
     "data": {
      "text/plain": [
       "0   2022-06-20\n",
       "1   2022-06-21\n",
       "2   2022-06-22\n",
       "3   2022-06-23\n",
       "4   2022-06-24\n",
       "Name: date, dtype: datetime64[ns]"
      ]
     },
     "execution_count": 10,
     "metadata": {},
     "output_type": "execute_result"
    }
   ],
   "source": [
    "date.head()"
   ]
  },
  {
   "cell_type": "code",
   "execution_count": 11,
   "id": "9a2a9fb7",
   "metadata": {},
   "outputs": [
    {
     "data": {
      "text/plain": [
       "Timestamp('2023-06-20 00:00:00')"
      ]
     },
     "execution_count": 11,
     "metadata": {},
     "output_type": "execute_result"
    }
   ],
   "source": [
    "max(date)"
   ]
  },
  {
   "cell_type": "code",
   "execution_count": 12,
   "id": "c71197b1",
   "metadata": {},
   "outputs": [
    {
     "data": {
      "text/plain": [
       "Timestamp('2022-06-20 00:00:00')"
      ]
     },
     "execution_count": 12,
     "metadata": {},
     "output_type": "execute_result"
    }
   ],
   "source": [
    "min(date)"
   ]
  },
  {
   "cell_type": "code",
   "execution_count": 13,
   "id": "d95d20b0",
   "metadata": {},
   "outputs": [
    {
     "data": {
      "text/plain": [
       "(365, 8)"
      ]
     },
     "execution_count": 13,
     "metadata": {},
     "output_type": "execute_result"
    }
   ],
   "source": [
    "# listing with full year prices\n",
    "x = calendar.loc[calendar['listing_id'] == 645048906856594097]\n",
    "x.shape"
   ]
  },
  {
   "cell_type": "code",
   "execution_count": 14,
   "id": "4342d03b",
   "metadata": {},
   "outputs": [
    {
     "data": {
      "text/plain": [
       "(345, 8)"
      ]
     },
     "execution_count": 14,
     "metadata": {},
     "output_type": "execute_result"
    }
   ],
   "source": [
    "# listing with partial prices\n",
    "x = calendar.loc[calendar['price'] == '$1,500,000.00']\n",
    "x.shape"
   ]
  },
  {
   "cell_type": "markdown",
   "id": "c0621cb5",
   "metadata": {},
   "source": [
    "**available**: two levels: t and f, corresponding to true and false for availability. 4329257 rows with t and 1902388 rows with f."
   ]
  },
  {
   "cell_type": "code",
   "execution_count": 15,
   "id": "24007d3a",
   "metadata": {},
   "outputs": [
    {
     "data": {
      "text/plain": [
       "array(['t', 'f'], dtype=object)"
      ]
     },
     "execution_count": 15,
     "metadata": {},
     "output_type": "execute_result"
    }
   ],
   "source": [
    "calendar['available'].unique()"
   ]
  },
  {
   "cell_type": "code",
   "execution_count": 16,
   "id": "38cf70b7",
   "metadata": {},
   "outputs": [
    {
     "data": {
      "text/plain": [
       "t    4329257\n",
       "f    1902388\n",
       "Name: available, dtype: int64"
      ]
     },
     "execution_count": 16,
     "metadata": {},
     "output_type": "execute_result"
    }
   ],
   "source": [
    "calendar['available'].value_counts()"
   ]
  },
  {
   "cell_type": "markdown",
   "id": "84bcffed",
   "metadata": {},
   "source": [
    "**price**: ranges from \\\\$252.0 to \\\\$1500000.0, with a median of \\\\$1215.0. This indicates that most of the prices are low, with a few very high prices that makes the distribution of price highly skewed to the right."
   ]
  },
  {
   "cell_type": "code",
   "execution_count": 17,
   "id": "ddf14e9b",
   "metadata": {},
   "outputs": [
    {
     "name": "stderr",
     "output_type": "stream",
     "text": [
      "/var/folders/x7/bkzyc74x221_9zcr_p3637s40000gn/T/ipykernel_82601/3807403196.py:1: FutureWarning: The default value of regex will change from True to False in a future version.\n",
      "  price = calendar[\"price\"].str.replace('[\\$\\,\\.]', '').astype(float)\n"
     ]
    },
    {
     "data": {
      "text/plain": [
       "0    890.0\n",
       "1    890.0\n",
       "2    890.0\n",
       "3    890.0\n",
       "4    890.0\n",
       "Name: price, dtype: float64"
      ]
     },
     "execution_count": 17,
     "metadata": {},
     "output_type": "execute_result"
    }
   ],
   "source": [
    "price = calendar[\"price\"].str.replace('[\\$\\,\\.]', '').astype(float)\n",
    "price = price/100\n",
    "price.head()"
   ]
  },
  {
   "cell_type": "code",
   "execution_count": 18,
   "id": "0451c945",
   "metadata": {},
   "outputs": [
    {
     "data": {
      "text/plain": [
       "1500000.0"
      ]
     },
     "execution_count": 18,
     "metadata": {},
     "output_type": "execute_result"
    }
   ],
   "source": [
    "max(price)"
   ]
  },
  {
   "cell_type": "code",
   "execution_count": 19,
   "id": "b1729a50",
   "metadata": {
    "scrolled": true
   },
   "outputs": [
    {
     "data": {
      "text/plain": [
       "252.0"
      ]
     },
     "execution_count": 19,
     "metadata": {},
     "output_type": "execute_result"
    }
   ],
   "source": [
    "min(price)"
   ]
  },
  {
   "cell_type": "code",
   "execution_count": 20,
   "id": "a74b1d06",
   "metadata": {},
   "outputs": [
    {
     "data": {
      "text/plain": [
       "0.25     800.0\n",
       "0.50    1215.0\n",
       "0.75    2000.0\n",
       "Name: price, dtype: float64"
      ]
     },
     "execution_count": 20,
     "metadata": {},
     "output_type": "execute_result"
    }
   ],
   "source": [
    "price.quantile([0.25,0.5,0.75])"
   ]
  },
  {
   "cell_type": "code",
   "execution_count": 21,
   "id": "bf7c9e17",
   "metadata": {},
   "outputs": [
    {
     "data": {
      "text/plain": [
       "count    6.231645e+06\n",
       "mean     2.380776e+03\n",
       "std      1.382413e+04\n",
       "min      2.520000e+02\n",
       "25%      8.000000e+02\n",
       "50%      1.215000e+03\n",
       "75%      2.000000e+03\n",
       "max      1.500000e+06\n",
       "Name: price, dtype: float64"
      ]
     },
     "execution_count": 21,
     "metadata": {},
     "output_type": "execute_result"
    }
   ],
   "source": [
    "price.describe()"
   ]
  },
  {
   "cell_type": "code",
   "execution_count": 22,
   "id": "62c2fb21",
   "metadata": {},
   "outputs": [
    {
     "data": {
      "image/png": "[encoded data removed]",
      "text/plain": [
       "<Figure size 432x288 with 1 Axes>"
      ]
     },
     "metadata": {
      "needs_background": "light"
     },
     "output_type": "display_data"
    }
   ],
   "source": [
    "plt.hist(price)\n",
    "plt.show() "
   ]
  },
  {
   "cell_type": "markdown",
   "id": "7dcd7e4e",
   "metadata": {},
   "source": [
    "**adjusted_price**: ranges from \\\\$165.0 to \\\\$1500000.0, with a median of \\\\$1200.0. There are 333341 rows with adjusted price different from the listed price. 329672 rows have higher price than adjusted price, which is 98.9% of the time the host will set a lower adjusted price; 3669 rows have lower price than adjusted price, which is 1.1% of the time the host will set a higher adjusted price. The distribution of the adjusted_price is very similar to that of the price."
   ]
  },
  {
   "cell_type": "code",
   "execution_count": 23,
   "id": "18d2b7cf",
   "metadata": {},
   "outputs": [
    {
     "name": "stderr",
     "output_type": "stream",
     "text": [
      "/var/folders/x7/bkzyc74x221_9zcr_p3637s40000gn/T/ipykernel_82601/3762613851.py:1: FutureWarning: The default value of regex will change from True to False in a future version.\n",
      "  adjusted_price = calendar[\"adjusted_price\"].str.replace('[\\$\\,\\.]', '').astype(float)\n"
     ]
    },
    {
     "data": {
      "text/plain": [
       "0    890.0\n",
       "1    890.0\n",
       "2    890.0\n",
       "3    890.0\n",
       "4    890.0\n",
       "Name: adjusted_price, dtype: float64"
      ]
     },
     "execution_count": 23,
     "metadata": {},
     "output_type": "execute_result"
    }
   ],
   "source": [
    "adjusted_price = calendar[\"adjusted_price\"].str.replace('[\\$\\,\\.]', '').astype(float)\n",
    "adjusted_price = adjusted_price/100\n",
    "adjusted_price.head()"
   ]
  },
  {
   "cell_type": "code",
   "execution_count": 24,
   "id": "26bd9f5e",
   "metadata": {},
   "outputs": [
    {
     "data": {
      "text/plain": [
       "1500000.0"
      ]
     },
     "execution_count": 24,
     "metadata": {},
     "output_type": "execute_result"
    }
   ],
   "source": [
    "max(adjusted_price)"
   ]
  },
  {
   "cell_type": "code",
   "execution_count": 25,
   "id": "a0523cf1",
   "metadata": {},
   "outputs": [
    {
     "data": {
      "text/plain": [
       "165.0"
      ]
     },
     "execution_count": 25,
     "metadata": {},
     "output_type": "execute_result"
    }
   ],
   "source": [
    "min(adjusted_price)"
   ]
  },
  {
   "cell_type": "code",
   "execution_count": 26,
   "id": "2792c8a6",
   "metadata": {},
   "outputs": [
    {
     "data": {
      "text/plain": [
       "0.25     800.0\n",
       "0.50    1200.0\n",
       "0.75    2000.0\n",
       "Name: adjusted_price, dtype: float64"
      ]
     },
     "execution_count": 26,
     "metadata": {},
     "output_type": "execute_result"
    }
   ],
   "source": [
    "adjusted_price.quantile([0.25,0.5,0.75])"
   ]
  },
  {
   "cell_type": "code",
   "execution_count": 27,
   "id": "b202f62a",
   "metadata": {},
   "outputs": [
    {
     "data": {
      "text/plain": [
       "count    6.231645e+06\n",
       "mean     2.363647e+03\n",
       "std      1.381745e+04\n",
       "min      1.650000e+02\n",
       "25%      8.000000e+02\n",
       "50%      1.200000e+03\n",
       "75%      2.000000e+03\n",
       "max      1.500000e+06\n",
       "Name: adjusted_price, dtype: float64"
      ]
     },
     "execution_count": 27,
     "metadata": {},
     "output_type": "execute_result"
    }
   ],
   "source": [
    "adjusted_price.describe()"
   ]
  },
  {
   "cell_type": "code",
   "execution_count": 28,
   "id": "143a9ebe",
   "metadata": {},
   "outputs": [
    {
     "data": {
      "image/png": "[encoded data removed]",
      "text/plain": [
       "<Figure size 432x288 with 1 Axes>"
      ]
     },
     "metadata": {
      "needs_background": "light"
     },
     "output_type": "display_data"
    }
   ],
   "source": [
    "plt.hist(adjusted_price)\n",
    "plt.show() "
   ]
  },
  {
   "cell_type": "code",
   "execution_count": 29,
   "id": "d49e6c94",
   "metadata": {},
   "outputs": [],
   "source": [
    "price_diff = price - adjusted_price"
   ]
  },
  {
   "cell_type": "code",
   "execution_count": 30,
   "id": "71a8930a",
   "metadata": {},
   "outputs": [
    {
     "data": {
      "text/plain": [
       "array([   0.,  169.,   84., ..., 3176.,  870.,   61.])"
      ]
     },
     "execution_count": 30,
     "metadata": {},
     "output_type": "execute_result"
    }
   ],
   "source": [
    "price_diff.unique()"
   ]
  },
  {
   "cell_type": "code",
   "execution_count": 31,
   "id": "23315221",
   "metadata": {},
   "outputs": [
    {
     "data": {
      "text/plain": [
       "333341"
      ]
     },
     "execution_count": 31,
     "metadata": {},
     "output_type": "execute_result"
    }
   ],
   "source": [
    "# price != adjusted_price\n",
    "len([i for i in range(len(price_diff)) if price_diff[i] != 0.0])"
   ]
  },
  {
   "cell_type": "code",
   "execution_count": 32,
   "id": "92ee616c",
   "metadata": {},
   "outputs": [
    {
     "data": {
      "text/plain": [
       "3669"
      ]
     },
     "execution_count": 32,
     "metadata": {},
     "output_type": "execute_result"
    }
   ],
   "source": [
    "# price < adjusted_price\n",
    "len([i for i in range(len(price_diff)) if price_diff[i] < 0.0])"
   ]
  },
  {
   "cell_type": "code",
   "execution_count": 33,
   "id": "68bfc441",
   "metadata": {},
   "outputs": [
    {
     "data": {
      "text/plain": [
       "329672"
      ]
     },
     "execution_count": 33,
     "metadata": {},
     "output_type": "execute_result"
    }
   ],
   "source": [
    "# price > adjusted_price\n",
    "len([i for i in range(len(price_diff)) if price_diff[i] > 0.0])"
   ]
  },
  {
   "cell_type": "code",
   "execution_count": 34,
   "id": "6d055e96",
   "metadata": {},
   "outputs": [
    {
     "data": {
      "text/html": [
       "<div>\n",
       "<style scoped>\n",
       "    .dataframe tbody tr th:only-of-type {\n",
       "        vertical-align: middle;\n",
       "    }\n",
       "\n",
       "    .dataframe tbody tr th {\n",
       "        vertical-align: top;\n",
       "    }\n",
       "\n",
       "    .dataframe thead th {\n",
       "        text-align: right;\n",
       "    }\n",
       "</style>\n",
       "<table border=\"1\" class=\"dataframe\">\n",
       "  <thead>\n",
       "    <tr style=\"text-align: right;\">\n",
       "      <th></th>\n",
       "      <th>Unnamed: 0</th>\n",
       "      <th>listing_id</th>\n",
       "      <th>date</th>\n",
       "      <th>available</th>\n",
       "      <th>price</th>\n",
       "      <th>adjusted_price</th>\n",
       "      <th>minimum_nights</th>\n",
       "      <th>maximum_nights</th>\n",
       "    </tr>\n",
       "  </thead>\n",
       "  <tbody>\n",
       "    <tr>\n",
       "      <th>31420</th>\n",
       "      <td>31420</td>\n",
       "      <td>852063</td>\n",
       "      <td>2022-07-21</td>\n",
       "      <td>t</td>\n",
       "      <td>$1,693.00</td>\n",
       "      <td>$1,524.00</td>\n",
       "      <td>14.0</td>\n",
       "      <td>1125.0</td>\n",
       "    </tr>\n",
       "  </tbody>\n",
       "</table>\n",
       "</div>"
      ],
      "text/plain": [
       "       Unnamed: 0  listing_id        date available      price adjusted_price  \\\n",
       "31420       31420      852063  2022-07-21         t  $1,693.00      $1,524.00   \n",
       "\n",
       "       minimum_nights  maximum_nights  \n",
       "31420            14.0          1125.0  "
      ]
     },
     "execution_count": 34,
     "metadata": {},
     "output_type": "execute_result"
    }
   ],
   "source": [
    "# a peak at one listing on 2022/07/21 with lower adjusted_price\n",
    "calendar.iloc[[31420]]"
   ]
  },
  {
   "cell_type": "code",
   "execution_count": 35,
   "id": "602574e6",
   "metadata": {},
   "outputs": [
    {
     "data": {
      "text/plain": [
       "0.011006746844822569"
      ]
     },
     "execution_count": 35,
     "metadata": {},
     "output_type": "execute_result"
    }
   ],
   "source": [
    "3669/333341"
   ]
  },
  {
   "cell_type": "code",
   "execution_count": 36,
   "id": "4a04302f",
   "metadata": {},
   "outputs": [
    {
     "data": {
      "text/plain": [
       "20000.0"
      ]
     },
     "execution_count": 36,
     "metadata": {},
     "output_type": "execute_result"
    }
   ],
   "source": [
    "max(price_diff)"
   ]
  },
  {
   "cell_type": "code",
   "execution_count": 37,
   "id": "0e921246",
   "metadata": {},
   "outputs": [
    {
     "data": {
      "text/plain": [
       "-2370.0"
      ]
     },
     "execution_count": 37,
     "metadata": {},
     "output_type": "execute_result"
    }
   ],
   "source": [
    "min(price_diff)"
   ]
  },
  {
   "cell_type": "markdown",
   "id": "2a1fb9ca",
   "metadata": {},
   "source": [
    "**minimum_nights**: ranges from 1 day to 1125 days, with a median of 1 day. Out of the 6231465 rows, there are 3468431 rows with minimum nights of 1 day, which is 55.7% of the rows. Most of the listings have small minimum nights requirement, but with some around 200 days and 400 days and few even higher, which leads to a highly skewed to the right distribution."
   ]
  },
  {
   "cell_type": "code",
   "execution_count": 38,
   "id": "d65c0c10",
   "metadata": {},
   "outputs": [
    {
     "data": {
      "text/plain": [
       "1125.0"
      ]
     },
     "execution_count": 38,
     "metadata": {},
     "output_type": "execute_result"
    }
   ],
   "source": [
    "max(calendar['minimum_nights'])"
   ]
  },
  {
   "cell_type": "code",
   "execution_count": 39,
   "id": "29659303",
   "metadata": {},
   "outputs": [
    {
     "data": {
      "text/plain": [
       "1.0"
      ]
     },
     "execution_count": 39,
     "metadata": {},
     "output_type": "execute_result"
    }
   ],
   "source": [
    "min(calendar['minimum_nights'])"
   ]
  },
  {
   "cell_type": "code",
   "execution_count": 40,
   "id": "e0406597",
   "metadata": {},
   "outputs": [
    {
     "data": {
      "text/plain": [
       "0.25    1.0\n",
       "0.50    1.0\n",
       "0.75    7.0\n",
       "Name: minimum_nights, dtype: float64"
      ]
     },
     "execution_count": 40,
     "metadata": {},
     "output_type": "execute_result"
    }
   ],
   "source": [
    "calendar['minimum_nights'].quantile([0.25,0.5,0.75])"
   ]
  },
  {
   "cell_type": "code",
   "execution_count": 41,
   "id": "596815f0",
   "metadata": {},
   "outputs": [
    {
     "data": {
      "text/plain": [
       "count    6.231645e+06\n",
       "mean     1.412625e+01\n",
       "std      4.561987e+01\n",
       "min      1.000000e+00\n",
       "25%      1.000000e+00\n",
       "50%      1.000000e+00\n",
       "75%      7.000000e+00\n",
       "max      1.125000e+03\n",
       "Name: minimum_nights, dtype: float64"
      ]
     },
     "execution_count": 41,
     "metadata": {},
     "output_type": "execute_result"
    }
   ],
   "source": [
    "calendar['minimum_nights'].describe()"
   ]
  },
  {
   "cell_type": "code",
   "execution_count": 42,
   "id": "fe29b859",
   "metadata": {},
   "outputs": [
    {
     "data": {
      "text/plain": [
       "3468433"
      ]
     },
     "execution_count": 42,
     "metadata": {},
     "output_type": "execute_result"
    }
   ],
   "source": [
    "len(calendar[calendar['minimum_nights'] == 1.0])"
   ]
  },
  {
   "cell_type": "code",
   "execution_count": 116,
   "id": "40df62b6",
   "metadata": {},
   "outputs": [
    {
     "data": {
      "image/png": "[encoded data removed]",
      "text/plain": [
       "<Figure size 432x288 with 1 Axes>"
      ]
     },
     "metadata": {
      "needs_background": "light"
     },
     "output_type": "display_data"
    }
   ],
   "source": [
    "plt.hist(calendar['minimum_nights'])\n",
    "plt.show() "
   ]
  },
  {
   "cell_type": "markdown",
   "id": "b3fc2341",
   "metadata": {},
   "source": [
    "**maximum_nights**: ranges from 1 day to 2147483647 days. Examining the quantiles reveals a highly skewed to the right distribution."
   ]
  },
  {
   "cell_type": "code",
   "execution_count": 118,
   "id": "ca690d5a",
   "metadata": {},
   "outputs": [
    {
     "data": {
      "text/plain": [
       "2147483647.0"
      ]
     },
     "execution_count": 118,
     "metadata": {},
     "output_type": "execute_result"
    }
   ],
   "source": [
    "max(calendar['maximum_nights'])"
   ]
  },
  {
   "cell_type": "code",
   "execution_count": 119,
   "id": "262aaca0",
   "metadata": {},
   "outputs": [
    {
     "data": {
      "text/plain": [
       "1.0"
      ]
     },
     "execution_count": 119,
     "metadata": {},
     "output_type": "execute_result"
    }
   ],
   "source": [
    "min(calendar['maximum_nights'])"
   ]
  },
  {
   "cell_type": "code",
   "execution_count": 120,
   "id": "98fc0249",
   "metadata": {},
   "outputs": [
    {
     "data": {
      "text/plain": [
       "0.25     365.0\n",
       "0.50    1125.0\n",
       "0.75    1125.0\n",
       "Name: maximum_nights, dtype: float64"
      ]
     },
     "execution_count": 120,
     "metadata": {},
     "output_type": "execute_result"
    }
   ],
   "source": [
    "calendar['maximum_nights'].quantile([0.25,0.5,0.75])"
   ]
  },
  {
   "cell_type": "code",
   "execution_count": 121,
   "id": "268dd0c2",
   "metadata": {},
   "outputs": [
    {
     "data": {
      "text/plain": [
       "count    6.231643e+06\n",
       "mean     1.706353e+06\n",
       "std      6.049433e+07\n",
       "min      1.000000e+00\n",
       "25%      3.650000e+02\n",
       "50%      1.125000e+03\n",
       "75%      1.125000e+03\n",
       "max      2.147484e+09\n",
       "Name: maximum_nights, dtype: float64"
      ]
     },
     "execution_count": 121,
     "metadata": {},
     "output_type": "execute_result"
    }
   ],
   "source": [
    "calendar['maximum_nights'].describe()"
   ]
  },
  {
   "cell_type": "code",
   "execution_count": 122,
   "id": "9c7900f6",
   "metadata": {},
   "outputs": [
    {
     "data": {
      "image/png": "[encoded data removed]",
      "text/plain": [
       "<Figure size 432x288 with 1 Axes>"
      ]
     },
     "metadata": {
      "needs_background": "light"
     },
     "output_type": "display_data"
    }
   ],
   "source": [
    "plt.hist(calendar['maximum_nights'])\n",
    "plt.show() "
   ]
  },
  {
   "cell_type": "markdown",
   "id": "26756bf9",
   "metadata": {},
   "source": [
    "### 1.5 Attribute Constraint, PK and FK"
   ]
  },
  {
   "cell_type": "markdown",
   "id": "70249ae7",
   "metadata": {},
   "source": [
    "* primary key(listing_id, date)\n",
    "* check (available in ('t', 'f'))\n",
    "* check (price > 0)\n",
    "* check (adjusted_price > 0)\n",
    "* check (minimum_nights >= 1)\n",
    "* check (maximum_nights >= 1)\n",
    "* foreign key(id) references listings\n",
    "\n",
    "any other?"
   ]
  },
  {
   "cell_type": "markdown",
   "id": "a947295d",
   "metadata": {},
   "source": [
    "## 2. reviews"
   ]
  },
  {
   "cell_type": "code",
   "execution_count": 11,
   "id": "5cff30df",
   "metadata": {},
   "outputs": [],
   "source": [
    "reviews = pd.read_csv('reviews.csv')"
   ]
  },
  {
   "cell_type": "code",
   "execution_count": 6,
   "id": "9ef05bde",
   "metadata": {},
   "outputs": [
    {
     "data": {
      "text/html": [
       "<div>\n",
       "<style scoped>\n",
       "    .dataframe tbody tr th:only-of-type {\n",
       "        vertical-align: middle;\n",
       "    }\n",
       "\n",
       "    .dataframe tbody tr th {\n",
       "        vertical-align: top;\n",
       "    }\n",
       "\n",
       "    .dataframe thead th {\n",
       "        text-align: right;\n",
       "    }\n",
       "</style>\n",
       "<table border=\"1\" class=\"dataframe\">\n",
       "  <thead>\n",
       "    <tr style=\"text-align: right;\">\n",
       "      <th></th>\n",
       "      <th>listing_id</th>\n",
       "      <th>id</th>\n",
       "      <th>date</th>\n",
       "      <th>reviewer_id</th>\n",
       "      <th>reviewer_name</th>\n",
       "      <th>comments</th>\n",
       "    </tr>\n",
       "  </thead>\n",
       "  <tbody>\n",
       "    <tr>\n",
       "      <th>0</th>\n",
       "      <td>39544047</td>\n",
       "      <td>564106023</td>\n",
       "      <td>2019-11-15</td>\n",
       "      <td>273940743</td>\n",
       "      <td>Kim</td>\n",
       "      <td>Good communication, basic and clean accommodation</td>\n",
       "    </tr>\n",
       "    <tr>\n",
       "      <th>1</th>\n",
       "      <td>39544047</td>\n",
       "      <td>566622127</td>\n",
       "      <td>2019-11-20</td>\n",
       "      <td>143251478</td>\n",
       "      <td>Oliver</td>\n",
       "      <td>Good, clean, cheap accomodation in proximity t...</td>\n",
       "    </tr>\n",
       "    <tr>\n",
       "      <th>2</th>\n",
       "      <td>39544047</td>\n",
       "      <td>568138380</td>\n",
       "      <td>2019-11-24</td>\n",
       "      <td>288635322</td>\n",
       "      <td>Doris</td>\n",
       "      <td>A nice room, very close to impact arena, also ...</td>\n",
       "    </tr>\n",
       "    <tr>\n",
       "      <th>3</th>\n",
       "      <td>39544047</td>\n",
       "      <td>568816394</td>\n",
       "      <td>2019-11-24</td>\n",
       "      <td>163790201</td>\n",
       "      <td>Yang</td>\n",
       "      <td>The landlord sister is really kind and lovely....</td>\n",
       "    </tr>\n",
       "    <tr>\n",
       "      <th>4</th>\n",
       "      <td>39544047</td>\n",
       "      <td>597651173</td>\n",
       "      <td>2020-01-26</td>\n",
       "      <td>317920443</td>\n",
       "      <td>Kunat</td>\n",
       "      <td>The room was very new, cleand and well funishe...</td>\n",
       "    </tr>\n",
       "  </tbody>\n",
       "</table>\n",
       "</div>"
      ],
      "text/plain": [
       "   listing_id         id        date  reviewer_id reviewer_name  \\\n",
       "0    39544047  564106023  2019-11-15    273940743           Kim   \n",
       "1    39544047  566622127  2019-11-20    143251478        Oliver   \n",
       "2    39544047  568138380  2019-11-24    288635322         Doris   \n",
       "3    39544047  568816394  2019-11-24    163790201          Yang   \n",
       "4    39544047  597651173  2020-01-26    317920443         Kunat   \n",
       "\n",
       "                                            comments  \n",
       "0  Good communication, basic and clean accommodation  \n",
       "1  Good, clean, cheap accomodation in proximity t...  \n",
       "2  A nice room, very close to impact arena, also ...  \n",
       "3  The landlord sister is really kind and lovely....  \n",
       "4  The room was very new, cleand and well funishe...  "
      ]
     },
     "execution_count": 6,
     "metadata": {},
     "output_type": "execute_result"
    }
   ],
   "source": [
    "reviews.head()"
   ]
  },
  {
   "cell_type": "code",
   "execution_count": 125,
   "id": "db328409",
   "metadata": {},
   "outputs": [
    {
     "data": {
      "text/html": [
       "<div>\n",
       "<style scoped>\n",
       "    .dataframe tbody tr th:only-of-type {\n",
       "        vertical-align: middle;\n",
       "    }\n",
       "\n",
       "    .dataframe tbody tr th {\n",
       "        vertical-align: top;\n",
       "    }\n",
       "\n",
       "    .dataframe thead th {\n",
       "        text-align: right;\n",
       "    }\n",
       "</style>\n",
       "<table border=\"1\" class=\"dataframe\">\n",
       "  <thead>\n",
       "    <tr style=\"text-align: right;\">\n",
       "      <th></th>\n",
       "      <th>listing_id</th>\n",
       "      <th>date</th>\n",
       "      <th>available</th>\n",
       "      <th>price</th>\n",
       "      <th>adjusted_price</th>\n",
       "      <th>minimum_nights</th>\n",
       "      <th>maximum_nights</th>\n",
       "    </tr>\n",
       "  </thead>\n",
       "  <tbody>\n",
       "    <tr>\n",
       "      <th>6230185</th>\n",
       "      <td>39544047</td>\n",
       "      <td>2022-06-20</td>\n",
       "      <td>t</td>\n",
       "      <td>$600.00</td>\n",
       "      <td>$600.00</td>\n",
       "      <td>15.0</td>\n",
       "      <td>1125.0</td>\n",
       "    </tr>\n",
       "    <tr>\n",
       "      <th>6230186</th>\n",
       "      <td>39544047</td>\n",
       "      <td>2022-06-21</td>\n",
       "      <td>f</td>\n",
       "      <td>$600.00</td>\n",
       "      <td>$600.00</td>\n",
       "      <td>15.0</td>\n",
       "      <td>1125.0</td>\n",
       "    </tr>\n",
       "    <tr>\n",
       "      <th>6230187</th>\n",
       "      <td>39544047</td>\n",
       "      <td>2022-06-22</td>\n",
       "      <td>f</td>\n",
       "      <td>$600.00</td>\n",
       "      <td>$600.00</td>\n",
       "      <td>15.0</td>\n",
       "      <td>1125.0</td>\n",
       "    </tr>\n",
       "    <tr>\n",
       "      <th>6230188</th>\n",
       "      <td>39544047</td>\n",
       "      <td>2022-06-23</td>\n",
       "      <td>t</td>\n",
       "      <td>$600.00</td>\n",
       "      <td>$600.00</td>\n",
       "      <td>15.0</td>\n",
       "      <td>1125.0</td>\n",
       "    </tr>\n",
       "    <tr>\n",
       "      <th>6230189</th>\n",
       "      <td>39544047</td>\n",
       "      <td>2022-06-24</td>\n",
       "      <td>t</td>\n",
       "      <td>$600.00</td>\n",
       "      <td>$600.00</td>\n",
       "      <td>15.0</td>\n",
       "      <td>1125.0</td>\n",
       "    </tr>\n",
       "    <tr>\n",
       "      <th>...</th>\n",
       "      <td>...</td>\n",
       "      <td>...</td>\n",
       "      <td>...</td>\n",
       "      <td>...</td>\n",
       "      <td>...</td>\n",
       "      <td>...</td>\n",
       "      <td>...</td>\n",
       "    </tr>\n",
       "    <tr>\n",
       "      <th>6230545</th>\n",
       "      <td>39544047</td>\n",
       "      <td>2023-06-15</td>\n",
       "      <td>f</td>\n",
       "      <td>$600.00</td>\n",
       "      <td>$600.00</td>\n",
       "      <td>15.0</td>\n",
       "      <td>1125.0</td>\n",
       "    </tr>\n",
       "    <tr>\n",
       "      <th>6230546</th>\n",
       "      <td>39544047</td>\n",
       "      <td>2023-06-16</td>\n",
       "      <td>f</td>\n",
       "      <td>$600.00</td>\n",
       "      <td>$600.00</td>\n",
       "      <td>15.0</td>\n",
       "      <td>1125.0</td>\n",
       "    </tr>\n",
       "    <tr>\n",
       "      <th>6230547</th>\n",
       "      <td>39544047</td>\n",
       "      <td>2023-06-17</td>\n",
       "      <td>f</td>\n",
       "      <td>$600.00</td>\n",
       "      <td>$600.00</td>\n",
       "      <td>15.0</td>\n",
       "      <td>1125.0</td>\n",
       "    </tr>\n",
       "    <tr>\n",
       "      <th>6230548</th>\n",
       "      <td>39544047</td>\n",
       "      <td>2023-06-18</td>\n",
       "      <td>f</td>\n",
       "      <td>$600.00</td>\n",
       "      <td>$600.00</td>\n",
       "      <td>15.0</td>\n",
       "      <td>1125.0</td>\n",
       "    </tr>\n",
       "    <tr>\n",
       "      <th>6230549</th>\n",
       "      <td>39544047</td>\n",
       "      <td>2023-06-19</td>\n",
       "      <td>f</td>\n",
       "      <td>$600.00</td>\n",
       "      <td>$600.00</td>\n",
       "      <td>15.0</td>\n",
       "      <td>1125.0</td>\n",
       "    </tr>\n",
       "  </tbody>\n",
       "</table>\n",
       "<p>365 rows × 7 columns</p>\n",
       "</div>"
      ],
      "text/plain": [
       "         listing_id        date available    price adjusted_price  \\\n",
       "6230185    39544047  2022-06-20         t  $600.00        $600.00   \n",
       "6230186    39544047  2022-06-21         f  $600.00        $600.00   \n",
       "6230187    39544047  2022-06-22         f  $600.00        $600.00   \n",
       "6230188    39544047  2022-06-23         t  $600.00        $600.00   \n",
       "6230189    39544047  2022-06-24         t  $600.00        $600.00   \n",
       "...             ...         ...       ...      ...            ...   \n",
       "6230545    39544047  2023-06-15         f  $600.00        $600.00   \n",
       "6230546    39544047  2023-06-16         f  $600.00        $600.00   \n",
       "6230547    39544047  2023-06-17         f  $600.00        $600.00   \n",
       "6230548    39544047  2023-06-18         f  $600.00        $600.00   \n",
       "6230549    39544047  2023-06-19         f  $600.00        $600.00   \n",
       "\n",
       "         minimum_nights  maximum_nights  \n",
       "6230185            15.0          1125.0  \n",
       "6230186            15.0          1125.0  \n",
       "6230187            15.0          1125.0  \n",
       "6230188            15.0          1125.0  \n",
       "6230189            15.0          1125.0  \n",
       "...                 ...             ...  \n",
       "6230545            15.0          1125.0  \n",
       "6230546            15.0          1125.0  \n",
       "6230547            15.0          1125.0  \n",
       "6230548            15.0          1125.0  \n",
       "6230549            15.0          1125.0  \n",
       "\n",
       "[365 rows x 7 columns]"
      ]
     },
     "execution_count": 125,
     "metadata": {},
     "output_type": "execute_result"
    }
   ],
   "source": [
    "calendar[calendar['listing_id'] == 39544047]"
   ]
  },
  {
   "cell_type": "code",
   "execution_count": 126,
   "id": "a83b7e8f",
   "metadata": {},
   "outputs": [
    {
     "data": {
      "text/html": [
       "<div>\n",
       "<style scoped>\n",
       "    .dataframe tbody tr th:only-of-type {\n",
       "        vertical-align: middle;\n",
       "    }\n",
       "\n",
       "    .dataframe tbody tr th {\n",
       "        vertical-align: top;\n",
       "    }\n",
       "\n",
       "    .dataframe thead th {\n",
       "        text-align: right;\n",
       "    }\n",
       "</style>\n",
       "<table border=\"1\" class=\"dataframe\">\n",
       "  <thead>\n",
       "    <tr style=\"text-align: right;\">\n",
       "      <th></th>\n",
       "      <th>listing_id</th>\n",
       "      <th>id</th>\n",
       "      <th>date</th>\n",
       "      <th>reviewer_id</th>\n",
       "      <th>reviewer_name</th>\n",
       "      <th>comments</th>\n",
       "    </tr>\n",
       "  </thead>\n",
       "  <tbody>\n",
       "    <tr>\n",
       "      <th>0</th>\n",
       "      <td>39544047</td>\n",
       "      <td>564106023</td>\n",
       "      <td>2019-11-15</td>\n",
       "      <td>273940743</td>\n",
       "      <td>Kim</td>\n",
       "      <td>Good communication, basic and clean accommodation</td>\n",
       "    </tr>\n",
       "    <tr>\n",
       "      <th>1</th>\n",
       "      <td>39544047</td>\n",
       "      <td>566622127</td>\n",
       "      <td>2019-11-20</td>\n",
       "      <td>143251478</td>\n",
       "      <td>Oliver</td>\n",
       "      <td>Good, clean, cheap accomodation in proximity t...</td>\n",
       "    </tr>\n",
       "    <tr>\n",
       "      <th>2</th>\n",
       "      <td>39544047</td>\n",
       "      <td>568138380</td>\n",
       "      <td>2019-11-24</td>\n",
       "      <td>288635322</td>\n",
       "      <td>Doris</td>\n",
       "      <td>A nice room, very close to impact arena, also ...</td>\n",
       "    </tr>\n",
       "    <tr>\n",
       "      <th>3</th>\n",
       "      <td>39544047</td>\n",
       "      <td>568816394</td>\n",
       "      <td>2019-11-24</td>\n",
       "      <td>163790201</td>\n",
       "      <td>Yang</td>\n",
       "      <td>The landlord sister is really kind and lovely....</td>\n",
       "    </tr>\n",
       "    <tr>\n",
       "      <th>4</th>\n",
       "      <td>39544047</td>\n",
       "      <td>597651173</td>\n",
       "      <td>2020-01-26</td>\n",
       "      <td>317920443</td>\n",
       "      <td>Kunat</td>\n",
       "      <td>The room was very new, cleand and well funishe...</td>\n",
       "    </tr>\n",
       "    <tr>\n",
       "      <th>5</th>\n",
       "      <td>39544047</td>\n",
       "      <td>614381661</td>\n",
       "      <td>2020-03-05</td>\n",
       "      <td>19143977</td>\n",
       "      <td>Ploi</td>\n",
       "      <td>ห้องดี ใหม่ สะอาด เจ้าของอัธยาศัยดีมาก แนะนำดี...</td>\n",
       "    </tr>\n",
       "  </tbody>\n",
       "</table>\n",
       "</div>"
      ],
      "text/plain": [
       "   listing_id         id        date  reviewer_id reviewer_name  \\\n",
       "0    39544047  564106023  2019-11-15    273940743           Kim   \n",
       "1    39544047  566622127  2019-11-20    143251478        Oliver   \n",
       "2    39544047  568138380  2019-11-24    288635322         Doris   \n",
       "3    39544047  568816394  2019-11-24    163790201          Yang   \n",
       "4    39544047  597651173  2020-01-26    317920443         Kunat   \n",
       "5    39544047  614381661  2020-03-05     19143977          Ploi   \n",
       "\n",
       "                                            comments  \n",
       "0  Good communication, basic and clean accommodation  \n",
       "1  Good, clean, cheap accomodation in proximity t...  \n",
       "2  A nice room, very close to impact arena, also ...  \n",
       "3  The landlord sister is really kind and lovely....  \n",
       "4  The room was very new, cleand and well funishe...  \n",
       "5  ห้องดี ใหม่ สะอาด เจ้าของอัธยาศัยดีมาก แนะนำดี...  "
      ]
     },
     "execution_count": 126,
     "metadata": {},
     "output_type": "execute_result"
    }
   ],
   "source": [
    "reviews[reviews['listing_id'] == 39544047]"
   ]
  },
  {
   "cell_type": "markdown",
   "id": "25d7952a",
   "metadata": {},
   "source": [
    "### 2.1 Data Size"
   ]
  },
  {
   "cell_type": "markdown",
   "id": "d6f079ef",
   "metadata": {},
   "source": [
    "The reviews csv has 246644 rows and 6 attributes."
   ]
  },
  {
   "cell_type": "code",
   "execution_count": 7,
   "id": "65bbbf62",
   "metadata": {},
   "outputs": [
    {
     "data": {
      "text/plain": [
       "(246644, 6)"
      ]
     },
     "execution_count": 7,
     "metadata": {},
     "output_type": "execute_result"
    }
   ],
   "source": [
    "reviews.shape"
   ]
  },
  {
   "cell_type": "markdown",
   "id": "7a9259e6",
   "metadata": {},
   "source": [
    "### 2.2 Attribute Meaning"
   ]
  },
  {
   "cell_type": "markdown",
   "id": "fbebd238",
   "metadata": {},
   "source": [
    "* **listing_id**: listing id of the aibnb housing, <span style=\"color:blue\">*same as listing_id in calendar*</span>\n",
    "* **id**: the review's id\n",
    "* **date**: the date of the review\n",
    "* **reviewer_id**: the reviewer's id\n",
    "* **reviewer_name**: the reviewer's name\n",
    "* **comments**: the review's comment"
   ]
  },
  {
   "cell_type": "markdown",
   "id": "ae49b24f",
   "metadata": {},
   "source": [
    "### 2.3 Attribute Data Type"
   ]
  },
  {
   "cell_type": "code",
   "execution_count": 166,
   "id": "62217d80",
   "metadata": {},
   "outputs": [
    {
     "data": {
      "text/plain": [
       "listing_id        int64\n",
       "id                int64\n",
       "date             object\n",
       "reviewer_id       int64\n",
       "reviewer_name    object\n",
       "comments         object\n",
       "dtype: object"
      ]
     },
     "execution_count": 166,
     "metadata": {},
     "output_type": "execute_result"
    }
   ],
   "source": [
    "reviews.dtypes"
   ]
  },
  {
   "cell_type": "markdown",
   "id": "f0041954",
   "metadata": {},
   "source": [
    "* **listing_id**: integer  \n",
    "might convert to varchar(18) in SQL\n",
    "* **id**: integer  \n",
    "might convert to varchar(18) in SQL\n",
    "* **date**: string  \n",
    "might convert to date type in SQL\n",
    "* **reviewer_id**: integer\n",
    "might convert to varchar(9) in SQL\n",
    "* **review_name**: string  \n",
    "might convert to varchar(42) in SQL, length may need to increase\n",
    "* **comments**: string  \n",
    "might convert to varchar(6577) in SQL, length may need to increase"
   ]
  },
  {
   "cell_type": "markdown",
   "id": "835b5135",
   "metadata": {},
   "source": [
    "### 2.4 Attribute Domain and Volume"
   ]
  },
  {
   "cell_type": "markdown",
   "id": "c7ffc7d2",
   "metadata": {},
   "source": [
    "**listing_id**: 10012 unique listing ids. Max 18 digits in total. <span style=\"color:blue\">*All listing_ids in reviews are in calendar.*</span>"
   ]
  },
  {
   "cell_type": "code",
   "execution_count": 178,
   "id": "7fd46365",
   "metadata": {},
   "outputs": [
    {
     "data": {
      "text/plain": [
       "10012"
      ]
     },
     "execution_count": 178,
     "metadata": {},
     "output_type": "execute_result"
    }
   ],
   "source": [
    "reviews['listing_id'].nunique()"
   ]
  },
  {
   "cell_type": "code",
   "execution_count": 186,
   "id": "d4f727b9",
   "metadata": {},
   "outputs": [
    {
     "data": {
      "text/plain": [
       "18"
      ]
     },
     "execution_count": 186,
     "metadata": {},
     "output_type": "execute_result"
    }
   ],
   "source": [
    "len(str(max(reviews['listing_id'])))"
   ]
  },
  {
   "cell_type": "code",
   "execution_count": 180,
   "id": "0f01c84f",
   "metadata": {},
   "outputs": [
    {
     "data": {
      "text/plain": [
       "246644"
      ]
     },
     "execution_count": 180,
     "metadata": {},
     "output_type": "execute_result"
    }
   ],
   "source": [
    "contains = reviews.listing_id.isin(calendar.listing_id)\n",
    "sum(contains)"
   ]
  },
  {
   "cell_type": "markdown",
   "id": "41537df9",
   "metadata": {},
   "source": [
    "**id**: all reviews' ids are unique. Max 18 digits in total."
   ]
  },
  {
   "cell_type": "code",
   "execution_count": 188,
   "id": "74746c8b",
   "metadata": {},
   "outputs": [
    {
     "data": {
      "text/plain": [
       "246644"
      ]
     },
     "execution_count": 188,
     "metadata": {},
     "output_type": "execute_result"
    }
   ],
   "source": [
    "reviews['id'].nunique()"
   ]
  },
  {
   "cell_type": "code",
   "execution_count": 189,
   "id": "9b3897f4",
   "metadata": {},
   "outputs": [
    {
     "data": {
      "text/plain": [
       "18"
      ]
     },
     "execution_count": 189,
     "metadata": {},
     "output_type": "execute_result"
    }
   ],
   "source": [
    "len(str(max(reviews['id'])))"
   ]
  },
  {
   "cell_type": "markdown",
   "id": "b3cda6f0",
   "metadata": {},
   "source": [
    "**date**: the reviews starts from 2011/02/09 to 2022/06/21. <span style=\"color:blue\">Comparing with the date of calendar, not much overlapping.</span> In addition, the review date does not need to be a leave date or occupying date of the reviewer."
   ]
  },
  {
   "cell_type": "code",
   "execution_count": 191,
   "id": "39a4fd89",
   "metadata": {},
   "outputs": [],
   "source": [
    "# convert date to datetime object\n",
    "date = pd.to_datetime(reviews['date'])"
   ]
  },
  {
   "cell_type": "code",
   "execution_count": 192,
   "id": "d11c1813",
   "metadata": {},
   "outputs": [
    {
     "data": {
      "text/plain": [
       "0   2019-11-15\n",
       "1   2019-11-20\n",
       "2   2019-11-24\n",
       "3   2019-11-24\n",
       "4   2020-01-26\n",
       "Name: date, dtype: datetime64[ns]"
      ]
     },
     "execution_count": 192,
     "metadata": {},
     "output_type": "execute_result"
    }
   ],
   "source": [
    "date.head()"
   ]
  },
  {
   "cell_type": "code",
   "execution_count": 193,
   "id": "79098b55",
   "metadata": {},
   "outputs": [
    {
     "data": {
      "text/plain": [
       "Timestamp('2022-06-21 00:00:00')"
      ]
     },
     "execution_count": 193,
     "metadata": {},
     "output_type": "execute_result"
    }
   ],
   "source": [
    "max(date)"
   ]
  },
  {
   "cell_type": "code",
   "execution_count": 194,
   "id": "03e3aaba",
   "metadata": {},
   "outputs": [
    {
     "data": {
      "text/plain": [
       "Timestamp('2011-02-09 00:00:00')"
      ]
     },
     "execution_count": 194,
     "metadata": {},
     "output_type": "execute_result"
    }
   ],
   "source": [
    "min(date)"
   ]
  },
  {
   "cell_type": "code",
   "execution_count": 199,
   "id": "480a8b00",
   "metadata": {},
   "outputs": [
    {
     "data": {
      "text/html": [
       "<div>\n",
       "<style scoped>\n",
       "    .dataframe tbody tr th:only-of-type {\n",
       "        vertical-align: middle;\n",
       "    }\n",
       "\n",
       "    .dataframe tbody tr th {\n",
       "        vertical-align: top;\n",
       "    }\n",
       "\n",
       "    .dataframe thead th {\n",
       "        text-align: right;\n",
       "    }\n",
       "</style>\n",
       "<table border=\"1\" class=\"dataframe\">\n",
       "  <thead>\n",
       "    <tr style=\"text-align: right;\">\n",
       "      <th></th>\n",
       "      <th>listing_id</th>\n",
       "      <th>id</th>\n",
       "      <th>date</th>\n",
       "      <th>reviewer_id</th>\n",
       "      <th>reviewer_name</th>\n",
       "      <th>comments</th>\n",
       "    </tr>\n",
       "  </thead>\n",
       "  <tbody>\n",
       "    <tr>\n",
       "      <th>14645</th>\n",
       "      <td>858311</td>\n",
       "      <td>653221150236329866</td>\n",
       "      <td>2022-06-20</td>\n",
       "      <td>333271858</td>\n",
       "      <td>Darnell</td>\n",
       "      <td>Amazing place great communication. Very respon...</td>\n",
       "    </tr>\n",
       "    <tr>\n",
       "      <th>14842</th>\n",
       "      <td>3480807</td>\n",
       "      <td>653302870648996654</td>\n",
       "      <td>2022-06-20</td>\n",
       "      <td>48214584</td>\n",
       "      <td>Rajat</td>\n",
       "      <td>Great place. Clean and amazing location.</td>\n",
       "    </tr>\n",
       "    <tr>\n",
       "      <th>19037</th>\n",
       "      <td>3794264</td>\n",
       "      <td>653210888142648490</td>\n",
       "      <td>2022-06-20</td>\n",
       "      <td>187999745</td>\n",
       "      <td>媛宝宝</td>\n",
       "      <td>位置微偏，但是房间不错，房间很大，比一室一厅的面积都大。性价比高</td>\n",
       "    </tr>\n",
       "    <tr>\n",
       "      <th>106956</th>\n",
       "      <td>16244017</td>\n",
       "      <td>653269184130258586</td>\n",
       "      <td>2022-06-20</td>\n",
       "      <td>321228181</td>\n",
       "      <td>Maksim</td>\n",
       "      <td>Yumi was a good host, we enjoyed staying at Ha...</td>\n",
       "    </tr>\n",
       "    <tr>\n",
       "      <th>116089</th>\n",
       "      <td>17933003</td>\n",
       "      <td>653283981037470647</td>\n",
       "      <td>2022-06-20</td>\n",
       "      <td>462297420</td>\n",
       "      <td>Martin</td>\n",
       "      <td>Very friendly host</td>\n",
       "    </tr>\n",
       "    <tr>\n",
       "      <th>129559</th>\n",
       "      <td>19126623</td>\n",
       "      <td>653211565757063571</td>\n",
       "      <td>2022-06-20</td>\n",
       "      <td>250649854</td>\n",
       "      <td>Kotoko</td>\n",
       "      <td>It was super nice staying! I will come back ag...</td>\n",
       "    </tr>\n",
       "    <tr>\n",
       "      <th>141279</th>\n",
       "      <td>21132272</td>\n",
       "      <td>653233196299440744</td>\n",
       "      <td>2022-06-20</td>\n",
       "      <td>375821837</td>\n",
       "      <td>Donald</td>\n",
       "      <td>Good short stay</td>\n",
       "    </tr>\n",
       "    <tr>\n",
       "      <th>152431</th>\n",
       "      <td>22996193</td>\n",
       "      <td>653320871220926467</td>\n",
       "      <td>2022-06-20</td>\n",
       "      <td>62711599</td>\n",
       "      <td>Chuck Sin</td>\n",
       "      <td>Great location, very near to BTS station, conv...</td>\n",
       "    </tr>\n",
       "    <tr>\n",
       "      <th>161386</th>\n",
       "      <td>23470809</td>\n",
       "      <td>653992104424290922</td>\n",
       "      <td>2022-06-21</td>\n",
       "      <td>314828448</td>\n",
       "      <td>Joey</td>\n",
       "      <td>nice place!</td>\n",
       "    </tr>\n",
       "    <tr>\n",
       "      <th>168078</th>\n",
       "      <td>26304795</td>\n",
       "      <td>653248413762835158</td>\n",
       "      <td>2022-06-20</td>\n",
       "      <td>234327762</td>\n",
       "      <td>Eunice</td>\n",
       "      <td>spacious and cozy room, very attentive and hel...</td>\n",
       "    </tr>\n",
       "    <tr>\n",
       "      <th>183921</th>\n",
       "      <td>29794274</td>\n",
       "      <td>653278595508847916</td>\n",
       "      <td>2022-06-20</td>\n",
       "      <td>154891645</td>\n",
       "      <td>Lena</td>\n",
       "      <td>Sa made me feel very safe in Bangkok, I was ab...</td>\n",
       "    </tr>\n",
       "    <tr>\n",
       "      <th>188005</th>\n",
       "      <td>30609037</td>\n",
       "      <td>653301271827642405</td>\n",
       "      <td>2022-06-20</td>\n",
       "      <td>169048849</td>\n",
       "      <td>Muhammad Rozaini</td>\n",
       "      <td>thanks to the owner for the hospitality&lt;br/&gt;&lt;b...</td>\n",
       "    </tr>\n",
       "    <tr>\n",
       "      <th>196645</th>\n",
       "      <td>32251879</td>\n",
       "      <td>653252863451567778</td>\n",
       "      <td>2022-06-20</td>\n",
       "      <td>14738566</td>\n",
       "      <td>Ivan</td>\n",
       "      <td>Very nice place, clean, comfy, have washer, ki...</td>\n",
       "    </tr>\n",
       "    <tr>\n",
       "      <th>201017</th>\n",
       "      <td>32929190</td>\n",
       "      <td>653268947703678215</td>\n",
       "      <td>2022-06-20</td>\n",
       "      <td>305448170</td>\n",
       "      <td>Adithya</td>\n",
       "      <td>the place is quite interior for exploring thin...</td>\n",
       "    </tr>\n",
       "    <tr>\n",
       "      <th>202007</th>\n",
       "      <td>32850770</td>\n",
       "      <td>653324742413363025</td>\n",
       "      <td>2022-06-20</td>\n",
       "      <td>19727660</td>\n",
       "      <td>Elijah</td>\n",
       "      <td>Great location, just a few minutes from chit L...</td>\n",
       "    </tr>\n",
       "    <tr>\n",
       "      <th>210813</th>\n",
       "      <td>34798073</td>\n",
       "      <td>653280369385583244</td>\n",
       "      <td>2022-06-20</td>\n",
       "      <td>408086834</td>\n",
       "      <td>小明</td>\n",
       "      <td>房东人很好，房东会中文，会解答所有的问题，包括附近的便利店，商场等。很耐心细心的房东</td>\n",
       "    </tr>\n",
       "    <tr>\n",
       "      <th>211148</th>\n",
       "      <td>35117652</td>\n",
       "      <td>653449548505438732</td>\n",
       "      <td>2022-06-20</td>\n",
       "      <td>282373824</td>\n",
       "      <td>Nadi</td>\n",
       "      <td>The host canceled this reservation the day bef...</td>\n",
       "    </tr>\n",
       "    <tr>\n",
       "      <th>220037</th>\n",
       "      <td>37611002</td>\n",
       "      <td>653299079939274899</td>\n",
       "      <td>2022-06-20</td>\n",
       "      <td>3805024</td>\n",
       "      <td>Cheng-Han</td>\n",
       "      <td>The Airbnb is absolutely fantastic. It’s locat...</td>\n",
       "    </tr>\n",
       "    <tr>\n",
       "      <th>222314</th>\n",
       "      <td>38396099</td>\n",
       "      <td>653322659967222268</td>\n",
       "      <td>2022-06-20</td>\n",
       "      <td>461705237</td>\n",
       "      <td>Việt</td>\n",
       "      <td>Moi thức sạch sẽ, nhưng sẽ khó khăn khi di chu...</td>\n",
       "    </tr>\n",
       "    <tr>\n",
       "      <th>226458</th>\n",
       "      <td>39439082</td>\n",
       "      <td>653259012488370864</td>\n",
       "      <td>2022-06-20</td>\n",
       "      <td>401724766</td>\n",
       "      <td>笠原</td>\n",
       "      <td>Good one, I want to stay again</td>\n",
       "    </tr>\n",
       "    <tr>\n",
       "      <th>226849</th>\n",
       "      <td>39301909</td>\n",
       "      <td>653244791624627622</td>\n",
       "      <td>2022-06-20</td>\n",
       "      <td>80690478</td>\n",
       "      <td>Christian</td>\n",
       "      <td>The house is very clean, it is amazingly beaut...</td>\n",
       "    </tr>\n",
       "    <tr>\n",
       "      <th>231824</th>\n",
       "      <td>41023569</td>\n",
       "      <td>653238710648611047</td>\n",
       "      <td>2022-06-20</td>\n",
       "      <td>149653883</td>\n",
       "      <td>Peter</td>\n",
       "      <td>I liked the building a lot. There is a huge po...</td>\n",
       "    </tr>\n",
       "    <tr>\n",
       "      <th>232099</th>\n",
       "      <td>41549886</td>\n",
       "      <td>653337837963900691</td>\n",
       "      <td>2022-06-20</td>\n",
       "      <td>461825902</td>\n",
       "      <td>Aloysius</td>\n",
       "      <td>The host canceled this reservation the day bef...</td>\n",
       "    </tr>\n",
       "    <tr>\n",
       "      <th>232394</th>\n",
       "      <td>41725530</td>\n",
       "      <td>653227533692526678</td>\n",
       "      <td>2022-06-20</td>\n",
       "      <td>462676525</td>\n",
       "      <td>Nasrul</td>\n",
       "      <td>good place to stay</td>\n",
       "    </tr>\n",
       "    <tr>\n",
       "      <th>234182</th>\n",
       "      <td>42300955</td>\n",
       "      <td>653300632735400886</td>\n",
       "      <td>2022-06-20</td>\n",
       "      <td>211621808</td>\n",
       "      <td>Trine</td>\n",
       "      <td>Cute little appartment. Quite a hard bed and f...</td>\n",
       "    </tr>\n",
       "    <tr>\n",
       "      <th>234213</th>\n",
       "      <td>42822570</td>\n",
       "      <td>653945262088095640</td>\n",
       "      <td>2022-06-21</td>\n",
       "      <td>237596777</td>\n",
       "      <td>하영</td>\n",
       "      <td>Clean and comfortable, cozy house</td>\n",
       "    </tr>\n",
       "    <tr>\n",
       "      <th>236439</th>\n",
       "      <td>45485860</td>\n",
       "      <td>653252045982909551</td>\n",
       "      <td>2022-06-20</td>\n",
       "      <td>261721673</td>\n",
       "      <td>Guanxiong</td>\n",
       "      <td>The apartment has a very good location. It is ...</td>\n",
       "    </tr>\n",
       "    <tr>\n",
       "      <th>236486</th>\n",
       "      <td>45546446</td>\n",
       "      <td>653286963688347468</td>\n",
       "      <td>2022-06-20</td>\n",
       "      <td>412455666</td>\n",
       "      <td>Wang</td>\n",
       "      <td>地理位置优越，安静安全干净，床垫舒服，房东人好，五星推荐。下次来曼谷一定还住这里。</td>\n",
       "    </tr>\n",
       "    <tr>\n",
       "      <th>236989</th>\n",
       "      <td>47314816</td>\n",
       "      <td>653275483161594500</td>\n",
       "      <td>2022-06-20</td>\n",
       "      <td>10106742</td>\n",
       "      <td>Brandon</td>\n",
       "      <td>Was a great stay. Close to everything I needed...</td>\n",
       "    </tr>\n",
       "    <tr>\n",
       "      <th>239137</th>\n",
       "      <td>53074860</td>\n",
       "      <td>653250357413039676</td>\n",
       "      <td>2022-06-20</td>\n",
       "      <td>175178232</td>\n",
       "      <td>Long</td>\n",
       "      <td>Nice location for going around. The house is n...</td>\n",
       "    </tr>\n",
       "    <tr>\n",
       "      <th>239695</th>\n",
       "      <td>53906141</td>\n",
       "      <td>653283467950940204</td>\n",
       "      <td>2022-06-20</td>\n",
       "      <td>299516718</td>\n",
       "      <td>Kaung</td>\n",
       "      <td>Great place to stay</td>\n",
       "    </tr>\n",
       "    <tr>\n",
       "      <th>239928</th>\n",
       "      <td>53273274</td>\n",
       "      <td>653258127355475461</td>\n",
       "      <td>2022-06-20</td>\n",
       "      <td>457458545</td>\n",
       "      <td>T.</td>\n",
       "      <td>Quick and easy check in and out. Close to all,...</td>\n",
       "    </tr>\n",
       "    <tr>\n",
       "      <th>240569</th>\n",
       "      <td>559631317234095791</td>\n",
       "      <td>653207501166277990</td>\n",
       "      <td>2022-06-20</td>\n",
       "      <td>238709869</td>\n",
       "      <td>Hanne</td>\n",
       "      <td>The room is exactly as described and everythin...</td>\n",
       "    </tr>\n",
       "    <tr>\n",
       "      <th>240728</th>\n",
       "      <td>566364418184313097</td>\n",
       "      <td>653250045367482021</td>\n",
       "      <td>2022-06-20</td>\n",
       "      <td>187603790</td>\n",
       "      <td>Manny</td>\n",
       "      <td>Good location.&lt;br/&gt;Reasonable price.&lt;br/&gt;Lovel...</td>\n",
       "    </tr>\n",
       "    <tr>\n",
       "      <th>240779</th>\n",
       "      <td>566509053628281871</td>\n",
       "      <td>653275136422244310</td>\n",
       "      <td>2022-06-20</td>\n",
       "      <td>95847163</td>\n",
       "      <td>Владимир</td>\n",
       "      <td>bugs are lying and crawling all over the room!...</td>\n",
       "    </tr>\n",
       "    <tr>\n",
       "      <th>241531</th>\n",
       "      <td>637376723056702054</td>\n",
       "      <td>653320088838926516</td>\n",
       "      <td>2022-06-20</td>\n",
       "      <td>141937943</td>\n",
       "      <td>Vitaya</td>\n",
       "      <td>Lovely room, comfortable bed and really clean 😊</td>\n",
       "    </tr>\n",
       "    <tr>\n",
       "      <th>241532</th>\n",
       "      <td>638242667328248451</td>\n",
       "      <td>653217175281011237</td>\n",
       "      <td>2022-06-20</td>\n",
       "      <td>460963464</td>\n",
       "      <td>Wang</td>\n",
       "      <td>The environment is very good, very clean and t...</td>\n",
       "    </tr>\n",
       "    <tr>\n",
       "      <th>241550</th>\n",
       "      <td>640990832929071656</td>\n",
       "      <td>653279408082418978</td>\n",
       "      <td>2022-06-20</td>\n",
       "      <td>38574395</td>\n",
       "      <td>Nigel</td>\n",
       "      <td>Lovely condo, close to Nana.&lt;br/&gt;Has supermark...</td>\n",
       "    </tr>\n",
       "    <tr>\n",
       "      <th>241558</th>\n",
       "      <td>642962332181384076</td>\n",
       "      <td>653285358662798099</td>\n",
       "      <td>2022-06-20</td>\n",
       "      <td>36449081</td>\n",
       "      <td>Kristian</td>\n",
       "      <td>In short, excellent stay! &lt;br/&gt;The apartment i...</td>\n",
       "    </tr>\n",
       "    <tr>\n",
       "      <th>241559</th>\n",
       "      <td>643718266455189838</td>\n",
       "      <td>653180511853993593</td>\n",
       "      <td>2022-06-20</td>\n",
       "      <td>55847742</td>\n",
       "      <td>Kevin</td>\n",
       "      <td>The host canceled this reservation 11 days bef...</td>\n",
       "    </tr>\n",
       "    <tr>\n",
       "      <th>241584</th>\n",
       "      <td>628817628163732413</td>\n",
       "      <td>653286040563113269</td>\n",
       "      <td>2022-06-20</td>\n",
       "      <td>432242342</td>\n",
       "      <td>Chiara</td>\n",
       "      <td>L’appartamento è fuori dalla fermata dello sky...</td>\n",
       "    </tr>\n",
       "  </tbody>\n",
       "</table>\n",
       "</div>"
      ],
      "text/plain": [
       "                listing_id                  id        date  reviewer_id  \\\n",
       "14645               858311  653221150236329866  2022-06-20    333271858   \n",
       "14842              3480807  653302870648996654  2022-06-20     48214584   \n",
       "19037              3794264  653210888142648490  2022-06-20    187999745   \n",
       "106956            16244017  653269184130258586  2022-06-20    321228181   \n",
       "116089            17933003  653283981037470647  2022-06-20    462297420   \n",
       "129559            19126623  653211565757063571  2022-06-20    250649854   \n",
       "141279            21132272  653233196299440744  2022-06-20    375821837   \n",
       "152431            22996193  653320871220926467  2022-06-20     62711599   \n",
       "161386            23470809  653992104424290922  2022-06-21    314828448   \n",
       "168078            26304795  653248413762835158  2022-06-20    234327762   \n",
       "183921            29794274  653278595508847916  2022-06-20    154891645   \n",
       "188005            30609037  653301271827642405  2022-06-20    169048849   \n",
       "196645            32251879  653252863451567778  2022-06-20     14738566   \n",
       "201017            32929190  653268947703678215  2022-06-20    305448170   \n",
       "202007            32850770  653324742413363025  2022-06-20     19727660   \n",
       "210813            34798073  653280369385583244  2022-06-20    408086834   \n",
       "211148            35117652  653449548505438732  2022-06-20    282373824   \n",
       "220037            37611002  653299079939274899  2022-06-20      3805024   \n",
       "222314            38396099  653322659967222268  2022-06-20    461705237   \n",
       "226458            39439082  653259012488370864  2022-06-20    401724766   \n",
       "226849            39301909  653244791624627622  2022-06-20     80690478   \n",
       "231824            41023569  653238710648611047  2022-06-20    149653883   \n",
       "232099            41549886  653337837963900691  2022-06-20    461825902   \n",
       "232394            41725530  653227533692526678  2022-06-20    462676525   \n",
       "234182            42300955  653300632735400886  2022-06-20    211621808   \n",
       "234213            42822570  653945262088095640  2022-06-21    237596777   \n",
       "236439            45485860  653252045982909551  2022-06-20    261721673   \n",
       "236486            45546446  653286963688347468  2022-06-20    412455666   \n",
       "236989            47314816  653275483161594500  2022-06-20     10106742   \n",
       "239137            53074860  653250357413039676  2022-06-20    175178232   \n",
       "239695            53906141  653283467950940204  2022-06-20    299516718   \n",
       "239928            53273274  653258127355475461  2022-06-20    457458545   \n",
       "240569  559631317234095791  653207501166277990  2022-06-20    238709869   \n",
       "240728  566364418184313097  653250045367482021  2022-06-20    187603790   \n",
       "240779  566509053628281871  653275136422244310  2022-06-20     95847163   \n",
       "241531  637376723056702054  653320088838926516  2022-06-20    141937943   \n",
       "241532  638242667328248451  653217175281011237  2022-06-20    460963464   \n",
       "241550  640990832929071656  653279408082418978  2022-06-20     38574395   \n",
       "241558  642962332181384076  653285358662798099  2022-06-20     36449081   \n",
       "241559  643718266455189838  653180511853993593  2022-06-20     55847742   \n",
       "241584  628817628163732413  653286040563113269  2022-06-20    432242342   \n",
       "\n",
       "           reviewer_name                                           comments  \n",
       "14645            Darnell  Amazing place great communication. Very respon...  \n",
       "14842              Rajat           Great place. Clean and amazing location.  \n",
       "19037                媛宝宝                   位置微偏，但是房间不错，房间很大，比一室一厅的面积都大。性价比高  \n",
       "106956            Maksim  Yumi was a good host, we enjoyed staying at Ha...  \n",
       "116089            Martin                                 Very friendly host  \n",
       "129559            Kotoko  It was super nice staying! I will come back ag...  \n",
       "141279            Donald                                    Good short stay  \n",
       "152431         Chuck Sin  Great location, very near to BTS station, conv...  \n",
       "161386              Joey                                        nice place!  \n",
       "168078            Eunice  spacious and cozy room, very attentive and hel...  \n",
       "183921              Lena  Sa made me feel very safe in Bangkok, I was ab...  \n",
       "188005  Muhammad Rozaini  thanks to the owner for the hospitality<br/><b...  \n",
       "196645              Ivan  Very nice place, clean, comfy, have washer, ki...  \n",
       "201017           Adithya  the place is quite interior for exploring thin...  \n",
       "202007            Elijah  Great location, just a few minutes from chit L...  \n",
       "210813                小明         房东人很好，房东会中文，会解答所有的问题，包括附近的便利店，商场等。很耐心细心的房东  \n",
       "211148              Nadi  The host canceled this reservation the day bef...  \n",
       "220037         Cheng-Han  The Airbnb is absolutely fantastic. It’s locat...  \n",
       "222314              Việt  Moi thức sạch sẽ, nhưng sẽ khó khăn khi di chu...  \n",
       "226458                笠原                     Good one, I want to stay again  \n",
       "226849         Christian  The house is very clean, it is amazingly beaut...  \n",
       "231824             Peter  I liked the building a lot. There is a huge po...  \n",
       "232099          Aloysius  The host canceled this reservation the day bef...  \n",
       "232394            Nasrul                                 good place to stay  \n",
       "234182             Trine  Cute little appartment. Quite a hard bed and f...  \n",
       "234213                하영                  Clean and comfortable, cozy house  \n",
       "236439         Guanxiong  The apartment has a very good location. It is ...  \n",
       "236486              Wang          地理位置优越，安静安全干净，床垫舒服，房东人好，五星推荐。下次来曼谷一定还住这里。  \n",
       "236989           Brandon  Was a great stay. Close to everything I needed...  \n",
       "239137              Long  Nice location for going around. The house is n...  \n",
       "239695             Kaung                                Great place to stay  \n",
       "239928                T.  Quick and easy check in and out. Close to all,...  \n",
       "240569             Hanne  The room is exactly as described and everythin...  \n",
       "240728             Manny  Good location.<br/>Reasonable price.<br/>Lovel...  \n",
       "240779          Владимир  bugs are lying and crawling all over the room!...  \n",
       "241531            Vitaya    Lovely room, comfortable bed and really clean 😊  \n",
       "241532              Wang  The environment is very good, very clean and t...  \n",
       "241550             Nigel  Lovely condo, close to Nana.<br/>Has supermark...  \n",
       "241558          Kristian  In short, excellent stay! <br/>The apartment i...  \n",
       "241559             Kevin  The host canceled this reservation 11 days bef...  \n",
       "241584            Chiara  L’appartamento è fuori dalla fermata dello sky...  "
      ]
     },
     "execution_count": 199,
     "metadata": {},
     "output_type": "execute_result"
    }
   ],
   "source": [
    "# reviews with review date on and after 2022/06/20, does not guarantee review date is leave/occupying date.\n",
    "reviews[pd.to_datetime(reviews['date']) >= '2022-06-20']"
   ]
  },
  {
   "cell_type": "code",
   "execution_count": 202,
   "id": "65621ab9",
   "metadata": {},
   "outputs": [
    {
     "data": {
      "text/html": [
       "<div>\n",
       "<style scoped>\n",
       "    .dataframe tbody tr th:only-of-type {\n",
       "        vertical-align: middle;\n",
       "    }\n",
       "\n",
       "    .dataframe tbody tr th {\n",
       "        vertical-align: top;\n",
       "    }\n",
       "\n",
       "    .dataframe thead th {\n",
       "        text-align: right;\n",
       "    }\n",
       "</style>\n",
       "<table border=\"1\" class=\"dataframe\">\n",
       "  <thead>\n",
       "    <tr style=\"text-align: right;\">\n",
       "      <th></th>\n",
       "      <th>listing_id</th>\n",
       "      <th>date</th>\n",
       "      <th>available</th>\n",
       "      <th>price</th>\n",
       "      <th>adjusted_price</th>\n",
       "      <th>minimum_nights</th>\n",
       "      <th>maximum_nights</th>\n",
       "    </tr>\n",
       "  </thead>\n",
       "  <tbody>\n",
       "    <tr>\n",
       "      <th>4386205</th>\n",
       "      <td>42822570</td>\n",
       "      <td>2022-06-21</td>\n",
       "      <td>f</td>\n",
       "      <td>$2,684.00</td>\n",
       "      <td>$2,684.00</td>\n",
       "      <td>1.0</td>\n",
       "      <td>1125.0</td>\n",
       "    </tr>\n",
       "    <tr>\n",
       "      <th>4386206</th>\n",
       "      <td>42822570</td>\n",
       "      <td>2022-06-22</td>\n",
       "      <td>f</td>\n",
       "      <td>$2,684.00</td>\n",
       "      <td>$2,684.00</td>\n",
       "      <td>1.0</td>\n",
       "      <td>1125.0</td>\n",
       "    </tr>\n",
       "    <tr>\n",
       "      <th>4386207</th>\n",
       "      <td>42822570</td>\n",
       "      <td>2022-06-23</td>\n",
       "      <td>f</td>\n",
       "      <td>$2,684.00</td>\n",
       "      <td>$2,684.00</td>\n",
       "      <td>1.0</td>\n",
       "      <td>1125.0</td>\n",
       "    </tr>\n",
       "    <tr>\n",
       "      <th>4386208</th>\n",
       "      <td>42822570</td>\n",
       "      <td>2022-06-24</td>\n",
       "      <td>f</td>\n",
       "      <td>$2,684.00</td>\n",
       "      <td>$2,684.00</td>\n",
       "      <td>1.0</td>\n",
       "      <td>1125.0</td>\n",
       "    </tr>\n",
       "    <tr>\n",
       "      <th>4386209</th>\n",
       "      <td>42822570</td>\n",
       "      <td>2022-06-25</td>\n",
       "      <td>f</td>\n",
       "      <td>$2,684.00</td>\n",
       "      <td>$2,684.00</td>\n",
       "      <td>1.0</td>\n",
       "      <td>1125.0</td>\n",
       "    </tr>\n",
       "    <tr>\n",
       "      <th>...</th>\n",
       "      <td>...</td>\n",
       "      <td>...</td>\n",
       "      <td>...</td>\n",
       "      <td>...</td>\n",
       "      <td>...</td>\n",
       "      <td>...</td>\n",
       "      <td>...</td>\n",
       "    </tr>\n",
       "    <tr>\n",
       "      <th>4386565</th>\n",
       "      <td>42822570</td>\n",
       "      <td>2023-06-16</td>\n",
       "      <td>f</td>\n",
       "      <td>$2,684.00</td>\n",
       "      <td>$2,684.00</td>\n",
       "      <td>1.0</td>\n",
       "      <td>1125.0</td>\n",
       "    </tr>\n",
       "    <tr>\n",
       "      <th>4386566</th>\n",
       "      <td>42822570</td>\n",
       "      <td>2023-06-17</td>\n",
       "      <td>f</td>\n",
       "      <td>$2,684.00</td>\n",
       "      <td>$2,684.00</td>\n",
       "      <td>1.0</td>\n",
       "      <td>1125.0</td>\n",
       "    </tr>\n",
       "    <tr>\n",
       "      <th>4386567</th>\n",
       "      <td>42822570</td>\n",
       "      <td>2023-06-18</td>\n",
       "      <td>f</td>\n",
       "      <td>$2,684.00</td>\n",
       "      <td>$2,684.00</td>\n",
       "      <td>1.0</td>\n",
       "      <td>1125.0</td>\n",
       "    </tr>\n",
       "    <tr>\n",
       "      <th>4386568</th>\n",
       "      <td>42822570</td>\n",
       "      <td>2023-06-19</td>\n",
       "      <td>f</td>\n",
       "      <td>$2,684.00</td>\n",
       "      <td>$2,684.00</td>\n",
       "      <td>1.0</td>\n",
       "      <td>1125.0</td>\n",
       "    </tr>\n",
       "    <tr>\n",
       "      <th>4386569</th>\n",
       "      <td>42822570</td>\n",
       "      <td>2023-06-20</td>\n",
       "      <td>f</td>\n",
       "      <td>$2,684.00</td>\n",
       "      <td>$2,684.00</td>\n",
       "      <td>1.0</td>\n",
       "      <td>1125.0</td>\n",
       "    </tr>\n",
       "  </tbody>\n",
       "</table>\n",
       "<p>365 rows × 7 columns</p>\n",
       "</div>"
      ],
      "text/plain": [
       "         listing_id        date available      price adjusted_price  \\\n",
       "4386205    42822570  2022-06-21         f  $2,684.00      $2,684.00   \n",
       "4386206    42822570  2022-06-22         f  $2,684.00      $2,684.00   \n",
       "4386207    42822570  2022-06-23         f  $2,684.00      $2,684.00   \n",
       "4386208    42822570  2022-06-24         f  $2,684.00      $2,684.00   \n",
       "4386209    42822570  2022-06-25         f  $2,684.00      $2,684.00   \n",
       "...             ...         ...       ...        ...            ...   \n",
       "4386565    42822570  2023-06-16         f  $2,684.00      $2,684.00   \n",
       "4386566    42822570  2023-06-17         f  $2,684.00      $2,684.00   \n",
       "4386567    42822570  2023-06-18         f  $2,684.00      $2,684.00   \n",
       "4386568    42822570  2023-06-19         f  $2,684.00      $2,684.00   \n",
       "4386569    42822570  2023-06-20         f  $2,684.00      $2,684.00   \n",
       "\n",
       "         minimum_nights  maximum_nights  \n",
       "4386205             1.0          1125.0  \n",
       "4386206             1.0          1125.0  \n",
       "4386207             1.0          1125.0  \n",
       "4386208             1.0          1125.0  \n",
       "4386209             1.0          1125.0  \n",
       "...                 ...             ...  \n",
       "4386565             1.0          1125.0  \n",
       "4386566             1.0          1125.0  \n",
       "4386567             1.0          1125.0  \n",
       "4386568             1.0          1125.0  \n",
       "4386569             1.0          1125.0  \n",
       "\n",
       "[365 rows x 7 columns]"
      ]
     },
     "execution_count": 202,
     "metadata": {},
     "output_type": "execute_result"
    }
   ],
   "source": [
    "calendar[calendar['listing_id'] == 42822570]"
   ]
  },
  {
   "cell_type": "code",
   "execution_count": 219,
   "id": "f7b974ad",
   "metadata": {},
   "outputs": [
    {
     "data": {
      "text/plain": [
       "<AxesSubplot:xlabel='date'>"
      ]
     },
     "execution_count": 219,
     "metadata": {},
     "output_type": "execute_result"
    },
    {
     "data": {
      "image/png": "[encoded data removed]",
      "text/plain": [
       "<Figure size 432x288 with 1 Axes>"
      ]
     },
     "metadata": {
      "needs_background": "light"
     },
     "output_type": "display_data"
    }
   ],
   "source": [
    "# showing #reviews by year\n",
    "date.groupby(date.dt.year).count().plot(kind=\"bar\")"
   ]
  },
  {
   "cell_type": "markdown",
   "id": "86d7430b",
   "metadata": {},
   "source": [
    "**reviewer_id**: 210367 unique reviewer ids, meaning there are reviews left by the same reviewer, either for the same listing or different listing, on the same date or not."
   ]
  },
  {
   "cell_type": "code",
   "execution_count": 203,
   "id": "ec7485b0",
   "metadata": {},
   "outputs": [
    {
     "data": {
      "text/plain": [
       "210367"
      ]
     },
     "execution_count": 203,
     "metadata": {},
     "output_type": "execute_result"
    }
   ],
   "source": [
    "reviews['reviewer_id'].nunique()"
   ]
  },
  {
   "cell_type": "code",
   "execution_count": 212,
   "id": "be92e066",
   "metadata": {},
   "outputs": [
    {
     "data": {
      "text/plain": [
       "240229"
      ]
     },
     "execution_count": 212,
     "metadata": {},
     "output_type": "execute_result"
    }
   ],
   "source": [
    "len(((reviews['listing_id']).astype(str)+(reviews['reviewer_id']).astype(str)).unique())"
   ]
  },
  {
   "cell_type": "code",
   "execution_count": 213,
   "id": "99777c51",
   "metadata": {},
   "outputs": [
    {
     "data": {
      "text/plain": [
       "246613"
      ]
     },
     "execution_count": 213,
     "metadata": {},
     "output_type": "execute_result"
    }
   ],
   "source": [
    "len(((reviews['listing_id']).astype(str)+\n",
    "     (reviews['reviewer_id']).astype(str)+\n",
    "     (reviews['date']).astype(str)).unique())"
   ]
  },
  {
   "cell_type": "markdown",
   "id": "21e765cc",
   "metadata": {},
   "source": [
    "**reviewer_name**: max 42 characters. <span style=\"color:blue\">Figuring out how to detect language. Tried language detect and textblob so far, might try deep_translator (need to get an API key). Used langdetect at the end.</span>"
   ]
  },
  {
   "cell_type": "code",
   "execution_count": 12,
   "id": "aaeec745",
   "metadata": {},
   "outputs": [],
   "source": [
    "# seems not be able to detect some chinese characters\n",
    "from langdetect import detect\n",
    "\n",
    "reviewer_name = reviews['reviewer_name']\n",
    "langdet = []                                                    \n",
    "\n",
    "for i in range(len(reviews)):                                         \n",
    "    try:                                                          \n",
    "       lang = detect(reviewer_name[i])                                      \n",
    "    except:                                                       \n",
    "       lang = 'no'                                                  \n",
    "       #print(reviwer_name.index, \"This row throws error:\", reviewer_name[i])                 \n",
    "    langdet.append(lang)       "
   ]
  },
  {
   "cell_type": "code",
   "execution_count": 14,
   "id": "1e1685aa",
   "metadata": {},
   "outputs": [
    {
     "data": {
      "text/plain": [
       "{'af',\n",
       " 'ar',\n",
       " 'bg',\n",
       " 'ca',\n",
       " 'cs',\n",
       " 'cy',\n",
       " 'da',\n",
       " 'de',\n",
       " 'el',\n",
       " 'en',\n",
       " 'es',\n",
       " 'et',\n",
       " 'fi',\n",
       " 'fr',\n",
       " 'he',\n",
       " 'hr',\n",
       " 'hu',\n",
       " 'id',\n",
       " 'it',\n",
       " 'ja',\n",
       " 'ko',\n",
       " 'lt',\n",
       " 'lv',\n",
       " 'mk',\n",
       " 'nl',\n",
       " 'no',\n",
       " 'pl',\n",
       " 'pt',\n",
       " 'ro',\n",
       " 'ru',\n",
       " 'sk',\n",
       " 'sl',\n",
       " 'so',\n",
       " 'sq',\n",
       " 'sv',\n",
       " 'sw',\n",
       " 'th',\n",
       " 'tl',\n",
       " 'tr',\n",
       " 'uk',\n",
       " 'vi',\n",
       " 'zh-cn',\n",
       " 'zh-tw'}"
      ]
     },
     "execution_count": 14,
     "metadata": {},
     "output_type": "execute_result"
    }
   ],
   "source": [
    "set(langdet)"
   ]
  },
  {
   "cell_type": "code",
   "execution_count": 18,
   "id": "f743da90",
   "metadata": {},
   "outputs": [
    {
     "data": {
      "text/plain": [
       "43"
      ]
     },
     "execution_count": 18,
     "metadata": {},
     "output_type": "execute_result"
    }
   ],
   "source": [
    "len(set(langdet))"
   ]
  },
  {
   "cell_type": "code",
   "execution_count": 8,
   "id": "6aea16f7",
   "metadata": {},
   "outputs": [
    {
     "ename": "HTTPError",
     "evalue": "HTTP Error 400: Bad Request",
     "output_type": "error",
     "traceback": [
      "\u001b[0;31m---------------------------------------------------------------------------\u001b[0m",
      "\u001b[0;31mHTTPError\u001b[0m                                 Traceback (most recent call last)",
      "Input \u001b[0;32mIn [8]\u001b[0m, in \u001b[0;36m<cell line: 4>\u001b[0;34m()\u001b[0m\n\u001b[1;32m      1\u001b[0m \u001b[38;5;28;01mfrom\u001b[39;00m \u001b[38;5;21;01mtextblob\u001b[39;00m \u001b[38;5;28;01mimport\u001b[39;00m TextBlob\n\u001b[1;32m      3\u001b[0m reviewer_name \u001b[38;5;241m=\u001b[39m TextBlob(reviews[\u001b[38;5;124m'\u001b[39m\u001b[38;5;124mreviewer_name\u001b[39m\u001b[38;5;124m'\u001b[39m][\u001b[38;5;241m0\u001b[39m])\n\u001b[0;32m----> 4\u001b[0m \u001b[43mreviewer_name\u001b[49m\u001b[38;5;241;43m.\u001b[39;49m\u001b[43mdetect_language\u001b[49m\u001b[43m(\u001b[49m\u001b[43m)\u001b[49m\n",
      "File \u001b[0;32m~/opt/anaconda3/lib/python3.9/site-packages/textblob/blob.py:597\u001b[0m, in \u001b[0;36mBaseBlob.detect_language\u001b[0;34m(self)\u001b[0m\n\u001b[1;32m    572\u001b[0m \u001b[38;5;124;03m\"\"\"Detect the blob's language using the Google Translate API.\u001b[39;00m\n\u001b[1;32m    573\u001b[0m \n\u001b[1;32m    574\u001b[0m \u001b[38;5;124;03mRequires an internet connection.\u001b[39;00m\n\u001b[0;32m   (...)\u001b[0m\n\u001b[1;32m    590\u001b[0m \u001b[38;5;124;03m:rtype: str\u001b[39;00m\n\u001b[1;32m    591\u001b[0m \u001b[38;5;124;03m\"\"\"\u001b[39;00m\n\u001b[1;32m    592\u001b[0m warnings\u001b[38;5;241m.\u001b[39mwarn(\n\u001b[1;32m    593\u001b[0m     \u001b[38;5;124m'\u001b[39m\u001b[38;5;124mTextBlob.detext_translate is deprecated and will be removed in a future release. \u001b[39m\u001b[38;5;124m'\u001b[39m\n\u001b[1;32m    594\u001b[0m     \u001b[38;5;124m'\u001b[39m\u001b[38;5;124mUse the official Google Translate API instead.\u001b[39m\u001b[38;5;124m'\u001b[39m,\n\u001b[1;32m    595\u001b[0m     \u001b[38;5;167;01mDeprecationWarning\u001b[39;00m\n\u001b[1;32m    596\u001b[0m )\n\u001b[0;32m--> 597\u001b[0m \u001b[38;5;28;01mreturn\u001b[39;00m \u001b[38;5;28;43mself\u001b[39;49m\u001b[38;5;241;43m.\u001b[39;49m\u001b[43mtranslator\u001b[49m\u001b[38;5;241;43m.\u001b[39;49m\u001b[43mdetect\u001b[49m\u001b[43m(\u001b[49m\u001b[38;5;28;43mself\u001b[39;49m\u001b[38;5;241;43m.\u001b[39;49m\u001b[43mraw\u001b[49m\u001b[43m)\u001b[49m\n",
      "File \u001b[0;32m~/opt/anaconda3/lib/python3.9/site-packages/textblob/translate.py:76\u001b[0m, in \u001b[0;36mTranslator.detect\u001b[0;34m(self, source, host, type_)\u001b[0m\n\u001b[1;32m     70\u001b[0m data \u001b[38;5;241m=\u001b[39m {\u001b[38;5;124m\"\u001b[39m\u001b[38;5;124mq\u001b[39m\u001b[38;5;124m\"\u001b[39m: source}\n\u001b[1;32m     71\u001b[0m url \u001b[38;5;241m=\u001b[39m \u001b[38;5;124mu\u001b[39m\u001b[38;5;124m'\u001b[39m\u001b[38;5;132;01m{url}\u001b[39;00m\u001b[38;5;124m&sl=auto&tk=\u001b[39m\u001b[38;5;132;01m{tk}\u001b[39;00m\u001b[38;5;124m&client=\u001b[39m\u001b[38;5;132;01m{client}\u001b[39;00m\u001b[38;5;124m'\u001b[39m\u001b[38;5;241m.\u001b[39mformat(\n\u001b[1;32m     72\u001b[0m     url\u001b[38;5;241m=\u001b[39m\u001b[38;5;28mself\u001b[39m\u001b[38;5;241m.\u001b[39murl,\n\u001b[1;32m     73\u001b[0m     tk\u001b[38;5;241m=\u001b[39m_calculate_tk(source),\n\u001b[1;32m     74\u001b[0m     client\u001b[38;5;241m=\u001b[39m\u001b[38;5;124m\"\u001b[39m\u001b[38;5;124mte\u001b[39m\u001b[38;5;124m\"\u001b[39m,\n\u001b[1;32m     75\u001b[0m )\n\u001b[0;32m---> 76\u001b[0m response \u001b[38;5;241m=\u001b[39m \u001b[38;5;28;43mself\u001b[39;49m\u001b[38;5;241;43m.\u001b[39;49m\u001b[43m_request\u001b[49m\u001b[43m(\u001b[49m\u001b[43murl\u001b[49m\u001b[43m,\u001b[49m\u001b[43m \u001b[49m\u001b[43mhost\u001b[49m\u001b[38;5;241;43m=\u001b[39;49m\u001b[43mhost\u001b[49m\u001b[43m,\u001b[49m\u001b[43m \u001b[49m\u001b[43mtype_\u001b[49m\u001b[38;5;241;43m=\u001b[39;49m\u001b[43mtype_\u001b[49m\u001b[43m,\u001b[49m\u001b[43m \u001b[49m\u001b[43mdata\u001b[49m\u001b[38;5;241;43m=\u001b[39;49m\u001b[43mdata\u001b[49m\u001b[43m)\u001b[49m\n\u001b[1;32m     77\u001b[0m result, language \u001b[38;5;241m=\u001b[39m json\u001b[38;5;241m.\u001b[39mloads(response)\n\u001b[1;32m     78\u001b[0m \u001b[38;5;28;01mreturn\u001b[39;00m language\n",
      "File \u001b[0;32m~/opt/anaconda3/lib/python3.9/site-packages/textblob/translate.py:96\u001b[0m, in \u001b[0;36mTranslator._request\u001b[0;34m(self, url, host, type_, data)\u001b[0m\n\u001b[1;32m     94\u001b[0m \u001b[38;5;28;01mif\u001b[39;00m host \u001b[38;5;129;01mor\u001b[39;00m type_:\n\u001b[1;32m     95\u001b[0m     req\u001b[38;5;241m.\u001b[39mset_proxy(host\u001b[38;5;241m=\u001b[39mhost, \u001b[38;5;28mtype\u001b[39m\u001b[38;5;241m=\u001b[39mtype_)\n\u001b[0;32m---> 96\u001b[0m resp \u001b[38;5;241m=\u001b[39m \u001b[43mrequest\u001b[49m\u001b[38;5;241;43m.\u001b[39;49m\u001b[43murlopen\u001b[49m\u001b[43m(\u001b[49m\u001b[43mreq\u001b[49m\u001b[43m)\u001b[49m\n\u001b[1;32m     97\u001b[0m content \u001b[38;5;241m=\u001b[39m resp\u001b[38;5;241m.\u001b[39mread()\n\u001b[1;32m     98\u001b[0m \u001b[38;5;28;01mreturn\u001b[39;00m content\u001b[38;5;241m.\u001b[39mdecode(\u001b[38;5;124m'\u001b[39m\u001b[38;5;124mutf-8\u001b[39m\u001b[38;5;124m'\u001b[39m)\n",
      "File \u001b[0;32m~/opt/anaconda3/lib/python3.9/urllib/request.py:214\u001b[0m, in \u001b[0;36murlopen\u001b[0;34m(url, data, timeout, cafile, capath, cadefault, context)\u001b[0m\n\u001b[1;32m    212\u001b[0m \u001b[38;5;28;01melse\u001b[39;00m:\n\u001b[1;32m    213\u001b[0m     opener \u001b[38;5;241m=\u001b[39m _opener\n\u001b[0;32m--> 214\u001b[0m \u001b[38;5;28;01mreturn\u001b[39;00m \u001b[43mopener\u001b[49m\u001b[38;5;241;43m.\u001b[39;49m\u001b[43mopen\u001b[49m\u001b[43m(\u001b[49m\u001b[43murl\u001b[49m\u001b[43m,\u001b[49m\u001b[43m \u001b[49m\u001b[43mdata\u001b[49m\u001b[43m,\u001b[49m\u001b[43m \u001b[49m\u001b[43mtimeout\u001b[49m\u001b[43m)\u001b[49m\n",
      "File \u001b[0;32m~/opt/anaconda3/lib/python3.9/urllib/request.py:523\u001b[0m, in \u001b[0;36mOpenerDirector.open\u001b[0;34m(self, fullurl, data, timeout)\u001b[0m\n\u001b[1;32m    521\u001b[0m \u001b[38;5;28;01mfor\u001b[39;00m processor \u001b[38;5;129;01min\u001b[39;00m \u001b[38;5;28mself\u001b[39m\u001b[38;5;241m.\u001b[39mprocess_response\u001b[38;5;241m.\u001b[39mget(protocol, []):\n\u001b[1;32m    522\u001b[0m     meth \u001b[38;5;241m=\u001b[39m \u001b[38;5;28mgetattr\u001b[39m(processor, meth_name)\n\u001b[0;32m--> 523\u001b[0m     response \u001b[38;5;241m=\u001b[39m \u001b[43mmeth\u001b[49m\u001b[43m(\u001b[49m\u001b[43mreq\u001b[49m\u001b[43m,\u001b[49m\u001b[43m \u001b[49m\u001b[43mresponse\u001b[49m\u001b[43m)\u001b[49m\n\u001b[1;32m    525\u001b[0m \u001b[38;5;28;01mreturn\u001b[39;00m response\n",
      "File \u001b[0;32m~/opt/anaconda3/lib/python3.9/urllib/request.py:632\u001b[0m, in \u001b[0;36mHTTPErrorProcessor.http_response\u001b[0;34m(self, request, response)\u001b[0m\n\u001b[1;32m    629\u001b[0m \u001b[38;5;66;03m# According to RFC 2616, \"2xx\" code indicates that the client's\u001b[39;00m\n\u001b[1;32m    630\u001b[0m \u001b[38;5;66;03m# request was successfully received, understood, and accepted.\u001b[39;00m\n\u001b[1;32m    631\u001b[0m \u001b[38;5;28;01mif\u001b[39;00m \u001b[38;5;129;01mnot\u001b[39;00m (\u001b[38;5;241m200\u001b[39m \u001b[38;5;241m<\u001b[39m\u001b[38;5;241m=\u001b[39m code \u001b[38;5;241m<\u001b[39m \u001b[38;5;241m300\u001b[39m):\n\u001b[0;32m--> 632\u001b[0m     response \u001b[38;5;241m=\u001b[39m \u001b[38;5;28;43mself\u001b[39;49m\u001b[38;5;241;43m.\u001b[39;49m\u001b[43mparent\u001b[49m\u001b[38;5;241;43m.\u001b[39;49m\u001b[43merror\u001b[49m\u001b[43m(\u001b[49m\n\u001b[1;32m    633\u001b[0m \u001b[43m        \u001b[49m\u001b[38;5;124;43m'\u001b[39;49m\u001b[38;5;124;43mhttp\u001b[39;49m\u001b[38;5;124;43m'\u001b[39;49m\u001b[43m,\u001b[49m\u001b[43m \u001b[49m\u001b[43mrequest\u001b[49m\u001b[43m,\u001b[49m\u001b[43m \u001b[49m\u001b[43mresponse\u001b[49m\u001b[43m,\u001b[49m\u001b[43m \u001b[49m\u001b[43mcode\u001b[49m\u001b[43m,\u001b[49m\u001b[43m \u001b[49m\u001b[43mmsg\u001b[49m\u001b[43m,\u001b[49m\u001b[43m \u001b[49m\u001b[43mhdrs\u001b[49m\u001b[43m)\u001b[49m\n\u001b[1;32m    635\u001b[0m \u001b[38;5;28;01mreturn\u001b[39;00m response\n",
      "File \u001b[0;32m~/opt/anaconda3/lib/python3.9/urllib/request.py:561\u001b[0m, in \u001b[0;36mOpenerDirector.error\u001b[0;34m(self, proto, *args)\u001b[0m\n\u001b[1;32m    559\u001b[0m \u001b[38;5;28;01mif\u001b[39;00m http_err:\n\u001b[1;32m    560\u001b[0m     args \u001b[38;5;241m=\u001b[39m (\u001b[38;5;28mdict\u001b[39m, \u001b[38;5;124m'\u001b[39m\u001b[38;5;124mdefault\u001b[39m\u001b[38;5;124m'\u001b[39m, \u001b[38;5;124m'\u001b[39m\u001b[38;5;124mhttp_error_default\u001b[39m\u001b[38;5;124m'\u001b[39m) \u001b[38;5;241m+\u001b[39m orig_args\n\u001b[0;32m--> 561\u001b[0m     \u001b[38;5;28;01mreturn\u001b[39;00m \u001b[38;5;28;43mself\u001b[39;49m\u001b[38;5;241;43m.\u001b[39;49m\u001b[43m_call_chain\u001b[49m\u001b[43m(\u001b[49m\u001b[38;5;241;43m*\u001b[39;49m\u001b[43margs\u001b[49m\u001b[43m)\u001b[49m\n",
      "File \u001b[0;32m~/opt/anaconda3/lib/python3.9/urllib/request.py:494\u001b[0m, in \u001b[0;36mOpenerDirector._call_chain\u001b[0;34m(self, chain, kind, meth_name, *args)\u001b[0m\n\u001b[1;32m    492\u001b[0m \u001b[38;5;28;01mfor\u001b[39;00m handler \u001b[38;5;129;01min\u001b[39;00m handlers:\n\u001b[1;32m    493\u001b[0m     func \u001b[38;5;241m=\u001b[39m \u001b[38;5;28mgetattr\u001b[39m(handler, meth_name)\n\u001b[0;32m--> 494\u001b[0m     result \u001b[38;5;241m=\u001b[39m \u001b[43mfunc\u001b[49m\u001b[43m(\u001b[49m\u001b[38;5;241;43m*\u001b[39;49m\u001b[43margs\u001b[49m\u001b[43m)\u001b[49m\n\u001b[1;32m    495\u001b[0m     \u001b[38;5;28;01mif\u001b[39;00m result \u001b[38;5;129;01mis\u001b[39;00m \u001b[38;5;129;01mnot\u001b[39;00m \u001b[38;5;28;01mNone\u001b[39;00m:\n\u001b[1;32m    496\u001b[0m         \u001b[38;5;28;01mreturn\u001b[39;00m result\n",
      "File \u001b[0;32m~/opt/anaconda3/lib/python3.9/urllib/request.py:641\u001b[0m, in \u001b[0;36mHTTPDefaultErrorHandler.http_error_default\u001b[0;34m(self, req, fp, code, msg, hdrs)\u001b[0m\n\u001b[1;32m    640\u001b[0m \u001b[38;5;28;01mdef\u001b[39;00m \u001b[38;5;21mhttp_error_default\u001b[39m(\u001b[38;5;28mself\u001b[39m, req, fp, code, msg, hdrs):\n\u001b[0;32m--> 641\u001b[0m     \u001b[38;5;28;01mraise\u001b[39;00m HTTPError(req\u001b[38;5;241m.\u001b[39mfull_url, code, msg, hdrs, fp)\n",
      "\u001b[0;31mHTTPError\u001b[0m: HTTP Error 400: Bad Request"
     ]
    }
   ],
   "source": [
    "# # gives http error\n",
    "# from textblob import TextBlob\n",
    "\n",
    "# reviewer_name = TextBlob(reviews['reviewer_name'][0])\n",
    "# reviewer_name.detect_language()"
   ]
  },
  {
   "cell_type": "code",
   "execution_count": 174,
   "id": "eb501e86",
   "metadata": {},
   "outputs": [
    {
     "data": {
      "text/plain": [
       "42"
      ]
     },
     "execution_count": 174,
     "metadata": {},
     "output_type": "execute_result"
    }
   ],
   "source": [
    "max(reviews['reviewer_name'].map(str).apply(len))"
   ]
  },
  {
   "cell_type": "markdown",
   "id": "94615fc0",
   "metadata": {},
   "source": [
    "**comment**: max 6577 characters. <span style=\"color:blue\">Same language detection needed as above.</span>"
   ]
  },
  {
   "cell_type": "code",
   "execution_count": 177,
   "id": "01106b58",
   "metadata": {},
   "outputs": [
    {
     "data": {
      "text/plain": [
       "6577.0"
      ]
     },
     "execution_count": 177,
     "metadata": {},
     "output_type": "execute_result"
    }
   ],
   "source": [
    "max(reviews['comments'].str.len())"
   ]
  },
  {
   "cell_type": "code",
   "execution_count": 19,
   "id": "2e68670d",
   "metadata": {},
   "outputs": [],
   "source": [
    "# language detection\n",
    "comments = reviews['comments']\n",
    "langdet = []                                                    \n",
    "\n",
    "for i in range(len(reviews)):                                         \n",
    "    try:                                                          \n",
    "       lang = detect(comments[i])                                      \n",
    "    except:                                                       \n",
    "       lang = 'no'                                                                  \n",
    "    langdet.append(lang) "
   ]
  },
  {
   "cell_type": "code",
   "execution_count": 20,
   "id": "19991e56",
   "metadata": {},
   "outputs": [
    {
     "data": {
      "text/plain": [
       "{'af',\n",
       " 'ar',\n",
       " 'bg',\n",
       " 'ca',\n",
       " 'cs',\n",
       " 'cy',\n",
       " 'da',\n",
       " 'de',\n",
       " 'el',\n",
       " 'en',\n",
       " 'es',\n",
       " 'et',\n",
       " 'fi',\n",
       " 'fr',\n",
       " 'he',\n",
       " 'hr',\n",
       " 'hu',\n",
       " 'id',\n",
       " 'it',\n",
       " 'ja',\n",
       " 'ko',\n",
       " 'lt',\n",
       " 'lv',\n",
       " 'mk',\n",
       " 'nl',\n",
       " 'no',\n",
       " 'pl',\n",
       " 'pt',\n",
       " 'ro',\n",
       " 'ru',\n",
       " 'sk',\n",
       " 'sl',\n",
       " 'so',\n",
       " 'sq',\n",
       " 'sv',\n",
       " 'sw',\n",
       " 'th',\n",
       " 'tl',\n",
       " 'tr',\n",
       " 'uk',\n",
       " 'ur',\n",
       " 'vi',\n",
       " 'zh-cn',\n",
       " 'zh-tw'}"
      ]
     },
     "execution_count": 20,
     "metadata": {},
     "output_type": "execute_result"
    }
   ],
   "source": [
    "set(langdet)"
   ]
  },
  {
   "cell_type": "markdown",
   "id": "105f29f7",
   "metadata": {},
   "source": [
    "### 2.5 Attribute Constraint, PK and FK"
   ]
  },
  {
   "cell_type": "markdown",
   "id": "00749932",
   "metadata": {},
   "source": [
    "* primary key(id)\n",
    "* foreign key(listing_id) references listings\n",
    "* foreign key(reviewer_id) references reviewers (a new relation reviewers containing two attributes: reviewer_id as primary key, and reviewer_name)\n",
    "\n",
    "any other?"
   ]
  },
  {
   "cell_type": "markdown",
   "id": "0fd1a2b3",
   "metadata": {},
   "source": [
    "## 3. Listing"
   ]
  },
  {
   "cell_type": "code",
   "execution_count": 21,
   "id": "5e18b55a",
   "metadata": {},
   "outputs": [],
   "source": [
    "listings = pd.read_csv('listings.csv')"
   ]
  },
  {
   "cell_type": "code",
   "execution_count": 9,
   "id": "cd182790",
   "metadata": {},
   "outputs": [
    {
     "data": {
      "text/html": [
       "<div>\n",
       "<style scoped>\n",
       "    .dataframe tbody tr th:only-of-type {\n",
       "        vertical-align: middle;\n",
       "    }\n",
       "\n",
       "    .dataframe tbody tr th {\n",
       "        vertical-align: top;\n",
       "    }\n",
       "\n",
       "    .dataframe thead th {\n",
       "        text-align: right;\n",
       "    }\n",
       "</style>\n",
       "<table border=\"1\" class=\"dataframe\">\n",
       "  <thead>\n",
       "    <tr style=\"text-align: right;\">\n",
       "      <th></th>\n",
       "      <th>id</th>\n",
       "      <th>listing_url</th>\n",
       "      <th>scrape_id</th>\n",
       "      <th>last_scraped</th>\n",
       "      <th>name</th>\n",
       "      <th>description</th>\n",
       "      <th>neighborhood_overview</th>\n",
       "      <th>picture_url</th>\n",
       "      <th>host_id</th>\n",
       "      <th>host_url</th>\n",
       "      <th>...</th>\n",
       "      <th>review_scores_communication</th>\n",
       "      <th>review_scores_location</th>\n",
       "      <th>review_scores_value</th>\n",
       "      <th>license</th>\n",
       "      <th>instant_bookable</th>\n",
       "      <th>calculated_host_listings_count</th>\n",
       "      <th>calculated_host_listings_count_entire_homes</th>\n",
       "      <th>calculated_host_listings_count_private_rooms</th>\n",
       "      <th>calculated_host_listings_count_shared_rooms</th>\n",
       "      <th>reviews_per_month</th>\n",
       "    </tr>\n",
       "  </thead>\n",
       "  <tbody>\n",
       "    <tr>\n",
       "      <th>0</th>\n",
       "      <td>645048906856594097</td>\n",
       "      <td>https://www.airbnb.com/rooms/645048906856594097</td>\n",
       "      <td>20220620202126</td>\n",
       "      <td>2022-06-20</td>\n",
       "      <td>Furnished 1 bedroom condo with beautiful view</td>\n",
       "      <td>🏢Condo For rent: Lumpini Ville Nakhon In-River...</td>\n",
       "      <td>Its in Lumpini building</td>\n",
       "      <td>https://a0.muscache.com/pictures/miso/Hosting-...</td>\n",
       "      <td>4663219</td>\n",
       "      <td>https://www.airbnb.com/users/show/4663219</td>\n",
       "      <td>...</td>\n",
       "      <td>NaN</td>\n",
       "      <td>NaN</td>\n",
       "      <td>NaN</td>\n",
       "      <td>NaN</td>\n",
       "      <td>t</td>\n",
       "      <td>1</td>\n",
       "      <td>1</td>\n",
       "      <td>0</td>\n",
       "      <td>0</td>\n",
       "      <td>NaN</td>\n",
       "    </tr>\n",
       "    <tr>\n",
       "      <th>1</th>\n",
       "      <td>15636062</td>\n",
       "      <td>https://www.airbnb.com/rooms/15636062</td>\n",
       "      <td>20220620202126</td>\n",
       "      <td>2022-06-20</td>\n",
       "      <td>Akesin place ngamwongwan</td>\n",
       "      <td>ที่ของฉันใกล้กับร้านอาหารและของกิน และ ขนส่งสา...</td>\n",
       "      <td>NaN</td>\n",
       "      <td>https://a0.muscache.com/pictures/f68098b9-3ff2...</td>\n",
       "      <td>100840975</td>\n",
       "      <td>https://www.airbnb.com/users/show/100840975</td>\n",
       "      <td>...</td>\n",
       "      <td>NaN</td>\n",
       "      <td>NaN</td>\n",
       "      <td>NaN</td>\n",
       "      <td>NaN</td>\n",
       "      <td>f</td>\n",
       "      <td>1</td>\n",
       "      <td>0</td>\n",
       "      <td>1</td>\n",
       "      <td>0</td>\n",
       "      <td>NaN</td>\n",
       "    </tr>\n",
       "    <tr>\n",
       "      <th>2</th>\n",
       "      <td>39544047</td>\n",
       "      <td>https://www.airbnb.com/rooms/39544047</td>\n",
       "      <td>20220620202126</td>\n",
       "      <td>2022-06-20</td>\n",
       "      <td>IMPACT Thunder Dome Muangthong ND condo ( C1 )</td>\n",
       "      <td>NaN</td>\n",
       "      <td>IMPACT ศูนย์แสดงสินค้า  550 m&lt;br /&gt;IMPACT Chal...</td>\n",
       "      <td>https://a0.muscache.com/pictures/cc410e7d-922f...</td>\n",
       "      <td>303573998</td>\n",
       "      <td>https://www.airbnb.com/users/show/303573998</td>\n",
       "      <td>...</td>\n",
       "      <td>5.0</td>\n",
       "      <td>4.67</td>\n",
       "      <td>4.67</td>\n",
       "      <td>NaN</td>\n",
       "      <td>t</td>\n",
       "      <td>2</td>\n",
       "      <td>0</td>\n",
       "      <td>2</td>\n",
       "      <td>0</td>\n",
       "      <td>0.19</td>\n",
       "    </tr>\n",
       "    <tr>\n",
       "      <th>3</th>\n",
       "      <td>34002624</td>\n",
       "      <td>https://www.airbnb.com/rooms/34002624</td>\n",
       "      <td>20220620202126</td>\n",
       "      <td>2022-06-20</td>\n",
       "      <td>Popular Condo Near IMPACT</td>\n",
       "      <td>คอนโดเมืองทองอยู่ในบริเวณเดียวกับศูนย์แสดงสินค...</td>\n",
       "      <td>คอนโดเมืองทองอยู่ในบริเวณเดียวกับศูนย์แสดงสินค...</td>\n",
       "      <td>https://a0.muscache.com/pictures/e4811699-0153...</td>\n",
       "      <td>256747704</td>\n",
       "      <td>https://www.airbnb.com/users/show/256747704</td>\n",
       "      <td>...</td>\n",
       "      <td>4.0</td>\n",
       "      <td>4.50</td>\n",
       "      <td>4.00</td>\n",
       "      <td>NaN</td>\n",
       "      <td>t</td>\n",
       "      <td>1</td>\n",
       "      <td>0</td>\n",
       "      <td>1</td>\n",
       "      <td>0</td>\n",
       "      <td>0.08</td>\n",
       "    </tr>\n",
       "    <tr>\n",
       "      <th>4</th>\n",
       "      <td>22678899</td>\n",
       "      <td>https://www.airbnb.com/rooms/22678899</td>\n",
       "      <td>20220620202126</td>\n",
       "      <td>2022-06-20</td>\n",
       "      <td>บ้านเบนซ์</td>\n",
       "      <td>เป็นหมู่บ้านขนาดใหญ่มีหลายเฟส บ้านเป็นทาวน์โฮม...</td>\n",
       "      <td>NaN</td>\n",
       "      <td>https://a0.muscache.com/pictures/02e4ae53-dbe6...</td>\n",
       "      <td>167136634</td>\n",
       "      <td>https://www.airbnb.com/users/show/167136634</td>\n",
       "      <td>...</td>\n",
       "      <td>NaN</td>\n",
       "      <td>NaN</td>\n",
       "      <td>NaN</td>\n",
       "      <td>NaN</td>\n",
       "      <td>t</td>\n",
       "      <td>1</td>\n",
       "      <td>0</td>\n",
       "      <td>1</td>\n",
       "      <td>0</td>\n",
       "      <td>NaN</td>\n",
       "    </tr>\n",
       "  </tbody>\n",
       "</table>\n",
       "<p>5 rows × 74 columns</p>\n",
       "</div>"
      ],
      "text/plain": [
       "                   id                                      listing_url  \\\n",
       "0  645048906856594097  https://www.airbnb.com/rooms/645048906856594097   \n",
       "1            15636062            https://www.airbnb.com/rooms/15636062   \n",
       "2            39544047            https://www.airbnb.com/rooms/39544047   \n",
       "3            34002624            https://www.airbnb.com/rooms/34002624   \n",
       "4            22678899            https://www.airbnb.com/rooms/22678899   \n",
       "\n",
       "        scrape_id last_scraped  \\\n",
       "0  20220620202126   2022-06-20   \n",
       "1  20220620202126   2022-06-20   \n",
       "2  20220620202126   2022-06-20   \n",
       "3  20220620202126   2022-06-20   \n",
       "4  20220620202126   2022-06-20   \n",
       "\n",
       "                                             name  \\\n",
       "0   Furnished 1 bedroom condo with beautiful view   \n",
       "1                        Akesin place ngamwongwan   \n",
       "2  IMPACT Thunder Dome Muangthong ND condo ( C1 )   \n",
       "3                       Popular Condo Near IMPACT   \n",
       "4                                       บ้านเบนซ์   \n",
       "\n",
       "                                         description  \\\n",
       "0  🏢Condo For rent: Lumpini Ville Nakhon In-River...   \n",
       "1  ที่ของฉันใกล้กับร้านอาหารและของกิน และ ขนส่งสา...   \n",
       "2                                                NaN   \n",
       "3  คอนโดเมืองทองอยู่ในบริเวณเดียวกับศูนย์แสดงสินค...   \n",
       "4  เป็นหมู่บ้านขนาดใหญ่มีหลายเฟส บ้านเป็นทาวน์โฮม...   \n",
       "\n",
       "                               neighborhood_overview  \\\n",
       "0                            Its in Lumpini building   \n",
       "1                                                NaN   \n",
       "2  IMPACT ศูนย์แสดงสินค้า  550 m<br />IMPACT Chal...   \n",
       "3  คอนโดเมืองทองอยู่ในบริเวณเดียวกับศูนย์แสดงสินค...   \n",
       "4                                                NaN   \n",
       "\n",
       "                                         picture_url    host_id  \\\n",
       "0  https://a0.muscache.com/pictures/miso/Hosting-...    4663219   \n",
       "1  https://a0.muscache.com/pictures/f68098b9-3ff2...  100840975   \n",
       "2  https://a0.muscache.com/pictures/cc410e7d-922f...  303573998   \n",
       "3  https://a0.muscache.com/pictures/e4811699-0153...  256747704   \n",
       "4  https://a0.muscache.com/pictures/02e4ae53-dbe6...  167136634   \n",
       "\n",
       "                                      host_url  ...  \\\n",
       "0    https://www.airbnb.com/users/show/4663219  ...   \n",
       "1  https://www.airbnb.com/users/show/100840975  ...   \n",
       "2  https://www.airbnb.com/users/show/303573998  ...   \n",
       "3  https://www.airbnb.com/users/show/256747704  ...   \n",
       "4  https://www.airbnb.com/users/show/167136634  ...   \n",
       "\n",
       "  review_scores_communication review_scores_location review_scores_value  \\\n",
       "0                         NaN                    NaN                 NaN   \n",
       "1                         NaN                    NaN                 NaN   \n",
       "2                         5.0                   4.67                4.67   \n",
       "3                         4.0                   4.50                4.00   \n",
       "4                         NaN                    NaN                 NaN   \n",
       "\n",
       "  license instant_bookable calculated_host_listings_count  \\\n",
       "0     NaN                t                              1   \n",
       "1     NaN                f                              1   \n",
       "2     NaN                t                              2   \n",
       "3     NaN                t                              1   \n",
       "4     NaN                t                              1   \n",
       "\n",
       "  calculated_host_listings_count_entire_homes  \\\n",
       "0                                           1   \n",
       "1                                           0   \n",
       "2                                           0   \n",
       "3                                           0   \n",
       "4                                           0   \n",
       "\n",
       "  calculated_host_listings_count_private_rooms  \\\n",
       "0                                            0   \n",
       "1                                            1   \n",
       "2                                            2   \n",
       "3                                            1   \n",
       "4                                            1   \n",
       "\n",
       "  calculated_host_listings_count_shared_rooms reviews_per_month  \n",
       "0                                           0               NaN  \n",
       "1                                           0               NaN  \n",
       "2                                           0              0.19  \n",
       "3                                           0              0.08  \n",
       "4                                           0               NaN  \n",
       "\n",
       "[5 rows x 74 columns]"
      ]
     },
     "execution_count": 9,
     "metadata": {},
     "output_type": "execute_result"
    }
   ],
   "source": [
    "listings.head()"
   ]
  },
  {
   "cell_type": "markdown",
   "id": "79dfd725",
   "metadata": {},
   "source": [
    "### 3.1 Date Size"
   ]
  },
  {
   "cell_type": "markdown",
   "id": "7b6eeba5",
   "metadata": {},
   "source": [
    "The listings csv has 17074 rows and 74 attributes."
   ]
  },
  {
   "cell_type": "code",
   "execution_count": 10,
   "id": "482954ff",
   "metadata": {},
   "outputs": [
    {
     "data": {
      "text/plain": [
       "(17074, 74)"
      ]
     },
     "execution_count": 10,
     "metadata": {},
     "output_type": "execute_result"
    }
   ],
   "source": [
    "listings.shape"
   ]
  },
  {
   "cell_type": "markdown",
   "id": "31022445",
   "metadata": {},
   "source": [
    "### 3.2 Attribute Meaning"
   ]
  },
  {
   "cell_type": "markdown",
   "id": "7be7c56d",
   "metadata": {},
   "source": [
    "referring to https://docs.google.com/spreadsheets/d/1iWCNJcSutYqpULSQHlNyGInUvHg2BoUGoNRIGa6Szc4/edit#gid=982310896, <span style=\"color:blue\">also shows which attributes are calculated</span>\n",
    "* **id**: listing id of the airbnb housing, <span style=\"color:blue\">*same as listing_id in calendar and reviews*</span>\n",
    "* **listing_url**: the url of the airbnb housing\n",
    "* **scrape_id**: web scraping id\n",
    "* **last_scraped**: UTC, the date and time this listing was scraped\n",
    "* **name**: name of the listing\n",
    "* **description**: detailed description of the listing\n",
    "* **neighborhood_overview**: host's description of the neighborhood\n",
    "* **picture_url**: URL to the airbnb hosted regular sized image for the listing, i.e. the first image of the listing\n",
    "<br/><br/>\n",
    "* **host_id**: airbnb's unique identifier for the host/user\n",
    "* **host_url**: the host's airbnb page\n",
    "* **host_name**: the name of the host, usually just the first name\n",
    "* **host_since**: the date the host/user was created. For hosts that are airbnb guests this could be the date they registered as a guest. i.e. the date the host joined airbnb as a host or a guest\n",
    "* **host_location**: the host's self-reported location\n",
    "* **host_about**: the host's self description\n",
    "* **host_response_time**: the average amount of time that the host took to respond to all new messages in the past 30 days (past 30 days with respect to the listing's scarped date)\n",
    "* **host_response_rate**: the percentage of new enquiries and reservation requests the host responded to (by either accepting/pre-approving or declining) within 24 hours in the past 30 days, referring to https://www.airbnb.com.sg/help/article/430/what-are-response-rate-and-response-time-and-how-are-they-calculated?_set_bev_on_new_domain=1665470652_YWVkYjQ5ZjcyOTM2\n",
    "* **host_acceptance_rate**: the rate at which the host accepts booking requests\n",
    "* **host_is_superhost**: whether the host is a superhost \n",
    "* **host_thumbnail_url**: the host's profile picture on the listing page, displayed small\n",
    "* **host_picture_url**: the host's profile picture on the airbnb page, displayed medium\n",
    "* **host_neighbourhood**: the neighbourhood the host lives in. <span style=\"color:blue\">*Unable to locate on host's page and listing page, not sure whether airbnb provides this info anymore*</span>\n",
    "* **host_listings_count**: the number of listings the host has (per Airbnb calculations)\n",
    "* **host_total_listings_count**: the number of listings the host has (per Airbnb calculations). <span style=\"color:blue\">*Same as host_listings_count?*</span>\n",
    "* **host_verifications**: in what ways the host has confirmed identity\n",
    "* **host_has_profile_pic**: whether the host has a profile picture\n",
    "* **host_identity_verified**: whether the host's identity has been verified by airbnb, referring to https://www.airbnb.com.sg/help/article/1237/verifying-your-identity\n",
    "<br/><br/>\n",
    "* **neighbourhood**: the neighbourhood of the listing\n",
    "* **neighbourhood_cleansed**: the neighbourhood as geocoded using the latitude and longitude against neighborhoods as defined by open or public digital shapefiles\n",
    "* **neighbourhood_group_cleansed**: the neighbourhood group as geocoded using the latitude and longitude against neighborhoods as defined by open or public digital shapefiles\n",
    "* **latitude**: the latitude of the listing, uses the World Geodetic System (WGS84) projection for latitude and longitude\n",
    "* **longitude**: the longitude of the listing, uses the World Geodetic System (WGS84) projection for latitude and longitude\n",
    "* **property_type**: self selected property type. Hotels and Bed and Breakfasts are described as such by their hosts in this field\n",
    "* **room_type**: room type of the listing, referring to https://www.airbnb.com.sg/help/article/5/types-of-places-to-stay?_set_bev_on_new_domain=1665470652_YWVkYjQ5ZjcyOTM2\n",
    "<br/><br/>\n",
    "* **accommodates**: the maximum capacity of the listing\n",
    "* **bathrooms**: the number of bathrooms in the listing\n",
    "* **bathrooms_text**: textual description of the number of bathrooms in the listing\n",
    "* **bedrooms**: the number of bedrooms\n",
    "* **beds**: the number of bed(s)\n",
    "* **amenities**: the list of amenities the place offers\n",
    "* **price**: daily price in local currency\n",
    "<br/><br/>\n",
    "* **minimum_nights**: minimum number of night stay for the listing\n",
    "* **maximum_nights**: maximum number of night stay for the listing\n",
    "* **minimum_minimum_nights**: the smallest minimum_nights value from the calender (looking 365 nights in the future)\n",
    "* **maximum_minimum_nights**: the largest minimum_nights value from the calender (looking 365 nights in the future)\n",
    "* **minimum_maximum_nights**: the smallest maximum_nights value from the calender (looking 365 nights in the future)\n",
    "* **maximum_maximum_nights**: the largest maximum_nights value from the calender (looking 365 nights in the future)\n",
    "* **minimum_nights_avg_ntm**: the average minimum_nights value from the calender (looking 365 nights in the future)\n",
    "* **maximum_nights_avg_ntm**: the average maximum_nights value from the calender (looking 365 nights in the future)\n",
    "<br/><br/>\n",
    "* **calendar_updated**: <span style=\"color:blue\">not sure what this attribute is, empty column, no description in the above link</span>\n",
    "* **has_availability**: whether the listing is available based on the following four columns, i.e. in the next 365 days\n",
    "* **availability_30**: the availability of the listing 30 days in the future as determined by the calendar. Note a listing may not be available because it has been booked by a guest or blocked by the host\n",
    "* **availability_60**: the availability of the listing 60 days in the future as determined by the calendar. Note a listing may not be available because it has been booked by a guest or blocked by the host\n",
    "* **availability_90**: the availability of the listing 90 days in the future as determined by the calendar. Note a listing may not be available because it has been booked by a guest or blocked by the host\n",
    "* **availability_365**: the availability of the listing 365 days in the future as determined by the calendar. Note a listing may not be available because it has been booked by a guest or blocked by the host\n",
    "* **calendar_last_scraped**: the date the listing's calendar was last scraped\n",
    "<br/><br/>\n",
    "* **number_of_reviews**: the number of reviews the listing has\n",
    "* **number_of_reviews_ltm**: the number of reviews the listing has (in the last 12 months)\n",
    "* **number_of_reviews_l30d**: the number of reviews the listing has (in the last 30 days)\n",
    "* **first_review**: the date of the first/oldest review\n",
    "* **last_review**: the date of the last/newest review\n",
    "* **review_scores_rating**: the overall score rating of the listing by all reviews, out of 5\n",
    "* **review_scores_accuracy**: the accuracy score for the listing by all reviews, out of 5\n",
    "* **review_scores_cleanliness**: the cleanliness score for the listing by all reviews, out of 5\n",
    "* **review_scores_checkin**: the checkin score for the listing by all reviews, out of 5\n",
    "* **review_scores_communication**: the communication score for the listing by all reviews, out of 5\n",
    "* **review_scores_location**: the location score for the listing by all reviews, out of 5\n",
    "* **review_scores_value**: the value score for the listing by all reviews, out of 5\n",
    "<br/><br/>\n",
    "* **license**: the licence/permit/registration number\n",
    "* **instant_bookable**: whether the guest can automatically book the listing without the host requiring to accept their booking request. An indicator of a commercial listing\n",
    "* **calculated_host_listings_count**: the number of listings the host has in the current scrape, in the city/region geography.\n",
    "* **calculated_host_listings_count_entire_homes**: the number of Entire home/apt listings the host has in the current scrape, in the city/region geography\n",
    "* **calculated_host_listings_count_private_rooms**: the number of Private room listings the host has in the current scrape, in the city/region geography\n",
    "* **calculated_host_listings_count_shared_rooms**: the number of Shared room listings the host has in the current scrape, in the city/region geography\n",
    "* **reviews_per_month**: the number of reviews the listing has over the lifetime of the listing (in months)"
   ]
  },
  {
   "cell_type": "markdown",
   "id": "3c06ae3e",
   "metadata": {},
   "source": [
    "### 3.3 Attribute Data Type"
   ]
  },
  {
   "cell_type": "markdown",
   "id": "b975a446",
   "metadata": {},
   "source": [
    "* **id**: integer  \n",
    "might convert to varchar(18) in SQL\n",
    "* **listing_url**: string  \n",
    "might convert to varchar(2048) in SQL. *2048 by the conventional max length for URL*\n",
    "* **scrape_id**: integer  \n",
    "<span style=\"color:blue\">might delete this row in SQL</span>\n",
    "* **last_scraped**: string  \n",
    "might convert to date type in SQL\n",
    "* **name**: string  \n",
    "might convert to varchar(255) in SQL, length may need to increase\n",
    "* **description**: string  \n",
    "might convert to varchar(1000) in SQL, length may need to increase\n",
    "* **neighborhood_overview**: string  \n",
    "might convert to varchar(1000) in SQL, length may need to increase\n",
    "* **picture_url**: string  \n",
    "might convert to varchar(2048) in SQL. *2048 by the conventional max length for URL*\n",
    "<br></br>\n",
    "* **host_id**: integer  \n",
    "might convert to varchar(9) in SQL\n",
    "* **host_url**: string  \n",
    "might convert to varchar(2048) in SQL. *2048 by the conventional max length for URL*\n",
    "* **host_name**: string  \n",
    "might convert to varchar(35) in SQL, length may need to increase\n",
    "* **host_since**: string  \n",
    "might convert to date type in SQL\n",
    "* **host_location**: string  \n",
    "might convert to varchar(125) in SQL, length may need to increase\n",
    "* **host_about**: string  \n",
    "might convert to varchar(5893) in SQL, length may need to increase\n",
    "* **host_response_time**: string  \n",
    "might convert to varchar(18) or int in SQL. *int based on James' note to handle missing values*\n",
    "* **host_response_rate**: string  \n",
    "might convert to int in SQL. *% to whitespace according to James' note*\n",
    "* **host_acceptance_rate**: string  \n",
    "might convert to int in SQL. *% to whitespace according to James' note*\n",
    "* **host_is_superhost**: string  \n",
    "might convert to char(1) in SQL\n",
    "* **host_thumbnail_url**: string  \n",
    "might convert to varchar(2048) in SQL. *2048 by the conventional max length for URL*\n",
    "* **host_picture_url**: string  \n",
    "might convert to varchar(2048) in SQL. *2048 by the conventional max length for URL*\n",
    "* **host_neighbourhood**: string  \n",
    "might convert to varchar(28) in SQL, length may need to increase\n",
    "* **host_listings_count**: float  \n",
    "float(1) in SQL\n",
    "* **host_total_listings_count**: float  \n",
    "<span style=\"color:blue\">might delete this row in SQL</span>\n",
    "* **host_verifications**: string  \n",
    "might convert to varchar(32) in SQL\n",
    "* **host_has_profile_pic**: string  \n",
    "after imputing the missing values, might convert to char(1) in SQL\n",
    "* **host_identity_verified**: string  \n",
    "after imputing the missing values, might convert to char(1) in SQL\n",
    "<br></br>\n",
    "* **neighbourhood**: string  \n",
    "might convert to varchar(80) in SQL, length may need to increase\n",
    "* **neighbourhood_cleansed**: string  \n",
    "might convert to char(20) in SQL\n",
    "* **neighbourhood_group_cleansed**: float  \n",
    "<span style=\"color:blue\">all empty values, might delete this row in SQL</span>\n",
    "* **latitude**: float  \n",
    "might convert to float(5) in SQL\n",
    "* **longitude**: float  \n",
    "might convert to float(5) in SQL\n",
    "* **property_type**: string  \n",
    "might convert to varchar(34) in SQL\n",
    "* **room_type**: string\n",
    "might convert to varchar(15) in SQL\n",
    "<br></br>\n",
    "* **accommodates**: integer  \n",
    "int\n",
    "* **bathrooms**: float  \n",
    "<span style=\"color:blue\">all empty values, might delete this row in SQL</span>\n",
    "* **bathrooms_text**: string  \n",
    "might convert to varchar(17) in SQL\n",
    "* **bedrooms**: float  \n",
    "might convert to float(1) in SQL\n",
    "* **beds**: float  \n",
    "might convert to float(1) in SQL\n",
    "* **amenities**: string  \n",
    "might convert to varchar(1606) in SQL\n",
    "* **price**: string  \n",
    "might convert to float(1) in SQL\n",
    "<br></br>\n",
    "* **minimum_nights**: integer  \n",
    "int\n",
    "* **maximum_nights**: integer  \n",
    "int\n",
    "* **minimum_minimum_nights**: float  \n",
    "might convert to float(1) in SQL\n",
    "* **maximum_minimum_nights**: float  \n",
    "might convert to float(1) in SQL\n",
    "* **minimum_maximum_nights**: float  \n",
    "might convert to float(1) in SQL\n",
    "* **maximum_maximum_nights**: float  \n",
    "might convert to float(1) in SQL\n",
    "* **minimum_nights_avg_ntm**: float  \n",
    "might convert to float(1) in SQL\n",
    "* **maximum_nights_avg_ntm**: float  \n",
    "might convert to float(1) in SQL\n",
    "<br></br>\n",
    "* **calendar_updated**: float  \n",
    "<span style=\"color:blue\">all empty values, might delete this row in SQL</span>\n",
    "* **has_availability**: string  \n",
    "might convert to char(1) in SQL\n",
    "* **availability_30**: integer  \n",
    "int\n",
    "* **availability_60**: integer  \n",
    "int\n",
    "* **availability_90**: integer  \n",
    "int\n",
    "* **availability_365**: integer  \n",
    "int\n",
    "* **calendar_last_scraped**: string  \n",
    "might convert to date type in SQL\n",
    "<br></br>\n",
    "* **number_of_reviews**: integer  \n",
    "int\n",
    "* **number_of_reviews_ltm**: integer  \n",
    "int\n",
    "* **number_of_reviews_l30d**: integer  \n",
    "int\n",
    "* **first_review**: float  \n",
    "might convert to date type in SQL\n",
    "* **last_review**: float  \n",
    "might convert to date type in SQL\n",
    "* **review_scores_rating**: float  \n",
    "float(1)\n",
    "* **review_scores_accuracy**: float  \n",
    "float(1)\n",
    "* **review_scores_cleanliness**: float  \n",
    "float(1)\n",
    "* **review_scores_checkin**: float  \n",
    "float(1)\n",
    "* **review_scores_communication**: float  \n",
    "float(1)\n",
    "* **review_scores_location**: float  \n",
    "float(1)\n",
    "* **review_scores_value**: float  \n",
    "float(1)\n",
    "<br></br>\n",
    "* **license**: float  \n",
    "<span style=\"color:blue\">all empty values, might delete this row in SQL</span>\n",
    "* **instant_bookable**: string  \n",
    "char(1)\n",
    "* **calculated_host_listings_count**: integer  \n",
    "int\n",
    "* **calculated_host_listings_count_entire_homes**: integer  \n",
    "int\n",
    "* **calculated_host_listings_count_private_rooms**: integer  \n",
    "int\n",
    "* **calculated_host_listings_count_shared_rooms**: integer  \n",
    "int\n",
    "* **reviews_per_month**: float  \n",
    "float(2)"
   ]
  },
  {
   "cell_type": "code",
   "execution_count": 17,
   "id": "5cd66afb",
   "metadata": {},
   "outputs": [
    {
     "data": {
      "text/plain": [
       "id                                                int64\n",
       "listing_url                                      object\n",
       "scrape_id                                         int64\n",
       "last_scraped                                     object\n",
       "name                                             object\n",
       "description                                      object\n",
       "neighborhood_overview                            object\n",
       "picture_url                                      object\n",
       "host_id                                           int64\n",
       "host_url                                         object\n",
       "host_name                                        object\n",
       "host_since                                       object\n",
       "host_location                                    object\n",
       "host_about                                       object\n",
       "host_response_time                               object\n",
       "host_response_rate                               object\n",
       "host_acceptance_rate                             object\n",
       "host_is_superhost                                object\n",
       "host_thumbnail_url                               object\n",
       "host_picture_url                                 object\n",
       "host_neighbourhood                               object\n",
       "host_listings_count                             float64\n",
       "host_total_listings_count                       float64\n",
       "host_verifications                               object\n",
       "host_has_profile_pic                             object\n",
       "host_identity_verified                           object\n",
       "neighbourhood                                    object\n",
       "neighbourhood_cleansed                           object\n",
       "neighbourhood_group_cleansed                    float64\n",
       "latitude                                        float64\n",
       "longitude                                       float64\n",
       "property_type                                    object\n",
       "room_type                                        object\n",
       "accommodates                                      int64\n",
       "bathrooms                                       float64\n",
       "bathrooms_text                                   object\n",
       "bedrooms                                        float64\n",
       "beds                                            float64\n",
       "amenities                                        object\n",
       "price                                            object\n",
       "minimum_nights                                    int64\n",
       "maximum_nights                                    int64\n",
       "minimum_minimum_nights                          float64\n",
       "maximum_minimum_nights                          float64\n",
       "minimum_maximum_nights                          float64\n",
       "maximum_maximum_nights                          float64\n",
       "minimum_nights_avg_ntm                          float64\n",
       "maximum_nights_avg_ntm                          float64\n",
       "calendar_updated                                float64\n",
       "has_availability                                 object\n",
       "availability_30                                   int64\n",
       "availability_60                                   int64\n",
       "availability_90                                   int64\n",
       "availability_365                                  int64\n",
       "calendar_last_scraped                            object\n",
       "number_of_reviews                                 int64\n",
       "number_of_reviews_ltm                             int64\n",
       "number_of_reviews_l30d                            int64\n",
       "first_review                                     object\n",
       "last_review                                      object\n",
       "review_scores_rating                            float64\n",
       "review_scores_accuracy                          float64\n",
       "review_scores_cleanliness                       float64\n",
       "review_scores_checkin                           float64\n",
       "review_scores_communication                     float64\n",
       "review_scores_location                          float64\n",
       "review_scores_value                             float64\n",
       "license                                         float64\n",
       "instant_bookable                                 object\n",
       "calculated_host_listings_count                    int64\n",
       "calculated_host_listings_count_entire_homes       int64\n",
       "calculated_host_listings_count_private_rooms      int64\n",
       "calculated_host_listings_count_shared_rooms       int64\n",
       "reviews_per_month                               float64\n",
       "dtype: object"
      ]
     },
     "execution_count": 17,
     "metadata": {},
     "output_type": "execute_result"
    }
   ],
   "source": [
    "listings.dtypes"
   ]
  },
  {
   "cell_type": "markdown",
   "id": "ca71f2ad",
   "metadata": {},
   "source": [
    "### 3.4 Attribute Domain and Volume¶"
   ]
  },
  {
   "cell_type": "markdown",
   "id": "c62bec01",
   "metadata": {},
   "source": [
    "**id**: 17074 unique listing ids. Max 18 digits in total. <span style=\"color:blue\">One listing id not in calendar.</span>"
   ]
  },
  {
   "cell_type": "code",
   "execution_count": 18,
   "id": "3c5e252e",
   "metadata": {},
   "outputs": [
    {
     "data": {
      "text/plain": [
       "17074"
      ]
     },
     "execution_count": 18,
     "metadata": {},
     "output_type": "execute_result"
    }
   ],
   "source": [
    "listings['id'].nunique()"
   ]
  },
  {
   "cell_type": "code",
   "execution_count": 19,
   "id": "5ba15354",
   "metadata": {},
   "outputs": [
    {
     "data": {
      "text/plain": [
       "18"
      ]
     },
     "execution_count": 19,
     "metadata": {},
     "output_type": "execute_result"
    }
   ],
   "source": [
    "len(str(max(listings['id'])))"
   ]
  },
  {
   "cell_type": "code",
   "execution_count": 22,
   "id": "052c07b1",
   "metadata": {},
   "outputs": [
    {
     "data": {
      "text/plain": [
       "17073"
      ]
     },
     "execution_count": 22,
     "metadata": {},
     "output_type": "execute_result"
    }
   ],
   "source": [
    "# one listing id not in calendar\n",
    "contains = listings.id.isin(calendar.listing_id)\n",
    "sum(contains)"
   ]
  },
  {
   "cell_type": "code",
   "execution_count": 30,
   "id": "64f1475b",
   "metadata": {},
   "outputs": [
    {
     "data": {
      "text/plain": [
       "(array([13729]),)"
      ]
     },
     "execution_count": 30,
     "metadata": {},
     "output_type": "execute_result"
    }
   ],
   "source": [
    "# find the listing id not in calendar\n",
    "contains = np.array(contains)\n",
    "np.where(~contains)"
   ]
  },
  {
   "cell_type": "code",
   "execution_count": 31,
   "id": "fdcbb961",
   "metadata": {},
   "outputs": [
    {
     "data": {
      "text/html": [
       "<div>\n",
       "<style scoped>\n",
       "    .dataframe tbody tr th:only-of-type {\n",
       "        vertical-align: middle;\n",
       "    }\n",
       "\n",
       "    .dataframe tbody tr th {\n",
       "        vertical-align: top;\n",
       "    }\n",
       "\n",
       "    .dataframe thead th {\n",
       "        text-align: right;\n",
       "    }\n",
       "</style>\n",
       "<table border=\"1\" class=\"dataframe\">\n",
       "  <thead>\n",
       "    <tr style=\"text-align: right;\">\n",
       "      <th></th>\n",
       "      <th>id</th>\n",
       "      <th>listing_url</th>\n",
       "      <th>scrape_id</th>\n",
       "      <th>last_scraped</th>\n",
       "      <th>name</th>\n",
       "      <th>description</th>\n",
       "      <th>neighborhood_overview</th>\n",
       "      <th>picture_url</th>\n",
       "      <th>host_id</th>\n",
       "      <th>host_url</th>\n",
       "      <th>...</th>\n",
       "      <th>review_scores_communication</th>\n",
       "      <th>review_scores_location</th>\n",
       "      <th>review_scores_value</th>\n",
       "      <th>license</th>\n",
       "      <th>instant_bookable</th>\n",
       "      <th>calculated_host_listings_count</th>\n",
       "      <th>calculated_host_listings_count_entire_homes</th>\n",
       "      <th>calculated_host_listings_count_private_rooms</th>\n",
       "      <th>calculated_host_listings_count_shared_rooms</th>\n",
       "      <th>reviews_per_month</th>\n",
       "    </tr>\n",
       "  </thead>\n",
       "  <tbody>\n",
       "    <tr>\n",
       "      <th>13729</th>\n",
       "      <td>44563108</td>\n",
       "      <td>https://www.airbnb.com/rooms/44563108</td>\n",
       "      <td>20220620202126</td>\n",
       "      <td>2022-06-21</td>\n",
       "      <td>Somerset Maison Asoke Bangkok</td>\n",
       "      <td>NaN</td>\n",
       "      <td>NaN</td>\n",
       "      <td>https://a0.muscache.com/pictures/miso/Hosting-...</td>\n",
       "      <td>360620448</td>\n",
       "      <td>https://www.airbnb.com/users/show/360620448</td>\n",
       "      <td>...</td>\n",
       "      <td>NaN</td>\n",
       "      <td>NaN</td>\n",
       "      <td>NaN</td>\n",
       "      <td>NaN</td>\n",
       "      <td>f</td>\n",
       "      <td>1</td>\n",
       "      <td>0</td>\n",
       "      <td>0</td>\n",
       "      <td>0</td>\n",
       "      <td>NaN</td>\n",
       "    </tr>\n",
       "  </tbody>\n",
       "</table>\n",
       "<p>1 rows × 74 columns</p>\n",
       "</div>"
      ],
      "text/plain": [
       "             id                            listing_url       scrape_id  \\\n",
       "13729  44563108  https://www.airbnb.com/rooms/44563108  20220620202126   \n",
       "\n",
       "      last_scraped                           name description  \\\n",
       "13729   2022-06-21  Somerset Maison Asoke Bangkok         NaN   \n",
       "\n",
       "      neighborhood_overview  \\\n",
       "13729                   NaN   \n",
       "\n",
       "                                             picture_url    host_id  \\\n",
       "13729  https://a0.muscache.com/pictures/miso/Hosting-...  360620448   \n",
       "\n",
       "                                          host_url  ...  \\\n",
       "13729  https://www.airbnb.com/users/show/360620448  ...   \n",
       "\n",
       "      review_scores_communication review_scores_location review_scores_value  \\\n",
       "13729                         NaN                    NaN                 NaN   \n",
       "\n",
       "      license instant_bookable calculated_host_listings_count  \\\n",
       "13729     NaN                f                              1   \n",
       "\n",
       "      calculated_host_listings_count_entire_homes  \\\n",
       "13729                                           0   \n",
       "\n",
       "      calculated_host_listings_count_private_rooms  \\\n",
       "13729                                            0   \n",
       "\n",
       "      calculated_host_listings_count_shared_rooms reviews_per_month  \n",
       "13729                                           0               NaN  \n",
       "\n",
       "[1 rows x 74 columns]"
      ]
     },
     "execution_count": 31,
     "metadata": {},
     "output_type": "execute_result"
    }
   ],
   "source": [
    "listings.iloc[[13729]]"
   ]
  },
  {
   "cell_type": "markdown",
   "id": "f2b6af27",
   "metadata": {},
   "source": [
    "**listing_url**: 17074 unique listing URLs. Max length 36 characters."
   ]
  },
  {
   "cell_type": "code",
   "execution_count": 33,
   "id": "c02c4dae",
   "metadata": {},
   "outputs": [
    {
     "data": {
      "text/plain": [
       "17074"
      ]
     },
     "execution_count": 33,
     "metadata": {},
     "output_type": "execute_result"
    }
   ],
   "source": [
    "listings['listing_url'].nunique()"
   ]
  },
  {
   "cell_type": "code",
   "execution_count": 34,
   "id": "2995e3c9",
   "metadata": {},
   "outputs": [
    {
     "data": {
      "text/plain": [
       "36"
      ]
     },
     "execution_count": 34,
     "metadata": {},
     "output_type": "execute_result"
    }
   ],
   "source": [
    "len(str(max(listings['listing_url'])))"
   ]
  },
  {
   "cell_type": "markdown",
   "id": "fd349bbe",
   "metadata": {},
   "source": [
    "**scrape_id**: all listings has the same scrape_id 20220620202126, <span style=\"color:blue\">can ignore this attribute.</span>"
   ]
  },
  {
   "cell_type": "code",
   "execution_count": 35,
   "id": "144d3931",
   "metadata": {},
   "outputs": [
    {
     "data": {
      "text/plain": [
       "1"
      ]
     },
     "execution_count": 35,
     "metadata": {},
     "output_type": "execute_result"
    }
   ],
   "source": [
    "listings['scrape_id'].nunique()"
   ]
  },
  {
   "cell_type": "code",
   "execution_count": 36,
   "id": "15503b77",
   "metadata": {},
   "outputs": [
    {
     "data": {
      "text/plain": [
       "array([20220620202126])"
      ]
     },
     "execution_count": 36,
     "metadata": {},
     "output_type": "execute_result"
    }
   ],
   "source": [
    "listings['scrape_id'].unique()"
   ]
  },
  {
   "cell_type": "markdown",
   "id": "b1d02bef",
   "metadata": {},
   "source": [
    "**last_scraped**: there are two days that the airbnb data was scraped: 2022/06/20 and 2022/06/21."
   ]
  },
  {
   "cell_type": "code",
   "execution_count": 38,
   "id": "13910098",
   "metadata": {},
   "outputs": [
    {
     "data": {
      "text/plain": [
       "2"
      ]
     },
     "execution_count": 38,
     "metadata": {},
     "output_type": "execute_result"
    }
   ],
   "source": [
    "listings['last_scraped'].nunique()"
   ]
  },
  {
   "cell_type": "code",
   "execution_count": 39,
   "id": "aac919b5",
   "metadata": {},
   "outputs": [
    {
     "data": {
      "text/plain": [
       "array(['2022-06-20', '2022-06-21'], dtype=object)"
      ]
     },
     "execution_count": 39,
     "metadata": {},
     "output_type": "execute_result"
    }
   ],
   "source": [
    "listings['last_scraped'].unique()"
   ]
  },
  {
   "cell_type": "markdown",
   "id": "c20fd264",
   "metadata": {},
   "source": [
    "**name**: <span style=\"color:blue\">Need language detection.</span> Emojis are not transferred to text appropriately. There are duplicate names for the listings. Max length 255 characters."
   ]
  },
  {
   "cell_type": "code",
   "execution_count": 40,
   "id": "e0705928",
   "metadata": {},
   "outputs": [
    {
     "data": {
      "text/plain": [
       "16089"
      ]
     },
     "execution_count": 40,
     "metadata": {},
     "output_type": "execute_result"
    }
   ],
   "source": [
    "listings['name'].nunique()"
   ]
  },
  {
   "cell_type": "code",
   "execution_count": 46,
   "id": "cd5d7865",
   "metadata": {},
   "outputs": [
    {
     "data": {
      "text/plain": [
       "255.0"
      ]
     },
     "execution_count": 46,
     "metadata": {},
     "output_type": "execute_result"
    }
   ],
   "source": [
    "max(listings['name'].str.len())"
   ]
  },
  {
   "cell_type": "code",
   "execution_count": 22,
   "id": "6c2b5f7e",
   "metadata": {},
   "outputs": [],
   "source": [
    "# language detection\n",
    "name = listings['name']\n",
    "langdet = []                                                    \n",
    "\n",
    "for i in range(len(reviews)):                                         \n",
    "    try:                                                          \n",
    "       lang = detect(name[i])                                      \n",
    "    except:                                                       \n",
    "       lang = 'no'                                                                  \n",
    "    langdet.append(lang) "
   ]
  },
  {
   "cell_type": "code",
   "execution_count": 23,
   "id": "dbbfb2ff",
   "metadata": {},
   "outputs": [
    {
     "data": {
      "text/plain": [
       "{'af',\n",
       " 'bg',\n",
       " 'ca',\n",
       " 'cs',\n",
       " 'cy',\n",
       " 'da',\n",
       " 'de',\n",
       " 'en',\n",
       " 'es',\n",
       " 'et',\n",
       " 'fi',\n",
       " 'fr',\n",
       " 'hr',\n",
       " 'hu',\n",
       " 'id',\n",
       " 'it',\n",
       " 'ja',\n",
       " 'ko',\n",
       " 'lt',\n",
       " 'lv',\n",
       " 'nl',\n",
       " 'no',\n",
       " 'pl',\n",
       " 'pt',\n",
       " 'ro',\n",
       " 'ru',\n",
       " 'sk',\n",
       " 'sl',\n",
       " 'so',\n",
       " 'sq',\n",
       " 'sv',\n",
       " 'sw',\n",
       " 'th',\n",
       " 'tl',\n",
       " 'tr',\n",
       " 'uk',\n",
       " 'vi',\n",
       " 'zh-cn',\n",
       " 'zh-tw'}"
      ]
     },
     "execution_count": 23,
     "metadata": {},
     "output_type": "execute_result"
    }
   ],
   "source": [
    "set(langdet)"
   ]
  },
  {
   "cell_type": "markdown",
   "id": "9c8d5dd0",
   "metadata": {},
   "source": [
    "**description**: <span style=\"color:blue\">Need language detection.</span> Emojis are not transferred to text appropriately. There are duplicate description for the listings. Max length 1000 characters."
   ]
  },
  {
   "cell_type": "code",
   "execution_count": 47,
   "id": "9062924c",
   "metadata": {},
   "outputs": [
    {
     "data": {
      "text/plain": [
       "13298"
      ]
     },
     "execution_count": 47,
     "metadata": {},
     "output_type": "execute_result"
    }
   ],
   "source": [
    "listings['description'].nunique()"
   ]
  },
  {
   "cell_type": "code",
   "execution_count": 48,
   "id": "53c58064",
   "metadata": {},
   "outputs": [
    {
     "data": {
      "text/plain": [
       "1000.0"
      ]
     },
     "execution_count": 48,
     "metadata": {},
     "output_type": "execute_result"
    }
   ],
   "source": [
    "max(listings['description'].str.len())"
   ]
  },
  {
   "cell_type": "code",
   "execution_count": 24,
   "id": "73287e24",
   "metadata": {},
   "outputs": [],
   "source": [
    "# language detection\n",
    "description = listings['description']\n",
    "langdet = []                                                    \n",
    "\n",
    "for i in range(len(reviews)):                                         \n",
    "    try:                                                          \n",
    "       lang = detect(description[i])                                      \n",
    "    except:                                                       \n",
    "       lang = 'no'                                                                  \n",
    "    langdet.append(lang) "
   ]
  },
  {
   "cell_type": "code",
   "execution_count": 25,
   "id": "dd891c26",
   "metadata": {},
   "outputs": [
    {
     "data": {
      "text/plain": [
       "{'af',\n",
       " 'ar',\n",
       " 'ca',\n",
       " 'da',\n",
       " 'de',\n",
       " 'en',\n",
       " 'es',\n",
       " 'et',\n",
       " 'fi',\n",
       " 'fr',\n",
       " 'hr',\n",
       " 'id',\n",
       " 'it',\n",
       " 'ja',\n",
       " 'ko',\n",
       " 'nl',\n",
       " 'no',\n",
       " 'pl',\n",
       " 'pt',\n",
       " 'ro',\n",
       " 'ru',\n",
       " 'so',\n",
       " 'sv',\n",
       " 'sw',\n",
       " 'th',\n",
       " 'tl',\n",
       " 'vi',\n",
       " 'zh-cn',\n",
       " 'zh-tw'}"
      ]
     },
     "execution_count": 25,
     "metadata": {},
     "output_type": "execute_result"
    }
   ],
   "source": [
    "set(langdet)"
   ]
  },
  {
   "cell_type": "markdown",
   "id": "72b75596",
   "metadata": {},
   "source": [
    "**neighborhood_overview**: <span style=\"color:blue\">Need language detection.</span> Emojis are not transferred to text appropriately. There are duplicate neighborhood description for the listings. Max length 1000 characters."
   ]
  },
  {
   "cell_type": "code",
   "execution_count": 51,
   "id": "3b799a77",
   "metadata": {},
   "outputs": [
    {
     "data": {
      "text/plain": [
       "6002"
      ]
     },
     "execution_count": 51,
     "metadata": {},
     "output_type": "execute_result"
    }
   ],
   "source": [
    "listings['neighborhood_overview'].nunique()"
   ]
  },
  {
   "cell_type": "code",
   "execution_count": 52,
   "id": "07399d4b",
   "metadata": {},
   "outputs": [
    {
     "data": {
      "text/plain": [
       "1000.0"
      ]
     },
     "execution_count": 52,
     "metadata": {},
     "output_type": "execute_result"
    }
   ],
   "source": [
    "max(listings['neighborhood_overview'].str.len())"
   ]
  },
  {
   "cell_type": "code",
   "execution_count": 26,
   "id": "3b45b8a6",
   "metadata": {},
   "outputs": [],
   "source": [
    "# language detection\n",
    "neighborhood_overview = listings['neighborhood_overview']\n",
    "langdet = []                                                    \n",
    "\n",
    "for i in range(len(reviews)):                                         \n",
    "    try:                                                          \n",
    "       lang = detect(neighborhood_overview[i])                                      \n",
    "    except:                                                       \n",
    "       lang = 'no'                                                                  \n",
    "    langdet.append(lang) "
   ]
  },
  {
   "cell_type": "code",
   "execution_count": 27,
   "id": "2bfca033",
   "metadata": {},
   "outputs": [
    {
     "data": {
      "text/plain": [
       "{'af',\n",
       " 'ca',\n",
       " 'cy',\n",
       " 'da',\n",
       " 'de',\n",
       " 'en',\n",
       " 'es',\n",
       " 'et',\n",
       " 'fi',\n",
       " 'fr',\n",
       " 'hr',\n",
       " 'id',\n",
       " 'it',\n",
       " 'ja',\n",
       " 'ko',\n",
       " 'lt',\n",
       " 'nl',\n",
       " 'no',\n",
       " 'pt',\n",
       " 'ro',\n",
       " 'ru',\n",
       " 'sl',\n",
       " 'so',\n",
       " 'sq',\n",
       " 'sv',\n",
       " 'sw',\n",
       " 'th',\n",
       " 'tl',\n",
       " 'vi',\n",
       " 'zh-cn',\n",
       " 'zh-tw'}"
      ]
     },
     "execution_count": 27,
     "metadata": {},
     "output_type": "execute_result"
    }
   ],
   "source": [
    "set(langdet)"
   ]
  },
  {
   "cell_type": "markdown",
   "id": "e98d16bf",
   "metadata": {},
   "source": [
    "**picture_url**: 15799 unique picture URLs. Max length 122 characters."
   ]
  },
  {
   "cell_type": "code",
   "execution_count": 53,
   "id": "ede064ac",
   "metadata": {},
   "outputs": [
    {
     "data": {
      "text/plain": [
       "15799"
      ]
     },
     "execution_count": 53,
     "metadata": {},
     "output_type": "execute_result"
    }
   ],
   "source": [
    "listings['picture_url'].nunique()"
   ]
  },
  {
   "cell_type": "code",
   "execution_count": 54,
   "id": "7ea9d1ed",
   "metadata": {},
   "outputs": [
    {
     "data": {
      "text/plain": [
       "122"
      ]
     },
     "execution_count": 54,
     "metadata": {},
     "output_type": "execute_result"
    }
   ],
   "source": [
    "len(str(max(listings['picture_url'])))"
   ]
  },
  {
   "cell_type": "markdown",
   "id": "55bf8078",
   "metadata": {},
   "source": [
    "**host_id**: 7639 unique host ids. Max 9 digits in total."
   ]
  },
  {
   "cell_type": "code",
   "execution_count": 55,
   "id": "8de0c294",
   "metadata": {},
   "outputs": [
    {
     "data": {
      "text/plain": [
       "7639"
      ]
     },
     "execution_count": 55,
     "metadata": {},
     "output_type": "execute_result"
    }
   ],
   "source": [
    "listings['host_id'].nunique()"
   ]
  },
  {
   "cell_type": "code",
   "execution_count": 56,
   "id": "05bfd1df",
   "metadata": {},
   "outputs": [
    {
     "data": {
      "text/plain": [
       "9"
      ]
     },
     "execution_count": 56,
     "metadata": {},
     "output_type": "execute_result"
    }
   ],
   "source": [
    "len(str(max(listings['host_id'])))"
   ]
  },
  {
   "cell_type": "markdown",
   "id": "23f3ae43",
   "metadata": {},
   "source": [
    "**host_url**: 7639 unique host urls. Max length 42 characters."
   ]
  },
  {
   "cell_type": "code",
   "execution_count": 57,
   "id": "ea641e92",
   "metadata": {},
   "outputs": [
    {
     "data": {
      "text/plain": [
       "7639"
      ]
     },
     "execution_count": 57,
     "metadata": {},
     "output_type": "execute_result"
    }
   ],
   "source": [
    "listings['host_url'].nunique()"
   ]
  },
  {
   "cell_type": "code",
   "execution_count": 59,
   "id": "004add83",
   "metadata": {},
   "outputs": [
    {
     "data": {
      "text/plain": [
       "42"
      ]
     },
     "execution_count": 59,
     "metadata": {},
     "output_type": "execute_result"
    }
   ],
   "source": [
    "len(str(max(listings['host_url'])))"
   ]
  },
  {
   "cell_type": "markdown",
   "id": "c34ff87f",
   "metadata": {},
   "source": [
    "**host_name**: 5991 unique host names. <span style=\"color:blue\">Need language detection.</span> There are duplicate host name for the listings. Max length 35 characters."
   ]
  },
  {
   "cell_type": "code",
   "execution_count": 60,
   "id": "72a947a8",
   "metadata": {},
   "outputs": [
    {
     "data": {
      "text/plain": [
       "5991"
      ]
     },
     "execution_count": 60,
     "metadata": {},
     "output_type": "execute_result"
    }
   ],
   "source": [
    "listings['host_name'].nunique()"
   ]
  },
  {
   "cell_type": "code",
   "execution_count": 61,
   "id": "68b20090",
   "metadata": {},
   "outputs": [
    {
     "data": {
      "text/plain": [
       "35.0"
      ]
     },
     "execution_count": 61,
     "metadata": {},
     "output_type": "execute_result"
    }
   ],
   "source": [
    "max(listings['host_name'].str.len())"
   ]
  },
  {
   "cell_type": "code",
   "execution_count": 28,
   "id": "7ec34377",
   "metadata": {},
   "outputs": [],
   "source": [
    "# language detection\n",
    "host_name = listings['host_name']\n",
    "langdet = []                                                    \n",
    "\n",
    "for i in range(len(reviews)):                                         \n",
    "    try:                                                          \n",
    "       lang = detect(host_name[i])                                      \n",
    "    except:                                                       \n",
    "       lang = 'no'                                                                  \n",
    "    langdet.append(lang) "
   ]
  },
  {
   "cell_type": "code",
   "execution_count": 29,
   "id": "853cb75a",
   "metadata": {},
   "outputs": [
    {
     "data": {
      "text/plain": [
       "{'af',\n",
       " 'bg',\n",
       " 'ca',\n",
       " 'cs',\n",
       " 'cy',\n",
       " 'da',\n",
       " 'de',\n",
       " 'en',\n",
       " 'es',\n",
       " 'et',\n",
       " 'fi',\n",
       " 'fr',\n",
       " 'hr',\n",
       " 'hu',\n",
       " 'id',\n",
       " 'it',\n",
       " 'ja',\n",
       " 'ko',\n",
       " 'lt',\n",
       " 'lv',\n",
       " 'nl',\n",
       " 'no',\n",
       " 'pl',\n",
       " 'pt',\n",
       " 'ro',\n",
       " 'sk',\n",
       " 'sl',\n",
       " 'so',\n",
       " 'sq',\n",
       " 'sv',\n",
       " 'sw',\n",
       " 'th',\n",
       " 'tl',\n",
       " 'tr',\n",
       " 'vi',\n",
       " 'zh-cn',\n",
       " 'zh-tw'}"
      ]
     },
     "execution_count": 29,
     "metadata": {},
     "output_type": "execute_result"
    }
   ],
   "source": [
    "set(langdet)"
   ]
  },
  {
   "cell_type": "markdown",
   "id": "30af698b",
   "metadata": {},
   "source": [
    "**host_since**: the host since date ranges from 2009/12/02 to 2022/06/17."
   ]
  },
  {
   "cell_type": "code",
   "execution_count": 68,
   "id": "f9707563",
   "metadata": {},
   "outputs": [
    {
     "data": {
      "text/plain": [
       "0   2013-01-11\n",
       "1   2016-10-23\n",
       "2   2019-10-21\n",
       "3   2019-04-19\n",
       "4   2018-01-11\n",
       "Name: host_since, dtype: datetime64[ns]"
      ]
     },
     "execution_count": 68,
     "metadata": {},
     "output_type": "execute_result"
    }
   ],
   "source": [
    "host_since_date = pd.to_datetime(listings['host_since'])\n",
    "host_since_date.head()"
   ]
  },
  {
   "cell_type": "code",
   "execution_count": 69,
   "id": "b0718097",
   "metadata": {},
   "outputs": [
    {
     "data": {
      "text/plain": [
       "Timestamp('2022-06-17 00:00:00')"
      ]
     },
     "execution_count": 69,
     "metadata": {},
     "output_type": "execute_result"
    }
   ],
   "source": [
    "max(host_since_date)"
   ]
  },
  {
   "cell_type": "code",
   "execution_count": 70,
   "id": "21dce4d5",
   "metadata": {},
   "outputs": [
    {
     "data": {
      "text/plain": [
       "Timestamp('2009-12-01 00:00:00')"
      ]
     },
     "execution_count": 70,
     "metadata": {},
     "output_type": "execute_result"
    }
   ],
   "source": [
    "min(host_since_date)"
   ]
  },
  {
   "cell_type": "code",
   "execution_count": 71,
   "id": "51b0c36c",
   "metadata": {},
   "outputs": [
    {
     "data": {
      "text/plain": [
       "<AxesSubplot:xlabel='host_since'>"
      ]
     },
     "execution_count": 71,
     "metadata": {},
     "output_type": "execute_result"
    },
    {
     "data": {
      "image/png": "[encoded data removed]",
      "text/plain": [
       "<Figure size 432x288 with 1 Axes>"
      ]
     },
     "metadata": {
      "needs_background": "light"
     },
     "output_type": "display_data"
    }
   ],
   "source": [
    "# showing #reviews by year\n",
    "host_since_date.groupby(host_since_date.dt.year).count().plot(kind=\"bar\")"
   ]
  },
  {
   "cell_type": "markdown",
   "id": "2c971687",
   "metadata": {},
   "source": [
    "**host_location**: <span style=\"color:blue\">Need language detection.</span> Some are more detailed with district and city info, some just have country. 632 unique host locations. <span style=\"color:blue\">(identify the unique locations directly, can separate into more details)</span>. Max length 125 characters."
   ]
  },
  {
   "cell_type": "code",
   "execution_count": 72,
   "id": "ab39d931",
   "metadata": {},
   "outputs": [
    {
     "data": {
      "text/plain": [
       "0    Siālkot, Punjab, Pakistan\n",
       "1                           TH\n",
       "2                           TH\n",
       "3            Bangkok, Thailand\n",
       "4    Lak Si, Bangkok, Thailand\n",
       "Name: host_location, dtype: object"
      ]
     },
     "execution_count": 72,
     "metadata": {},
     "output_type": "execute_result"
    }
   ],
   "source": [
    "listings['host_location'].head()"
   ]
  },
  {
   "cell_type": "code",
   "execution_count": 73,
   "id": "0ae9c891",
   "metadata": {},
   "outputs": [
    {
     "data": {
      "text/plain": [
       "632"
      ]
     },
     "execution_count": 73,
     "metadata": {},
     "output_type": "execute_result"
    }
   ],
   "source": [
    "listings['host_location'].nunique()"
   ]
  },
  {
   "cell_type": "code",
   "execution_count": 77,
   "id": "4bf53189",
   "metadata": {},
   "outputs": [
    {
     "data": {
      "text/plain": [
       "125.0"
      ]
     },
     "execution_count": 77,
     "metadata": {},
     "output_type": "execute_result"
    }
   ],
   "source": [
    "max(listings['host_location'].str.len())"
   ]
  },
  {
   "cell_type": "code",
   "execution_count": 30,
   "id": "bc20b271",
   "metadata": {},
   "outputs": [],
   "source": [
    "# language detection\n",
    "host_location = listings['host_location']\n",
    "langdet = []                                                    \n",
    "\n",
    "for i in range(len(reviews)):                                         \n",
    "    try:                                                          \n",
    "       lang = detect(host_location[i])                                      \n",
    "    except:                                                       \n",
    "       lang = 'no'                                                                  \n",
    "    langdet.append(lang) "
   ]
  },
  {
   "cell_type": "code",
   "execution_count": 31,
   "id": "6e8d286d",
   "metadata": {},
   "outputs": [
    {
     "data": {
      "text/plain": [
       "{'af',\n",
       " 'ca',\n",
       " 'da',\n",
       " 'de',\n",
       " 'en',\n",
       " 'es',\n",
       " 'et',\n",
       " 'fi',\n",
       " 'fr',\n",
       " 'id',\n",
       " 'it',\n",
       " 'ja',\n",
       " 'ko',\n",
       " 'lt',\n",
       " 'lv',\n",
       " 'nl',\n",
       " 'no',\n",
       " 'pt',\n",
       " 'ro',\n",
       " 'so',\n",
       " 'sv',\n",
       " 'sw',\n",
       " 'th',\n",
       " 'tl',\n",
       " 'tr',\n",
       " 'vi',\n",
       " 'zh-cn'}"
      ]
     },
     "execution_count": 31,
     "metadata": {},
     "output_type": "execute_result"
    }
   ],
   "source": [
    "set(langdet)"
   ]
  },
  {
   "cell_type": "markdown",
   "id": "f9de178e",
   "metadata": {},
   "source": [
    "**host_about**: <span style=\"color:blue\">Need language detection.</span> Max length 5893 characters."
   ]
  },
  {
   "cell_type": "code",
   "execution_count": 80,
   "id": "2db89ae1",
   "metadata": {},
   "outputs": [
    {
     "data": {
      "text/plain": [
       "3305"
      ]
     },
     "execution_count": 80,
     "metadata": {},
     "output_type": "execute_result"
    }
   ],
   "source": [
    "listings['host_about'].nunique()"
   ]
  },
  {
   "cell_type": "code",
   "execution_count": 82,
   "id": "38929867",
   "metadata": {},
   "outputs": [
    {
     "data": {
      "text/plain": [
       "5893.0"
      ]
     },
     "execution_count": 82,
     "metadata": {},
     "output_type": "execute_result"
    }
   ],
   "source": [
    "max(listings['host_about'].str.len())"
   ]
  },
  {
   "cell_type": "code",
   "execution_count": 32,
   "id": "c0a407af",
   "metadata": {},
   "outputs": [],
   "source": [
    "# language detection\n",
    "host_about = listings['host_about']\n",
    "langdet = []                                                    \n",
    "\n",
    "for i in range(len(reviews)):                                         \n",
    "    try:                                                          \n",
    "       lang = detect(host_about[i])                                      \n",
    "    except:                                                       \n",
    "       lang = 'no'                                                                  \n",
    "    langdet.append(lang) "
   ]
  },
  {
   "cell_type": "code",
   "execution_count": 33,
   "id": "a66c59be",
   "metadata": {},
   "outputs": [
    {
     "data": {
      "text/plain": [
       "{'af',\n",
       " 'ca',\n",
       " 'cs',\n",
       " 'cy',\n",
       " 'da',\n",
       " 'de',\n",
       " 'en',\n",
       " 'es',\n",
       " 'et',\n",
       " 'fi',\n",
       " 'fr',\n",
       " 'hr',\n",
       " 'id',\n",
       " 'it',\n",
       " 'ja',\n",
       " 'ko',\n",
       " 'nl',\n",
       " 'no',\n",
       " 'pl',\n",
       " 'pt',\n",
       " 'ro',\n",
       " 'ru',\n",
       " 'sk',\n",
       " 'sl',\n",
       " 'so',\n",
       " 'sv',\n",
       " 'sw',\n",
       " 'th',\n",
       " 'tl',\n",
       " 'tr',\n",
       " 'vi',\n",
       " 'zh-cn',\n",
       " 'zh-tw'}"
      ]
     },
     "execution_count": 33,
     "metadata": {},
     "output_type": "execute_result"
    }
   ],
   "source": [
    "set(langdet)"
   ]
  },
  {
   "cell_type": "markdown",
   "id": "c9715475",
   "metadata": {},
   "source": [
    "**host_response_time**: five levels: within an hour, within a few hours, within a day, a few days or more, nan(missing values). 7033 listings within an hour, 1420 listings within a few hours, 1252 lisitings within a day, 1740 listing a few days or more, 5629 rows with missing value. Max length 18 characters."
   ]
  },
  {
   "cell_type": "code",
   "execution_count": 83,
   "id": "4f89a542",
   "metadata": {},
   "outputs": [
    {
     "data": {
      "text/plain": [
       "array(['within an hour', nan, 'a few days or more', 'within a day',\n",
       "       'within a few hours'], dtype=object)"
      ]
     },
     "execution_count": 83,
     "metadata": {},
     "output_type": "execute_result"
    }
   ],
   "source": [
    "listings['host_response_time'].unique()"
   ]
  },
  {
   "cell_type": "code",
   "execution_count": 84,
   "id": "3786cf9f",
   "metadata": {},
   "outputs": [
    {
     "data": {
      "text/plain": [
       "within an hour        7033\n",
       "a few days or more    1740\n",
       "within a few hours    1420\n",
       "within a day          1252\n",
       "Name: host_response_time, dtype: int64"
      ]
     },
     "execution_count": 84,
     "metadata": {},
     "output_type": "execute_result"
    }
   ],
   "source": [
    "listings['host_response_time'].value_counts()"
   ]
  },
  {
   "cell_type": "code",
   "execution_count": 86,
   "id": "fa7a7a8d",
   "metadata": {},
   "outputs": [
    {
     "data": {
      "text/plain": [
       "<AxesSubplot:>"
      ]
     },
     "execution_count": 86,
     "metadata": {},
     "output_type": "execute_result"
    },
    {
     "data": {
      "image/png": "[encoded data removed]",
      "text/plain": [
       "<Figure size 432x288 with 1 Axes>"
      ]
     },
     "metadata": {
      "needs_background": "light"
     },
     "output_type": "display_data"
    }
   ],
   "source": [
    "listings['host_response_time'].value_counts().plot.bar()"
   ]
  },
  {
   "cell_type": "code",
   "execution_count": 87,
   "id": "b5100438",
   "metadata": {},
   "outputs": [
    {
     "data": {
      "text/plain": [
       "18.0"
      ]
     },
     "execution_count": 87,
     "metadata": {},
     "output_type": "execute_result"
    }
   ],
   "source": [
    "max(listings['host_response_time'].str.len())"
   ]
  },
  {
   "cell_type": "markdown",
   "id": "67af64ff",
   "metadata": {},
   "source": [
    "**host_response_rate**: 54 levels with values counts as shown below."
   ]
  },
  {
   "cell_type": "code",
   "execution_count": 88,
   "id": "7bf81627",
   "metadata": {},
   "outputs": [
    {
     "data": {
      "text/plain": [
       "array(['100%', nan, '0%', '75%', '50%', '43%', '90%', '80%', '83%', '88%',\n",
       "       '22%', '33%', '97%', '78%', '70%', '60%', '89%', '86%', '93%',\n",
       "       '67%', '94%', '91%', '96%', '92%', '25%', '95%', '44%', '59%',\n",
       "       '99%', '17%', '64%', '71%', '56%', '57%', '14%', '63%', '84%',\n",
       "       '98%', '10%', '38%', '29%', '20%', '40%', '73%', '13%', '85%',\n",
       "       '87%', '65%', '27%', '72%', '81%', '58%', '11%', '68%', '77%'],\n",
       "      dtype=object)"
      ]
     },
     "execution_count": 88,
     "metadata": {},
     "output_type": "execute_result"
    }
   ],
   "source": [
    "listings['host_response_rate'].unique()"
   ]
  },
  {
   "cell_type": "code",
   "execution_count": 89,
   "id": "0135be2b",
   "metadata": {},
   "outputs": [
    {
     "data": {
      "text/plain": [
       "54"
      ]
     },
     "execution_count": 89,
     "metadata": {},
     "output_type": "execute_result"
    }
   ],
   "source": [
    "listings['host_response_rate'].nunique()"
   ]
  },
  {
   "cell_type": "code",
   "execution_count": 90,
   "id": "de5aabbe",
   "metadata": {},
   "outputs": [
    {
     "data": {
      "text/plain": [
       "100%    7016\n",
       "0%      1265\n",
       "50%      385\n",
       "90%      304\n",
       "80%      218\n",
       "97%      201\n",
       "99%      167\n",
       "75%      162\n",
       "94%      161\n",
       "33%      136\n",
       "96%      124\n",
       "67%      105\n",
       "25%       93\n",
       "78%       89\n",
       "98%       83\n",
       "95%       81\n",
       "60%       76\n",
       "83%       74\n",
       "70%       64\n",
       "91%       61\n",
       "88%       59\n",
       "40%       57\n",
       "93%       56\n",
       "89%       49\n",
       "17%       46\n",
       "86%       35\n",
       "44%       34\n",
       "64%       24\n",
       "87%       23\n",
       "14%       16\n",
       "59%       14\n",
       "56%       14\n",
       "38%       13\n",
       "11%       12\n",
       "43%       12\n",
       "22%       12\n",
       "29%       12\n",
       "13%       11\n",
       "71%       11\n",
       "20%       10\n",
       "92%       10\n",
       "73%        8\n",
       "65%        8\n",
       "57%        7\n",
       "77%        7\n",
       "58%        5\n",
       "84%        4\n",
       "10%        2\n",
       "85%        2\n",
       "72%        2\n",
       "81%        2\n",
       "63%        1\n",
       "27%        1\n",
       "68%        1\n",
       "Name: host_response_rate, dtype: int64"
      ]
     },
     "execution_count": 90,
     "metadata": {},
     "output_type": "execute_result"
    }
   ],
   "source": [
    "listings['host_response_rate'].value_counts()"
   ]
  },
  {
   "cell_type": "code",
   "execution_count": 55,
   "id": "ddddce27",
   "metadata": {},
   "outputs": [
    {
     "data": {
      "text/plain": [
       "<AxesSubplot:>"
      ]
     },
     "execution_count": 55,
     "metadata": {},
     "output_type": "execute_result"
    },
    {
     "data": {
      "image/png": "[encoded data removed]",
      "text/plain": [
       "<Figure size 1440x720 with 1 Axes>"
      ]
     },
     "metadata": {
      "needs_background": "light"
     },
     "output_type": "display_data"
    }
   ],
   "source": [
    "listings['host_response_rate'].value_counts().plot.bar(figsize=(20,10))"
   ]
  },
  {
   "cell_type": "markdown",
   "id": "c2366726",
   "metadata": {},
   "source": [
    "**host_acceptance_rate**: 70 levels with values counts as shown below."
   ]
  },
  {
   "cell_type": "code",
   "execution_count": 92,
   "id": "06410c8f",
   "metadata": {},
   "outputs": [
    {
     "data": {
      "text/plain": [
       "array([nan, '100%', '40%', '50%', '92%', '94%', '86%', '60%', '99%', '0%',\n",
       "       '71%', '88%', '33%', '83%', '75%', '27%', '80%', '95%', '81%',\n",
       "       '52%', '89%', '96%', '53%', '84%', '67%', '25%', '47%', '78%',\n",
       "       '98%', '73%', '66%', '61%', '93%', '85%', '82%', '91%', '63%',\n",
       "       '90%', '97%', '79%', '30%', '69%', '57%', '54%', '38%', '42%',\n",
       "       '87%', '77%', '7%', '10%', '8%', '70%', '74%', '58%', '20%', '21%',\n",
       "       '55%', '29%', '6%', '76%', '17%', '72%', '22%', '13%', '43%',\n",
       "       '39%', '68%', '56%', '14%', '46%', '64%'], dtype=object)"
      ]
     },
     "execution_count": 92,
     "metadata": {},
     "output_type": "execute_result"
    }
   ],
   "source": [
    "listings['host_acceptance_rate'].unique()"
   ]
  },
  {
   "cell_type": "code",
   "execution_count": 93,
   "id": "30f797d7",
   "metadata": {},
   "outputs": [
    {
     "data": {
      "text/plain": [
       "70"
      ]
     },
     "execution_count": 93,
     "metadata": {},
     "output_type": "execute_result"
    }
   ],
   "source": [
    "listings['host_acceptance_rate'].nunique()"
   ]
  },
  {
   "cell_type": "code",
   "execution_count": 94,
   "id": "d2fdc3dd",
   "metadata": {},
   "outputs": [
    {
     "data": {
      "text/plain": [
       "100%    5675\n",
       "99%      776\n",
       "0%       649\n",
       "50%      247\n",
       "98%      235\n",
       "67%      176\n",
       "97%      168\n",
       "94%      148\n",
       "92%      142\n",
       "75%      127\n",
       "91%      125\n",
       "96%      124\n",
       "95%      122\n",
       "86%      118\n",
       "90%      108\n",
       "10%      103\n",
       "88%      102\n",
       "33%       96\n",
       "83%       92\n",
       "81%       80\n",
       "73%       74\n",
       "80%       63\n",
       "93%       60\n",
       "52%       55\n",
       "60%       47\n",
       "87%       47\n",
       "84%       42\n",
       "85%       40\n",
       "89%       36\n",
       "53%       31\n",
       "71%       30\n",
       "8%        29\n",
       "25%       29\n",
       "78%       27\n",
       "82%       18\n",
       "76%       18\n",
       "61%       17\n",
       "43%       17\n",
       "40%       15\n",
       "77%       15\n",
       "39%       13\n",
       "47%       13\n",
       "30%       12\n",
       "70%       11\n",
       "7%        11\n",
       "17%        9\n",
       "64%        9\n",
       "20%        8\n",
       "57%        8\n",
       "58%        8\n",
       "63%        7\n",
       "54%        7\n",
       "38%        6\n",
       "42%        6\n",
       "69%        6\n",
       "27%        5\n",
       "21%        4\n",
       "55%        4\n",
       "56%        4\n",
       "46%        4\n",
       "68%        3\n",
       "6%         2\n",
       "74%        2\n",
       "79%        2\n",
       "66%        2\n",
       "14%        2\n",
       "29%        1\n",
       "72%        1\n",
       "22%        1\n",
       "13%        1\n",
       "Name: host_acceptance_rate, dtype: int64"
      ]
     },
     "execution_count": 94,
     "metadata": {},
     "output_type": "execute_result"
    }
   ],
   "source": [
    "listings['host_acceptance_rate'].value_counts()"
   ]
  },
  {
   "cell_type": "code",
   "execution_count": 56,
   "id": "319038f9",
   "metadata": {},
   "outputs": [
    {
     "data": {
      "text/plain": [
       "<AxesSubplot:>"
      ]
     },
     "execution_count": 56,
     "metadata": {},
     "output_type": "execute_result"
    },
    {
     "data": {
      "image/png": "[encoded data removed]",
      "text/plain": [
       "<Figure size 1440x720 with 1 Axes>"
      ]
     },
     "metadata": {
      "needs_background": "light"
     },
     "output_type": "display_data"
    }
   ],
   "source": [
    "listings['host_acceptance_rate'].value_counts().plot.bar(figsize=(20,10))"
   ]
  },
  {
   "cell_type": "markdown",
   "id": "d1dbc7a8",
   "metadata": {},
   "source": [
    "**host_is_superhost**: three levels: f, t, nan(missing value). 15235 rows with f, 1837 rows with t and 2 rows with missing value."
   ]
  },
  {
   "cell_type": "code",
   "execution_count": 96,
   "id": "f381c02a",
   "metadata": {},
   "outputs": [
    {
     "data": {
      "text/plain": [
       "array(['f', 't', nan], dtype=object)"
      ]
     },
     "execution_count": 96,
     "metadata": {},
     "output_type": "execute_result"
    }
   ],
   "source": [
    "listings['host_is_superhost'].unique()"
   ]
  },
  {
   "cell_type": "code",
   "execution_count": 97,
   "id": "f46c598e",
   "metadata": {},
   "outputs": [
    {
     "data": {
      "text/plain": [
       "f    15235\n",
       "t     1837\n",
       "Name: host_is_superhost, dtype: int64"
      ]
     },
     "execution_count": 97,
     "metadata": {},
     "output_type": "execute_result"
    }
   ],
   "source": [
    "listings['host_is_superhost'].value_counts()"
   ]
  },
  {
   "cell_type": "markdown",
   "id": "6a8d1ce1",
   "metadata": {},
   "source": [
    "**host_thumbnail_url**: 7557 unique host's profile pictures on the listing page. Max length 106 characters."
   ]
  },
  {
   "cell_type": "code",
   "execution_count": 101,
   "id": "5a107cfe",
   "metadata": {},
   "outputs": [
    {
     "data": {
      "text/plain": [
       "7557"
      ]
     },
     "execution_count": 101,
     "metadata": {},
     "output_type": "execute_result"
    }
   ],
   "source": [
    "listings['host_thumbnail_url'].nunique()"
   ]
  },
  {
   "cell_type": "code",
   "execution_count": 102,
   "id": "b3205002",
   "metadata": {},
   "outputs": [
    {
     "data": {
      "text/plain": [
       "106.0"
      ]
     },
     "execution_count": 102,
     "metadata": {},
     "output_type": "execute_result"
    }
   ],
   "source": [
    "max(listings['host_thumbnail_url'].str.len())"
   ]
  },
  {
   "cell_type": "markdown",
   "id": "77e15b2a",
   "metadata": {},
   "source": [
    "**host_picture_url**: 7557 unique host's profile pictures on the host page. Max length 109 characters."
   ]
  },
  {
   "cell_type": "code",
   "execution_count": 103,
   "id": "312ff8eb",
   "metadata": {},
   "outputs": [
    {
     "data": {
      "text/plain": [
       "7557"
      ]
     },
     "execution_count": 103,
     "metadata": {},
     "output_type": "execute_result"
    }
   ],
   "source": [
    "listings['host_picture_url'].nunique()"
   ]
  },
  {
   "cell_type": "code",
   "execution_count": 104,
   "id": "95c7a0cb",
   "metadata": {},
   "outputs": [
    {
     "data": {
      "text/plain": [
       "109.0"
      ]
     },
     "execution_count": 104,
     "metadata": {},
     "output_type": "execute_result"
    }
   ],
   "source": [
    "max(listings['host_picture_url'].str.len())"
   ]
  },
  {
   "cell_type": "markdown",
   "id": "f8394f40",
   "metadata": {},
   "source": [
    "**host_neighbourhood**: <span style=\"color:blue\">Need language detection.</span> 89 unique host neighbourhoods. Max length 28 characters."
   ]
  },
  {
   "cell_type": "code",
   "execution_count": 108,
   "id": "cdb949d5",
   "metadata": {},
   "outputs": [
    {
     "data": {
      "text/plain": [
       "89"
      ]
     },
     "execution_count": 108,
     "metadata": {},
     "output_type": "execute_result"
    }
   ],
   "source": [
    "listings['host_neighbourhood'].nunique()"
   ]
  },
  {
   "cell_type": "code",
   "execution_count": 110,
   "id": "aef1d857",
   "metadata": {},
   "outputs": [
    {
     "data": {
      "text/plain": [
       "28"
      ]
     },
     "execution_count": 110,
     "metadata": {},
     "output_type": "execute_result"
    }
   ],
   "source": [
    "host_neighbourhood = listings['host_neighbourhood'].dropna()\n",
    "max(host_neighbourhood.str.len())"
   ]
  },
  {
   "cell_type": "code",
   "execution_count": 34,
   "id": "4a96d767",
   "metadata": {},
   "outputs": [],
   "source": [
    "# language detection\n",
    "host_neighbourhood = listings['host_neighbourhood']\n",
    "langdet = []                                                    \n",
    "\n",
    "for i in range(len(reviews)):                                         \n",
    "    try:                                                          \n",
    "       lang = detect(host_neighbourhood[i])                                      \n",
    "    except:                                                       \n",
    "       lang = 'no'                                                                  \n",
    "    langdet.append(lang) "
   ]
  },
  {
   "cell_type": "code",
   "execution_count": 35,
   "id": "e43985fb",
   "metadata": {},
   "outputs": [
    {
     "data": {
      "text/plain": [
       "{'af',\n",
       " 'cy',\n",
       " 'da',\n",
       " 'de',\n",
       " 'en',\n",
       " 'fi',\n",
       " 'id',\n",
       " 'it',\n",
       " 'lt',\n",
       " 'nl',\n",
       " 'no',\n",
       " 'pl',\n",
       " 'pt',\n",
       " 'sk',\n",
       " 'so',\n",
       " 'sv',\n",
       " 'sw',\n",
       " 'th',\n",
       " 'tl',\n",
       " 'vi'}"
      ]
     },
     "execution_count": 35,
     "metadata": {},
     "output_type": "execute_result"
    }
   ],
   "source": [
    "set(langdet)"
   ]
  },
  {
   "cell_type": "markdown",
   "id": "5f8b6d80",
   "metadata": {},
   "source": [
    "**host_listings_count**: from 0 listing to 422 listings. The median is 3 listings for a host. With few very large host's listing count, its distribution is highly skewed to the right."
   ]
  },
  {
   "cell_type": "code",
   "execution_count": 120,
   "id": "290f74a5",
   "metadata": {
    "scrolled": true
   },
   "outputs": [],
   "source": [
    "listing_count = listings['host_listings_count']"
   ]
  },
  {
   "cell_type": "code",
   "execution_count": 121,
   "id": "6a1c1c8e",
   "metadata": {},
   "outputs": [
    {
     "data": {
      "text/plain": [
       "422.0"
      ]
     },
     "execution_count": 121,
     "metadata": {},
     "output_type": "execute_result"
    }
   ],
   "source": [
    "max(listing_count)"
   ]
  },
  {
   "cell_type": "code",
   "execution_count": 122,
   "id": "5071c823",
   "metadata": {},
   "outputs": [
    {
     "data": {
      "text/plain": [
       "0.0"
      ]
     },
     "execution_count": 122,
     "metadata": {},
     "output_type": "execute_result"
    }
   ],
   "source": [
    "min(listing_count)"
   ]
  },
  {
   "cell_type": "code",
   "execution_count": 123,
   "id": "41da13ed",
   "metadata": {},
   "outputs": [
    {
     "data": {
      "text/plain": [
       "0.25     1.0\n",
       "0.50     3.0\n",
       "0.75    11.0\n",
       "Name: host_listings_count, dtype: float64"
      ]
     },
     "execution_count": 123,
     "metadata": {},
     "output_type": "execute_result"
    }
   ],
   "source": [
    "listing_count.quantile([0.25,0.5,0.75])"
   ]
  },
  {
   "cell_type": "code",
   "execution_count": 124,
   "id": "15387541",
   "metadata": {},
   "outputs": [
    {
     "data": {
      "text/plain": [
       "count    17072.000000\n",
       "mean        14.609770\n",
       "std         36.417298\n",
       "min          0.000000\n",
       "25%          1.000000\n",
       "50%          3.000000\n",
       "75%         11.000000\n",
       "max        422.000000\n",
       "Name: host_listings_count, dtype: float64"
      ]
     },
     "execution_count": 124,
     "metadata": {},
     "output_type": "execute_result"
    }
   ],
   "source": [
    "listing_count.describe()"
   ]
  },
  {
   "cell_type": "code",
   "execution_count": 128,
   "id": "f4b0bfd7",
   "metadata": {},
   "outputs": [
    {
     "data": {
      "image/png": "[encoded data removed]",
      "text/plain": [
       "<Figure size 432x288 with 1 Axes>"
      ]
     },
     "metadata": {
      "needs_background": "light"
     },
     "output_type": "display_data"
    }
   ],
   "source": [
    "plt.hist(listing_count)\n",
    "plt.show() "
   ]
  },
  {
   "cell_type": "markdown",
   "id": "dd78ded0",
   "metadata": {},
   "source": [
    "**host_total_listings_count**: same as host_listings_count, <span style=\"color:blue\">can ignore this attribute</span>"
   ]
  },
  {
   "cell_type": "code",
   "execution_count": 125,
   "id": "716b6f13",
   "metadata": {},
   "outputs": [],
   "source": [
    "total_listing_count = listings['host_total_listings_count']"
   ]
  },
  {
   "cell_type": "code",
   "execution_count": 126,
   "id": "519427e9",
   "metadata": {},
   "outputs": [
    {
     "data": {
      "text/plain": [
       "422.0"
      ]
     },
     "execution_count": 126,
     "metadata": {},
     "output_type": "execute_result"
    }
   ],
   "source": [
    "max(total_listing_count)"
   ]
  },
  {
   "cell_type": "code",
   "execution_count": 127,
   "id": "b5f5bc2e",
   "metadata": {},
   "outputs": [
    {
     "data": {
      "text/plain": [
       "0.0"
      ]
     },
     "execution_count": 127,
     "metadata": {},
     "output_type": "execute_result"
    }
   ],
   "source": [
    "min(total_listing_count)"
   ]
  },
  {
   "cell_type": "code",
   "execution_count": 129,
   "id": "85a9c82b",
   "metadata": {},
   "outputs": [
    {
     "data": {
      "text/plain": [
       "0.25     1.0\n",
       "0.50     3.0\n",
       "0.75    11.0\n",
       "Name: host_total_listings_count, dtype: float64"
      ]
     },
     "execution_count": 129,
     "metadata": {},
     "output_type": "execute_result"
    }
   ],
   "source": [
    "total_listing_count.quantile([0.25,0.5,0.75])"
   ]
  },
  {
   "cell_type": "code",
   "execution_count": 130,
   "id": "fbf6e229",
   "metadata": {},
   "outputs": [
    {
     "data": {
      "text/plain": [
       "count    17072.000000\n",
       "mean        14.609770\n",
       "std         36.417298\n",
       "min          0.000000\n",
       "25%          1.000000\n",
       "50%          3.000000\n",
       "75%         11.000000\n",
       "max        422.000000\n",
       "Name: host_total_listings_count, dtype: float64"
      ]
     },
     "execution_count": 130,
     "metadata": {},
     "output_type": "execute_result"
    }
   ],
   "source": [
    "total_listing_count.describe()"
   ]
  },
  {
   "cell_type": "code",
   "execution_count": 131,
   "id": "d0b441d8",
   "metadata": {},
   "outputs": [
    {
     "data": {
      "image/png": "[encoded data removed]",
      "text/plain": [
       "<Figure size 432x288 with 1 Axes>"
      ]
     },
     "metadata": {
      "needs_background": "light"
     },
     "output_type": "display_data"
    }
   ],
   "source": [
    "plt.hist(total_listing_count)\n",
    "plt.show() "
   ]
  },
  {
   "cell_type": "code",
   "execution_count": 132,
   "id": "adfb0e92",
   "metadata": {},
   "outputs": [],
   "source": [
    "count_diff = total_listing_count - listing_count"
   ]
  },
  {
   "cell_type": "code",
   "execution_count": 133,
   "id": "74e3a481",
   "metadata": {},
   "outputs": [
    {
     "data": {
      "text/plain": [
       "2"
      ]
     },
     "execution_count": 133,
     "metadata": {},
     "output_type": "execute_result"
    }
   ],
   "source": [
    "# two rows with missing values on listing_count and total_listing_count\n",
    "len([i for i in range(len(count_diff)) if count_diff[i] != 0])"
   ]
  },
  {
   "cell_type": "code",
   "execution_count": 134,
   "id": "fd6f5da9",
   "metadata": {},
   "outputs": [
    {
     "data": {
      "text/plain": [
       "[7860, 12775]"
      ]
     },
     "execution_count": 134,
     "metadata": {},
     "output_type": "execute_result"
    }
   ],
   "source": [
    "[i for i in range(len(count_diff)) if count_diff[i] != 0]"
   ]
  },
  {
   "cell_type": "code",
   "execution_count": 138,
   "id": "00376cfa",
   "metadata": {},
   "outputs": [
    {
     "data": {
      "text/plain": [
       "(nan, nan)"
      ]
     },
     "execution_count": 138,
     "metadata": {},
     "output_type": "execute_result"
    }
   ],
   "source": [
    "(listing_count.iloc[7860], total_listing_count.iloc[7860])"
   ]
  },
  {
   "cell_type": "code",
   "execution_count": 139,
   "id": "7ae21933",
   "metadata": {},
   "outputs": [
    {
     "data": {
      "text/plain": [
       "(nan, nan)"
      ]
     },
     "execution_count": 139,
     "metadata": {},
     "output_type": "execute_result"
    }
   ],
   "source": [
    "(listing_count.iloc[12775], total_listing_count.iloc[12775])"
   ]
  },
  {
   "cell_type": "markdown",
   "id": "de7cefd9",
   "metadata": {},
   "source": [
    "**host_verifications**: there are three ways that a host can confirm identity: phone, email and work email. Hence there are 8 levels in total: 6 combinations of the three eays, no verification and no information on the verification. 12773 rows with verified email and phone; 2168 rows with verified email, phone and work email; 1916 rows with verified phone; 108 rows with verified phone and work email; 60 rows with no verification; 45 rows with verified email; 2 rows with verified work_email; 2 rows with no information on verification."
   ]
  },
  {
   "cell_type": "code",
   "execution_count": 46,
   "id": "7bc475b0",
   "metadata": {},
   "outputs": [
    {
     "data": {
      "text/plain": [
       "array([\"['email', 'phone']\", \"['phone']\",\n",
       "       \"['email', 'phone', 'work_email']\", \"['phone', 'work_email']\",\n",
       "       \"['email']\", '[]', \"['work_email']\", 'None'], dtype=object)"
      ]
     },
     "execution_count": 46,
     "metadata": {},
     "output_type": "execute_result"
    }
   ],
   "source": [
    "listings['host_verifications'].unique()"
   ]
  },
  {
   "cell_type": "code",
   "execution_count": 47,
   "id": "22f202f2",
   "metadata": {},
   "outputs": [
    {
     "data": {
      "text/plain": [
       "['email', 'phone']                  12773\n",
       "['email', 'phone', 'work_email']     2168\n",
       "['phone']                            1916\n",
       "['phone', 'work_email']               108\n",
       "[]                                     60\n",
       "['email']                              45\n",
       "['work_email']                          2\n",
       "None                                    2\n",
       "Name: host_verifications, dtype: int64"
      ]
     },
     "execution_count": 47,
     "metadata": {},
     "output_type": "execute_result"
    }
   ],
   "source": [
    "listings['host_verifications'].value_counts()"
   ]
  },
  {
   "cell_type": "code",
   "execution_count": 48,
   "id": "6ea8a985",
   "metadata": {},
   "outputs": [
    {
     "data": {
      "text/plain": [
       "32"
      ]
     },
     "execution_count": 48,
     "metadata": {},
     "output_type": "execute_result"
    }
   ],
   "source": [
    "max(listings['host_verifications'].str.len())"
   ]
  },
  {
   "cell_type": "code",
   "execution_count": 66,
   "id": "3436d2e8",
   "metadata": {},
   "outputs": [
    {
     "data": {
      "text/plain": [
       "<AxesSubplot:>"
      ]
     },
     "execution_count": 66,
     "metadata": {},
     "output_type": "execute_result"
    },
    {
     "data": {
      "image/png": "[encoded data removed]",
      "text/plain": [
       "<Figure size 432x288 with 1 Axes>"
      ]
     },
     "metadata": {
      "needs_background": "light"
     },
     "output_type": "display_data"
    }
   ],
   "source": [
    "listings['host_verifications'].value_counts().plot.bar()"
   ]
  },
  {
   "cell_type": "markdown",
   "id": "f449a2ba",
   "metadata": {},
   "source": [
    "**host_has_profile_pic**: three levels: f, t, nan(missing value). 16922 rows with t, 150 rows with f and 2 rows with missing value."
   ]
  },
  {
   "cell_type": "code",
   "execution_count": 140,
   "id": "37494377",
   "metadata": {},
   "outputs": [
    {
     "data": {
      "text/plain": [
       "array(['t', 'f', nan], dtype=object)"
      ]
     },
     "execution_count": 140,
     "metadata": {},
     "output_type": "execute_result"
    }
   ],
   "source": [
    "listings['host_has_profile_pic'].unique()"
   ]
  },
  {
   "cell_type": "code",
   "execution_count": 142,
   "id": "48b2c36a",
   "metadata": {},
   "outputs": [
    {
     "data": {
      "text/plain": [
       "t    16922\n",
       "f      150\n",
       "Name: host_has_profile_pic, dtype: int64"
      ]
     },
     "execution_count": 142,
     "metadata": {},
     "output_type": "execute_result"
    }
   ],
   "source": [
    "listings['host_has_profile_pic'].value_counts()"
   ]
  },
  {
   "cell_type": "markdown",
   "id": "eecbfbc2",
   "metadata": {},
   "source": [
    "**host_identity_verified**: three levels: f, t, nan(missing value). 16922 rows with t, 150 rows with f and 2 rows with missing value."
   ]
  },
  {
   "cell_type": "code",
   "execution_count": 144,
   "id": "f601977c",
   "metadata": {},
   "outputs": [
    {
     "data": {
      "text/plain": [
       "array(['f', 't', nan], dtype=object)"
      ]
     },
     "execution_count": 144,
     "metadata": {},
     "output_type": "execute_result"
    }
   ],
   "source": [
    "listings['host_identity_verified'].unique()"
   ]
  },
  {
   "cell_type": "code",
   "execution_count": 145,
   "id": "2d7665ff",
   "metadata": {},
   "outputs": [
    {
     "data": {
      "text/plain": [
       "t    11550\n",
       "f     5522\n",
       "Name: host_identity_verified, dtype: int64"
      ]
     },
     "execution_count": 145,
     "metadata": {},
     "output_type": "execute_result"
    }
   ],
   "source": [
    "listings['host_identity_verified'].value_counts()"
   ]
  },
  {
   "cell_type": "code",
   "execution_count": 152,
   "id": "32fd80f4",
   "metadata": {},
   "outputs": [
    {
     "data": {
      "text/html": [
       "<div>\n",
       "<style scoped>\n",
       "    .dataframe tbody tr th:only-of-type {\n",
       "        vertical-align: middle;\n",
       "    }\n",
       "\n",
       "    .dataframe tbody tr th {\n",
       "        vertical-align: top;\n",
       "    }\n",
       "\n",
       "    .dataframe thead th {\n",
       "        text-align: right;\n",
       "    }\n",
       "</style>\n",
       "<table border=\"1\" class=\"dataframe\">\n",
       "  <thead>\n",
       "    <tr style=\"text-align: right;\">\n",
       "      <th></th>\n",
       "      <th>host_id</th>\n",
       "      <th>host_url</th>\n",
       "      <th>host_name</th>\n",
       "      <th>host_since</th>\n",
       "      <th>host_location</th>\n",
       "      <th>host_about</th>\n",
       "      <th>host_response_time</th>\n",
       "      <th>host_response_rate</th>\n",
       "      <th>host_acceptance_rate</th>\n",
       "      <th>host_is_superhost</th>\n",
       "      <th>host_thumbnail_url</th>\n",
       "      <th>host_picture_url</th>\n",
       "      <th>host_neighbourhood</th>\n",
       "      <th>host_listings_count</th>\n",
       "      <th>host_total_listings_count</th>\n",
       "      <th>host_verifications</th>\n",
       "      <th>host_has_profile_pic</th>\n",
       "      <th>host_identity_verified</th>\n",
       "    </tr>\n",
       "  </thead>\n",
       "  <tbody>\n",
       "    <tr>\n",
       "      <th>7860</th>\n",
       "      <td>21348778</td>\n",
       "      <td>https://www.airbnb.com/users/show/21348778</td>\n",
       "      <td>NaN</td>\n",
       "      <td>NaN</td>\n",
       "      <td>NaN</td>\n",
       "      <td>NaN</td>\n",
       "      <td>NaN</td>\n",
       "      <td>NaN</td>\n",
       "      <td>NaN</td>\n",
       "      <td>NaN</td>\n",
       "      <td>NaN</td>\n",
       "      <td>NaN</td>\n",
       "      <td>NaN</td>\n",
       "      <td>NaN</td>\n",
       "      <td>NaN</td>\n",
       "      <td>None</td>\n",
       "      <td>NaN</td>\n",
       "      <td>NaN</td>\n",
       "    </tr>\n",
       "    <tr>\n",
       "      <th>12775</th>\n",
       "      <td>21348778</td>\n",
       "      <td>https://www.airbnb.com/users/show/21348778</td>\n",
       "      <td>NaN</td>\n",
       "      <td>NaN</td>\n",
       "      <td>NaN</td>\n",
       "      <td>NaN</td>\n",
       "      <td>NaN</td>\n",
       "      <td>NaN</td>\n",
       "      <td>NaN</td>\n",
       "      <td>NaN</td>\n",
       "      <td>NaN</td>\n",
       "      <td>NaN</td>\n",
       "      <td>NaN</td>\n",
       "      <td>NaN</td>\n",
       "      <td>NaN</td>\n",
       "      <td>None</td>\n",
       "      <td>NaN</td>\n",
       "      <td>NaN</td>\n",
       "    </tr>\n",
       "  </tbody>\n",
       "</table>\n",
       "</div>"
      ],
      "text/plain": [
       "        host_id                                    host_url host_name  \\\n",
       "7860   21348778  https://www.airbnb.com/users/show/21348778       NaN   \n",
       "12775  21348778  https://www.airbnb.com/users/show/21348778       NaN   \n",
       "\n",
       "      host_since host_location host_about host_response_time  \\\n",
       "7860         NaN           NaN        NaN                NaN   \n",
       "12775        NaN           NaN        NaN                NaN   \n",
       "\n",
       "      host_response_rate host_acceptance_rate host_is_superhost  \\\n",
       "7860                 NaN                  NaN               NaN   \n",
       "12775                NaN                  NaN               NaN   \n",
       "\n",
       "      host_thumbnail_url host_picture_url host_neighbourhood  \\\n",
       "7860                 NaN              NaN                NaN   \n",
       "12775                NaN              NaN                NaN   \n",
       "\n",
       "       host_listings_count  host_total_listings_count host_verifications  \\\n",
       "7860                   NaN                        NaN               None   \n",
       "12775                  NaN                        NaN               None   \n",
       "\n",
       "      host_has_profile_pic host_identity_verified  \n",
       "7860                   NaN                    NaN  \n",
       "12775                  NaN                    NaN  "
      ]
     },
     "execution_count": 152,
     "metadata": {},
     "output_type": "execute_result"
    }
   ],
   "source": [
    "# this host only has id, url and \n",
    "listings[listings['host_identity_verified'].isna()].iloc[:, 8:26]"
   ]
  },
  {
   "cell_type": "code",
   "execution_count": 146,
   "id": "fa72c909",
   "metadata": {},
   "outputs": [
    {
     "data": {
      "text/plain": [
       "2"
      ]
     },
     "execution_count": 146,
     "metadata": {},
     "output_type": "execute_result"
    }
   ],
   "source": [
    "17074-11550-5522"
   ]
  },
  {
   "cell_type": "markdown",
   "id": "03d1e4ea",
   "metadata": {},
   "source": [
    "**neighbourhood**: <span style=\"color:blue\">Need language detection.</span> There are duplicate neighborhoods for the listings. Max length 84 characters."
   ]
  },
  {
   "cell_type": "code",
   "execution_count": 52,
   "id": "1fe3efa6",
   "metadata": {},
   "outputs": [
    {
     "data": {
      "text/plain": [
       "729"
      ]
     },
     "execution_count": 52,
     "metadata": {},
     "output_type": "execute_result"
    }
   ],
   "source": [
    "listings['neighbourhood'].nunique()"
   ]
  },
  {
   "cell_type": "code",
   "execution_count": 51,
   "id": "015d3835",
   "metadata": {},
   "outputs": [
    {
     "data": {
      "text/plain": [
       "84.0"
      ]
     },
     "execution_count": 51,
     "metadata": {},
     "output_type": "execute_result"
    }
   ],
   "source": [
    "max(listings['neighbourhood'].str.len())"
   ]
  },
  {
   "cell_type": "code",
   "execution_count": 36,
   "id": "0d8f9d50",
   "metadata": {},
   "outputs": [],
   "source": [
    "# language detection\n",
    "neighbourhood = listings['neighbourhood']\n",
    "langdet = []                                                    \n",
    "\n",
    "for i in range(len(reviews)):                                         \n",
    "    try:                                                          \n",
    "       lang = detect(neighbourhood[i])                                      \n",
    "    except:                                                       \n",
    "       lang = 'no'                                                                  \n",
    "    langdet.append(lang) "
   ]
  },
  {
   "cell_type": "code",
   "execution_count": 38,
   "id": "941addef",
   "metadata": {},
   "outputs": [
    {
     "data": {
      "text/plain": [
       "{'en', 'fi', 'id', 'nl', 'no', 'sw', 'th', 'tl', 'vi'}"
      ]
     },
     "execution_count": 38,
     "metadata": {},
     "output_type": "execute_result"
    }
   ],
   "source": [
    "set(langdet)"
   ]
  },
  {
   "cell_type": "markdown",
   "id": "d0c75c6c",
   "metadata": {},
   "source": [
    "**neighbourhood_cleansed**: After cleaning the neighbourhood data with geological information, the neighbourhood size is now 50. The row counts for each neighbourhood are shown below. Max length 20 characters."
   ]
  },
  {
   "cell_type": "code",
   "execution_count": 54,
   "id": "3639b8cc",
   "metadata": {},
   "outputs": [
    {
     "data": {
      "text/plain": [
       "50"
      ]
     },
     "execution_count": 54,
     "metadata": {},
     "output_type": "execute_result"
    }
   ],
   "source": [
    "listings['neighbourhood_cleansed'].nunique()"
   ]
  },
  {
   "cell_type": "code",
   "execution_count": 57,
   "id": "1cf890ff",
   "metadata": {},
   "outputs": [
    {
     "data": {
      "text/plain": [
       "array(['Bang Sue', 'Lak Si', 'Khlong Sam Wa', 'Thawi Watthana',\n",
       "       'Ratchathewi', 'Bang Na', 'Bang Kapi', 'Din Daeng', 'Don Mueang',\n",
       "       'Parthum Wan', 'Rat Burana', 'Suanluang', 'Bang Rak', 'Yan na wa',\n",
       "       'Vadhana', 'Khlong Toei', 'Saphan Sung', 'Sathon', 'Min Buri',\n",
       "       'Khlong San', 'Bang Phlat', 'Phaya Thai', 'Chatu Chak', 'Sai Mai',\n",
       "       'Lat Krabang', 'Bangkok Yai', 'Phasi Charoen', 'Phra Khanong',\n",
       "       'Bang Kho laen', 'Huai Khwang', 'Wang Thong Lang', 'Nong Chok',\n",
       "       'Phra Nakhon', 'Pra Wet', 'Dusit', 'Bueng Kum', 'Bang Khen',\n",
       "       'Thon buri', 'Samphanthawong', 'Chom Thong', 'Khan Na Yao',\n",
       "       'Lat Phrao', 'Bangkok Noi', 'Pom Prap Sattru Phai', 'Nong Khaem',\n",
       "       'Bang Khae', 'Thung khru', 'Bang Khun thain', 'Taling Chan',\n",
       "       'Bang Bon'], dtype=object)"
      ]
     },
     "execution_count": 57,
     "metadata": {},
     "output_type": "execute_result"
    }
   ],
   "source": [
    "listings['neighbourhood_cleansed'].unique()"
   ]
  },
  {
   "cell_type": "code",
   "execution_count": 58,
   "id": "71f15033",
   "metadata": {},
   "outputs": [
    {
     "data": {
      "text/plain": [
       "Vadhana                 2117\n",
       "Khlong Toei             2116\n",
       "Huai Khwang             1180\n",
       "Ratchathewi             1142\n",
       "Bang Rak                 913\n",
       "Sathon                   702\n",
       "Bang Na                  690\n",
       "Phra Nakhon              625\n",
       "Phra Khanong             573\n",
       "Chatu Chak               555\n",
       "Din Daeng                474\n",
       "Phaya Thai               472\n",
       "Parthum Wan              447\n",
       "Khlong San               400\n",
       "Suanluang                367\n",
       "Lak Si                   333\n",
       "Bang Sue                 312\n",
       "Bang Kapi                284\n",
       "Pra Wet                  256\n",
       "Don Mueang               241\n",
       "Bang Phlat               236\n",
       "Lat Krabang              223\n",
       "Yan na wa                218\n",
       "Thon buri                214\n",
       "Phasi Charoen            162\n",
       "Pom Prap Sattru Phai     159\n",
       "Bang Kho laen            138\n",
       "Samphanthawong           137\n",
       "Bangkok Noi              133\n",
       "Bang Khen                131\n",
       "Wang Thong Lang          126\n",
       "Bangkok Yai              104\n",
       "Bang Khae                103\n",
       "Dusit                    101\n",
       "Min Buri                  71\n",
       "Chom Thong                70\n",
       "Rat Burana                63\n",
       "Khan Na Yao               58\n",
       "Lat Phrao                 57\n",
       "Sai Mai                   55\n",
       "Taling Chan               51\n",
       "Bueng Kum                 48\n",
       "Saphan Sung               44\n",
       "Thung khru                36\n",
       "Thawi Watthana            35\n",
       "Khlong Sam Wa             35\n",
       "Bang Khun thain           25\n",
       "Nong Chok                 19\n",
       "Nong Khaem                19\n",
       "Bang Bon                   4\n",
       "Name: neighbourhood_cleansed, dtype: int64"
      ]
     },
     "execution_count": 58,
     "metadata": {},
     "output_type": "execute_result"
    }
   ],
   "source": [
    "listings['neighbourhood_cleansed'].value_counts()"
   ]
  },
  {
   "cell_type": "code",
   "execution_count": 56,
   "id": "ef22ba81",
   "metadata": {},
   "outputs": [
    {
     "data": {
      "text/plain": [
       "20"
      ]
     },
     "execution_count": 56,
     "metadata": {},
     "output_type": "execute_result"
    }
   ],
   "source": [
    "max(listings['neighbourhood_cleansed'].str.len())"
   ]
  },
  {
   "cell_type": "code",
   "execution_count": 39,
   "id": "21173eed",
   "metadata": {},
   "outputs": [
    {
     "data": {
      "text/plain": [
       "<AxesSubplot:>"
      ]
     },
     "execution_count": 39,
     "metadata": {},
     "output_type": "execute_result"
    },
    {
     "data": {
      "image/png": "[encoded data removed]",
      "text/plain": [
       "<Figure size 1440x720 with 1 Axes>"
      ]
     },
     "metadata": {
      "needs_background": "light"
     },
     "output_type": "display_data"
    }
   ],
   "source": [
    "listings['neighbourhood_cleansed'].value_counts().plot.bar(figsize=(20,10))"
   ]
  },
  {
   "cell_type": "markdown",
   "id": "b8c31812",
   "metadata": {},
   "source": [
    "**neighbourhood_group_cleansed**: all empty values, no data contained."
   ]
  },
  {
   "cell_type": "code",
   "execution_count": 59,
   "id": "4ec261cb",
   "metadata": {},
   "outputs": [
    {
     "data": {
      "text/plain": [
       "0   NaN\n",
       "1   NaN\n",
       "2   NaN\n",
       "3   NaN\n",
       "4   NaN\n",
       "Name: neighbourhood_group_cleansed, dtype: float64"
      ]
     },
     "execution_count": 59,
     "metadata": {},
     "output_type": "execute_result"
    }
   ],
   "source": [
    "listings['neighbourhood_group_cleansed'].head()"
   ]
  },
  {
   "cell_type": "code",
   "execution_count": 60,
   "id": "753f0ae3",
   "metadata": {},
   "outputs": [
    {
     "data": {
      "text/plain": [
       "0"
      ]
     },
     "execution_count": 60,
     "metadata": {},
     "output_type": "execute_result"
    }
   ],
   "source": [
    "listings['neighbourhood_group_cleansed'].nunique()"
   ]
  },
  {
   "cell_type": "markdown",
   "id": "906f18d8",
   "metadata": {},
   "source": [
    "**latitude**: ranges from 13.5273 to 13.97355. The distribution looks bell-shape, similar to normal distribution."
   ]
  },
  {
   "cell_type": "code",
   "execution_count": 62,
   "id": "3f9b103f",
   "metadata": {},
   "outputs": [
    {
     "data": {
      "text/plain": [
       "13.97355"
      ]
     },
     "execution_count": 62,
     "metadata": {},
     "output_type": "execute_result"
    }
   ],
   "source": [
    "max(listings['latitude'])"
   ]
  },
  {
   "cell_type": "code",
   "execution_count": 63,
   "id": "b511eccf",
   "metadata": {},
   "outputs": [
    {
     "data": {
      "text/plain": [
       "13.5273"
      ]
     },
     "execution_count": 63,
     "metadata": {},
     "output_type": "execute_result"
    }
   ],
   "source": [
    "min(listings['latitude'])"
   ]
  },
  {
   "cell_type": "code",
   "execution_count": 69,
   "id": "de8d830a",
   "metadata": {},
   "outputs": [
    {
     "data": {
      "text/plain": [
       "0.25    13.719140\n",
       "0.50    13.738555\n",
       "0.75    13.763040\n",
       "Name: latitude, dtype: float64"
      ]
     },
     "execution_count": 69,
     "metadata": {},
     "output_type": "execute_result"
    }
   ],
   "source": [
    "listings['latitude'].quantile([0.25,0.5,0.75])"
   ]
  },
  {
   "cell_type": "code",
   "execution_count": 70,
   "id": "e0bf8101",
   "metadata": {},
   "outputs": [
    {
     "data": {
      "text/plain": [
       "count    17074.000000\n",
       "mean        13.746988\n",
       "std          0.050114\n",
       "min         13.527300\n",
       "25%         13.719140\n",
       "50%         13.738555\n",
       "75%         13.763040\n",
       "max         13.973550\n",
       "Name: latitude, dtype: float64"
      ]
     },
     "execution_count": 70,
     "metadata": {},
     "output_type": "execute_result"
    }
   ],
   "source": [
    "listings['latitude'].describe()"
   ]
  },
  {
   "cell_type": "code",
   "execution_count": 68,
   "id": "b5aac88a",
   "metadata": {},
   "outputs": [
    {
     "data": {
      "image/png": "[encoded data removed]",
      "text/plain": [
       "<Figure size 432x288 with 1 Axes>"
      ]
     },
     "metadata": {
      "needs_background": "light"
     },
     "output_type": "display_data"
    }
   ],
   "source": [
    "plt.hist(listings['latitude'])\n",
    "plt.show() "
   ]
  },
  {
   "cell_type": "markdown",
   "id": "b3920a6c",
   "metadata": {},
   "source": [
    "**longitude**: ranges from 100.31062 to 100.92344. The distribution is bell-shaped."
   ]
  },
  {
   "cell_type": "code",
   "execution_count": 71,
   "id": "658e376e",
   "metadata": {},
   "outputs": [
    {
     "data": {
      "text/plain": [
       "100.92344"
      ]
     },
     "execution_count": 71,
     "metadata": {},
     "output_type": "execute_result"
    }
   ],
   "source": [
    "max(listings['longitude'])"
   ]
  },
  {
   "cell_type": "code",
   "execution_count": 72,
   "id": "d4f56eb3",
   "metadata": {},
   "outputs": [
    {
     "data": {
      "text/plain": [
       "100.31062"
      ]
     },
     "execution_count": 72,
     "metadata": {},
     "output_type": "execute_result"
    }
   ],
   "source": [
    "min(listings['longitude'])"
   ]
  },
  {
   "cell_type": "code",
   "execution_count": 73,
   "id": "3fc17601",
   "metadata": {},
   "outputs": [
    {
     "data": {
      "text/plain": [
       "0.25    100.52998\n",
       "0.50    100.56162\n",
       "0.75    100.58813\n",
       "Name: longitude, dtype: float64"
      ]
     },
     "execution_count": 73,
     "metadata": {},
     "output_type": "execute_result"
    }
   ],
   "source": [
    "listings['longitude'].quantile([0.25,0.5,0.75])"
   ]
  },
  {
   "cell_type": "code",
   "execution_count": 40,
   "id": "417101d3",
   "metadata": {},
   "outputs": [
    {
     "data": {
      "text/plain": [
       "count    17074.000000\n",
       "mean       100.561440\n",
       "std          0.054145\n",
       "min        100.310620\n",
       "25%        100.529980\n",
       "50%        100.561620\n",
       "75%        100.588130\n",
       "max        100.923440\n",
       "Name: longitude, dtype: float64"
      ]
     },
     "execution_count": 40,
     "metadata": {},
     "output_type": "execute_result"
    }
   ],
   "source": [
    "listings['longitude'].describe()"
   ]
  },
  {
   "cell_type": "code",
   "execution_count": 74,
   "id": "0a5d8e55",
   "metadata": {},
   "outputs": [
    {
     "data": {
      "image/png": "[encoded data removed]",
      "text/plain": [
       "<Figure size 432x288 with 1 Axes>"
      ]
     },
     "metadata": {
      "needs_background": "light"
     },
     "output_type": "display_data"
    }
   ],
   "source": [
    "plt.hist(listings['longitude'])\n",
    "plt.show() "
   ]
  },
  {
   "cell_type": "markdown",
   "id": "7365ff36",
   "metadata": {},
   "source": [
    "**property_type**: There are 86 types of property. The row counts for each property type are shown below. The most popular property type is entire rental unit, followed by entire condo. Max length 34 characters."
   ]
  },
  {
   "cell_type": "code",
   "execution_count": 75,
   "id": "bac11004",
   "metadata": {},
   "outputs": [
    {
     "data": {
      "text/plain": [
       "86"
      ]
     },
     "execution_count": 75,
     "metadata": {},
     "output_type": "execute_result"
    }
   ],
   "source": [
    "listings['property_type'].nunique()"
   ]
  },
  {
   "cell_type": "code",
   "execution_count": 76,
   "id": "4637cf60",
   "metadata": {},
   "outputs": [
    {
     "data": {
      "text/plain": [
       "array(['Entire condo', 'Private room in rental unit',\n",
       "       'Private room in condo', 'Private room in home',\n",
       "       'Entire rental unit', 'Private room in serviced apartment',\n",
       "       'Room in hotel', 'Room in hostel', 'Private room in hostel',\n",
       "       'Entire home', 'Entire serviced apartment',\n",
       "       'Shared room in rental unit', 'Room in aparthotel',\n",
       "       'Shared room in parking space', 'Private room in guesthouse',\n",
       "       'Shared room in hostel', 'Entire loft', 'Private room in loft',\n",
       "       'Shared room in guest suite', 'Shared room in condo',\n",
       "       'Room in boutique hotel', 'Room in serviced apartment',\n",
       "       'Private room in townhouse', 'Entire villa', 'Shared room in home',\n",
       "       'Private room in cabin', 'Private room', 'Entire townhouse',\n",
       "       'Room in bed and breakfast', 'Entire bed and breakfast',\n",
       "       'Private room in bed and breakfast',\n",
       "       'Shared room in bed and breakfast', 'Private room in floor',\n",
       "       'Private room in island', 'Entire cottage',\n",
       "       'Private room in villa', 'Entire chalet',\n",
       "       'Private room in guest suite', 'Shared room in boutique hotel',\n",
       "       'Entire place', 'Shared room in townhouse', 'Shared room in dome',\n",
       "       'Entire cabin', 'Entire guesthouse', 'Shared room in villa',\n",
       "       'Entire bungalow', 'Entire guest suite', 'Private room in boat',\n",
       "       'Shared room', 'Shared room in guesthouse', 'Entire hostel',\n",
       "       'Private room in tent', 'Private room in tiny home',\n",
       "       'Private room in bungalow', 'Private room in nature lodge',\n",
       "       'Entire home/apt', 'Shared room in cave', 'Farm stay', 'Tiny home',\n",
       "       'Shared room in serviced apartment', 'Private room in resort',\n",
       "       'Private room in dorm', 'Dome', 'Shared room in tiny home',\n",
       "       'Shared room in casa particular', 'Private room in barn',\n",
       "       'Treehouse', 'Private room in farm stay', 'Shared room in loft',\n",
       "       'Private room in dome', 'Room in resort', 'Shared room in chalet',\n",
       "       'Private room in hut', 'Private room in earthen home',\n",
       "       'Private room in kezhan', 'Earthen home', 'Shared room in kezhan',\n",
       "       'Shared room in cabin', 'Pension', 'Private room in houseboat',\n",
       "       'Barn', 'Private room in casa particular', 'Entire vacation home',\n",
       "       'Private room in vacation home', 'Shared room in hotel',\n",
       "       'Casa particular'], dtype=object)"
      ]
     },
     "execution_count": 76,
     "metadata": {},
     "output_type": "execute_result"
    }
   ],
   "source": [
    "listings['property_type'].unique()"
   ]
  },
  {
   "cell_type": "code",
   "execution_count": 43,
   "id": "fa90e0a1",
   "metadata": {},
   "outputs": [
    {
     "data": {
      "text/plain": [
       "Entire rental unit                    4048\n",
       "Entire condo                          3651\n",
       "Private room in rental unit           1775\n",
       "Private room in condo                  972\n",
       "Private room in home                   680\n",
       "Room in boutique hotel                 662\n",
       "Room in hotel                          609\n",
       "Entire home                            451\n",
       "Private room in hostel                 444\n",
       "Private room in townhouse              432\n",
       "Entire serviced apartment              412\n",
       "Shared room in hostel                  346\n",
       "Private room in serviced apartment     338\n",
       "Private room in bed and breakfast      320\n",
       "Entire townhouse                       292\n",
       "Room in hostel                         229\n",
       "Room in aparthotel                     170\n",
       "Private room                           137\n",
       "Room in serviced apartment             123\n",
       "Private room in guesthouse              97\n",
       "Room in bed and breakfast               78\n",
       "Entire loft                             76\n",
       "Shared room in bed and breakfast        68\n",
       "Private room in guest suite             63\n",
       "Shared room in rental unit              57\n",
       "Entire villa                            48\n",
       "Private room in villa                   40\n",
       "Shared room in townhouse                39\n",
       "Private room in loft                    38\n",
       "Entire guest suite                      38\n",
       "Entire place                            32\n",
       "Entire guesthouse                       29\n",
       "Shared room in home                     29\n",
       "Private room in tiny home               26\n",
       "Shared room in condo                    26\n",
       "Entire home/apt                         22\n",
       "Tiny home                               19\n",
       "Shared room in guesthouse               13\n",
       "Private room in resort                  11\n",
       "Dome                                     9\n",
       "Farm stay                                7\n",
       "Private room in kezhan                   7\n",
       "Private room in nature lodge             6\n",
       "Shared room                              6\n",
       "Entire bed and breakfast                 6\n",
       "Private room in houseboat                5\n",
       "Shared room in guest suite               5\n",
       "Entire cabin                             5\n",
       "Private room in dome                     4\n",
       "Entire bungalow                          4\n",
       "Private room in barn                     4\n",
       "Entire vacation home                     4\n",
       "Shared room in boutique hotel            4\n",
       "Private room in cabin                    4\n",
       "Entire cottage                           4\n",
       "Treehouse                                4\n",
       "Shared room in serviced apartment        3\n",
       "Private room in bungalow                 3\n",
       "Private room in casa particular          3\n",
       "Private room in vacation home            3\n",
       "Shared room in tiny home                 3\n",
       "Room in resort                           2\n",
       "Private room in farm stay                2\n",
       "Earthen home                             2\n",
       "Private room in floor                    2\n",
       "Shared room in dome                      2\n",
       "Shared room in villa                     2\n",
       "Shared room in casa particular           1\n",
       "Shared room in kezhan                    1\n",
       "Shared room in hotel                     1\n",
       "Entire chalet                            1\n",
       "Barn                                     1\n",
       "Shared room in parking space             1\n",
       "Pension                                  1\n",
       "Shared room in cabin                     1\n",
       "Private room in boat                     1\n",
       "Private room in dorm                     1\n",
       "Entire hostel                            1\n",
       "Private room in earthen home             1\n",
       "Private room in hut                      1\n",
       "Shared room in chalet                    1\n",
       "Private room in tent                     1\n",
       "Shared room in cave                      1\n",
       "Shared room in loft                      1\n",
       "Private room in island                   1\n",
       "Casa particular                          1\n",
       "Name: property_type, dtype: int64"
      ]
     },
     "execution_count": 43,
     "metadata": {},
     "output_type": "execute_result"
    }
   ],
   "source": [
    "listings['property_type'].value_counts()"
   ]
  },
  {
   "cell_type": "code",
   "execution_count": 41,
   "id": "bef3af1b",
   "metadata": {},
   "outputs": [
    {
     "data": {
      "text/plain": [
       "<AxesSubplot:>"
      ]
     },
     "execution_count": 41,
     "metadata": {},
     "output_type": "execute_result"
    },
    {
     "data": {
      "image/png": "[encoded data removed]",
      "text/plain": [
       "<Figure size 1440x720 with 1 Axes>"
      ]
     },
     "metadata": {
      "needs_background": "light"
     },
     "output_type": "display_data"
    }
   ],
   "source": [
    "listings['property_type'].value_counts().plot.bar(figsize=(20,10))"
   ]
  },
  {
   "cell_type": "code",
   "execution_count": 79,
   "id": "f95c791a",
   "metadata": {},
   "outputs": [
    {
     "data": {
      "text/plain": [
       "34"
      ]
     },
     "execution_count": 79,
     "metadata": {},
     "output_type": "execute_result"
    }
   ],
   "source": [
    "max(listings['property_type'].str.len())"
   ]
  },
  {
   "cell_type": "markdown",
   "id": "04262d24",
   "metadata": {},
   "source": [
    "**room_type**: 4 room types: entire home/apt, private room, hotel room and shared room. There are 9224 rows with entire home/apt, 6445 rows with private room, 794 rows with hotel room and 611 rows with shared room."
   ]
  },
  {
   "cell_type": "code",
   "execution_count": 80,
   "id": "060d804b",
   "metadata": {},
   "outputs": [
    {
     "data": {
      "text/plain": [
       "4"
      ]
     },
     "execution_count": 80,
     "metadata": {},
     "output_type": "execute_result"
    }
   ],
   "source": [
    "listings['room_type'].nunique()"
   ]
  },
  {
   "cell_type": "code",
   "execution_count": 81,
   "id": "54084180",
   "metadata": {},
   "outputs": [
    {
     "data": {
      "text/plain": [
       "array(['Entire home/apt', 'Private room', 'Hotel room', 'Shared room'],\n",
       "      dtype=object)"
      ]
     },
     "execution_count": 81,
     "metadata": {},
     "output_type": "execute_result"
    }
   ],
   "source": [
    "listings['room_type'].unique()"
   ]
  },
  {
   "cell_type": "code",
   "execution_count": 82,
   "id": "16dbcc9b",
   "metadata": {},
   "outputs": [
    {
     "data": {
      "text/plain": [
       "Entire home/apt    9224\n",
       "Private room       6445\n",
       "Hotel room          794\n",
       "Shared room         611\n",
       "Name: room_type, dtype: int64"
      ]
     },
     "execution_count": 82,
     "metadata": {},
     "output_type": "execute_result"
    }
   ],
   "source": [
    "listings['room_type'].value_counts()"
   ]
  },
  {
   "cell_type": "code",
   "execution_count": 83,
   "id": "86dd5594",
   "metadata": {},
   "outputs": [
    {
     "data": {
      "text/plain": [
       "<AxesSubplot:>"
      ]
     },
     "execution_count": 83,
     "metadata": {},
     "output_type": "execute_result"
    },
    {
     "data": {
      "image/png": "[encoded data removed]",
      "text/plain": [
       "<Figure size 432x288 with 1 Axes>"
      ]
     },
     "metadata": {
      "needs_background": "light"
     },
     "output_type": "display_data"
    }
   ],
   "source": [
    "listings['room_type'].value_counts().plot.bar()"
   ]
  },
  {
   "cell_type": "code",
   "execution_count": 84,
   "id": "41f8b7e7",
   "metadata": {},
   "outputs": [
    {
     "data": {
      "text/plain": [
       "15"
      ]
     },
     "execution_count": 84,
     "metadata": {},
     "output_type": "execute_result"
    }
   ],
   "source": [
    "max(listings['room_type'].str.len())"
   ]
  },
  {
   "cell_type": "markdown",
   "id": "aee923f2",
   "metadata": {},
   "source": [
    "**accommodates**: ranges from 0 to 16. Most of the listings can accommodate equal or less than 5 people, while few listings can host up to 16 guests. This leads to a right skewed distribution."
   ]
  },
  {
   "cell_type": "code",
   "execution_count": 85,
   "id": "381830f5",
   "metadata": {},
   "outputs": [
    {
     "data": {
      "text/plain": [
       "16"
      ]
     },
     "execution_count": 85,
     "metadata": {},
     "output_type": "execute_result"
    }
   ],
   "source": [
    "max(listings['accommodates'])"
   ]
  },
  {
   "cell_type": "code",
   "execution_count": 86,
   "id": "01e39a37",
   "metadata": {},
   "outputs": [
    {
     "data": {
      "text/plain": [
       "0"
      ]
     },
     "execution_count": 86,
     "metadata": {},
     "output_type": "execute_result"
    }
   ],
   "source": [
    "min(listings['accommodates'])"
   ]
  },
  {
   "cell_type": "code",
   "execution_count": 87,
   "id": "2de095d5",
   "metadata": {},
   "outputs": [
    {
     "data": {
      "text/plain": [
       "0.25    2.0\n",
       "0.50    2.0\n",
       "0.75    4.0\n",
       "Name: accommodates, dtype: float64"
      ]
     },
     "execution_count": 87,
     "metadata": {},
     "output_type": "execute_result"
    }
   ],
   "source": [
    "listings['accommodates'].quantile([0.25,0.5,0.75])"
   ]
  },
  {
   "cell_type": "code",
   "execution_count": 88,
   "id": "769e6bf9",
   "metadata": {},
   "outputs": [
    {
     "data": {
      "text/plain": [
       "count    17074.000000\n",
       "mean         3.063196\n",
       "std          2.103913\n",
       "min          0.000000\n",
       "25%          2.000000\n",
       "50%          2.000000\n",
       "75%          4.000000\n",
       "max         16.000000\n",
       "Name: accommodates, dtype: float64"
      ]
     },
     "execution_count": 88,
     "metadata": {},
     "output_type": "execute_result"
    }
   ],
   "source": [
    "listings['accommodates'].describe()"
   ]
  },
  {
   "cell_type": "code",
   "execution_count": 89,
   "id": "b1cb4d89",
   "metadata": {},
   "outputs": [
    {
     "data": {
      "image/png": "[encoded data removed]",
      "text/plain": [
       "<Figure size 432x288 with 1 Axes>"
      ]
     },
     "metadata": {
      "needs_background": "light"
     },
     "output_type": "display_data"
    }
   ],
   "source": [
    "plt.hist(listings['accommodates'])\n",
    "plt.show() "
   ]
  },
  {
   "cell_type": "markdown",
   "id": "c52dda39",
   "metadata": {},
   "source": [
    "**bathrooms**: empty column, no data contained."
   ]
  },
  {
   "cell_type": "code",
   "execution_count": 95,
   "id": "8ff0fc34",
   "metadata": {},
   "outputs": [
    {
     "data": {
      "text/plain": [
       "0   NaN\n",
       "1   NaN\n",
       "2   NaN\n",
       "3   NaN\n",
       "4   NaN\n",
       "Name: bathrooms, dtype: float64"
      ]
     },
     "execution_count": 95,
     "metadata": {},
     "output_type": "execute_result"
    }
   ],
   "source": [
    "listings['bathrooms'].head()"
   ]
  },
  {
   "cell_type": "code",
   "execution_count": 96,
   "id": "3d4d253a",
   "metadata": {},
   "outputs": [
    {
     "data": {
      "text/plain": [
       "array([nan])"
      ]
     },
     "execution_count": 96,
     "metadata": {},
     "output_type": "execute_result"
    }
   ],
   "source": [
    "listings['bathrooms'].unique()"
   ]
  },
  {
   "cell_type": "markdown",
   "id": "d6a8d6eb",
   "metadata": {},
   "source": [
    "**bathrooms_text**: 60 different descriptions of the bathrooms in the housing. The row count for each bathroom description is shown below. The most popular bathroom description is 1 bath, followed by 1 private bath. Max length 17 characters."
   ]
  },
  {
   "cell_type": "code",
   "execution_count": 99,
   "id": "34fd147b",
   "metadata": {},
   "outputs": [
    {
     "data": {
      "text/plain": [
       "60"
      ]
     },
     "execution_count": 99,
     "metadata": {},
     "output_type": "execute_result"
    }
   ],
   "source": [
    "listings['bathrooms_text'].nunique()"
   ]
  },
  {
   "cell_type": "code",
   "execution_count": 98,
   "id": "014d717b",
   "metadata": {},
   "outputs": [
    {
     "data": {
      "text/plain": [
       "array(['1 bath', '1 private bath', '2 shared baths', '3 shared baths',\n",
       "       '1.5 baths', '1 shared bath', '2.5 baths', '3.5 baths', '2 baths',\n",
       "       nan, '4 baths', '6.5 shared baths', '3 baths', '0 baths',\n",
       "       '1.5 shared baths', '0 shared baths', '6 baths', '8 shared baths',\n",
       "       '2.5 shared baths', '6.5 baths', 'Half-bath', '10 shared baths',\n",
       "       '6 shared baths', '4 shared baths', '4.5 baths', '5 baths',\n",
       "       '8 baths', 'Shared half-bath', '5 shared baths',\n",
       "       '4.5 shared baths', '7 baths', '5.5 baths', '3.5 shared baths',\n",
       "       '20 shared baths', '8.5 baths', '7.5 baths', '5.5 shared baths',\n",
       "       '7 shared baths', 'Private half-bath', '11 baths', '10.5 baths',\n",
       "       '7.5 shared baths', '23 baths', '9 baths', '12 shared baths',\n",
       "       '10 baths', '40 baths', '9 shared baths', '9.5 baths', '30 baths',\n",
       "       '13 baths', '15 shared baths', '9.5 shared baths', '24 baths',\n",
       "       '8.5 shared baths', '15 baths', '39 baths', '12.5 baths',\n",
       "       '16 shared baths', '50 baths', '25 baths'], dtype=object)"
      ]
     },
     "execution_count": 98,
     "metadata": {},
     "output_type": "execute_result"
    }
   ],
   "source": [
    "listings['bathrooms_text'].unique()"
   ]
  },
  {
   "cell_type": "code",
   "execution_count": 100,
   "id": "8295b5f2",
   "metadata": {},
   "outputs": [
    {
     "data": {
      "text/plain": [
       "1 bath               7587\n",
       "1 private bath       3743\n",
       "2 baths              1472\n",
       "1.5 baths            1236\n",
       "1 shared bath         717\n",
       "2 shared baths        281\n",
       "3 baths               280\n",
       "2.5 baths             212\n",
       "4 baths               166\n",
       "1.5 shared baths      139\n",
       "3 shared baths        139\n",
       "4 shared baths        114\n",
       "5 shared baths        106\n",
       "3.5 baths             100\n",
       "8 shared baths         63\n",
       "6 shared baths         50\n",
       "5 baths                50\n",
       "4.5 baths              49\n",
       "0 shared baths         48\n",
       "2.5 shared baths       43\n",
       "0 baths                37\n",
       "6 baths                34\n",
       "Half-bath              34\n",
       "4.5 shared baths       27\n",
       "Shared half-bath       26\n",
       "7 shared baths         18\n",
       "5.5 shared baths       15\n",
       "5.5 baths              15\n",
       "8 baths                15\n",
       "3.5 shared baths       14\n",
       "Private half-bath      12\n",
       "6.5 baths              12\n",
       "10 shared baths        10\n",
       "6.5 shared baths       10\n",
       "7 baths                 7\n",
       "8.5 baths               6\n",
       "9 baths                 5\n",
       "10 baths                5\n",
       "16 shared baths         4\n",
       "9 shared baths          4\n",
       "11 baths                3\n",
       "12 shared baths         3\n",
       "9.5 shared baths        3\n",
       "7.5 shared baths        2\n",
       "50 baths                2\n",
       "7.5 baths               2\n",
       "30 baths                2\n",
       "10.5 baths              2\n",
       "15 baths                2\n",
       "8.5 shared baths        1\n",
       "12.5 baths              1\n",
       "39 baths                1\n",
       "13 baths                1\n",
       "24 baths                1\n",
       "15 shared baths         1\n",
       "9.5 baths               1\n",
       "40 baths                1\n",
       "20 shared baths         1\n",
       "23 baths                1\n",
       "25 baths                1\n",
       "Name: bathrooms_text, dtype: int64"
      ]
     },
     "execution_count": 100,
     "metadata": {},
     "output_type": "execute_result"
    }
   ],
   "source": [
    "listings['bathrooms_text'].value_counts()"
   ]
  },
  {
   "cell_type": "code",
   "execution_count": 44,
   "id": "4a21ec0a",
   "metadata": {},
   "outputs": [
    {
     "data": {
      "text/plain": [
       "<AxesSubplot:>"
      ]
     },
     "execution_count": 44,
     "metadata": {},
     "output_type": "execute_result"
    },
    {
     "data": {
      "image/png": "[encoded data removed]",
      "text/plain": [
       "<Figure size 1440x720 with 1 Axes>"
      ]
     },
     "metadata": {
      "needs_background": "light"
     },
     "output_type": "display_data"
    }
   ],
   "source": [
    "listings['bathrooms_text'].value_counts().plot.bar(figsize=(20,10))"
   ]
  },
  {
   "cell_type": "code",
   "execution_count": 101,
   "id": "bf847cbb",
   "metadata": {},
   "outputs": [
    {
     "data": {
      "text/plain": [
       "17.0"
      ]
     },
     "execution_count": 101,
     "metadata": {},
     "output_type": "execute_result"
    }
   ],
   "source": [
    "max(listings['bathrooms_text'].str.len())"
   ]
  },
  {
   "cell_type": "markdown",
   "id": "56879c8a",
   "metadata": {},
   "source": [
    "**bedrooms**: ranges from 1 to 50. Most of the listings have 1 bedroom, while few listings have up to 50 bedrooms. This leads to a very right skewed distribution."
   ]
  },
  {
   "cell_type": "code",
   "execution_count": 102,
   "id": "d5571f62",
   "metadata": {},
   "outputs": [
    {
     "data": {
      "text/plain": [
       "50.0"
      ]
     },
     "execution_count": 102,
     "metadata": {},
     "output_type": "execute_result"
    }
   ],
   "source": [
    "max(listings['bedrooms'])"
   ]
  },
  {
   "cell_type": "code",
   "execution_count": 103,
   "id": "58d76632",
   "metadata": {},
   "outputs": [
    {
     "data": {
      "text/plain": [
       "1.0"
      ]
     },
     "execution_count": 103,
     "metadata": {},
     "output_type": "execute_result"
    }
   ],
   "source": [
    "min(listings['bedrooms'])"
   ]
  },
  {
   "cell_type": "code",
   "execution_count": 104,
   "id": "a7f396ef",
   "metadata": {},
   "outputs": [
    {
     "data": {
      "text/plain": [
       "0.25    1.0\n",
       "0.50    1.0\n",
       "0.75    1.0\n",
       "Name: bedrooms, dtype: float64"
      ]
     },
     "execution_count": 104,
     "metadata": {},
     "output_type": "execute_result"
    }
   ],
   "source": [
    "listings['bedrooms'].quantile([0.25,0.5,0.75])"
   ]
  },
  {
   "cell_type": "code",
   "execution_count": 105,
   "id": "0a813c2f",
   "metadata": {},
   "outputs": [
    {
     "data": {
      "text/plain": [
       "count    15371.000000\n",
       "mean         1.362566\n",
       "std          1.244909\n",
       "min          1.000000\n",
       "25%          1.000000\n",
       "50%          1.000000\n",
       "75%          1.000000\n",
       "max         50.000000\n",
       "Name: bedrooms, dtype: float64"
      ]
     },
     "execution_count": 105,
     "metadata": {},
     "output_type": "execute_result"
    }
   ],
   "source": [
    "listings['bedrooms'].describe()"
   ]
  },
  {
   "cell_type": "code",
   "execution_count": 106,
   "id": "87674460",
   "metadata": {},
   "outputs": [
    {
     "data": {
      "image/png": "[encoded data removed]",
      "text/plain": [
       "<Figure size 432x288 with 1 Axes>"
      ]
     },
     "metadata": {
      "needs_background": "light"
     },
     "output_type": "display_data"
    }
   ],
   "source": [
    "plt.hist(listings['bedrooms'])\n",
    "plt.show() "
   ]
  },
  {
   "cell_type": "markdown",
   "id": "44d2729a",
   "metadata": {},
   "source": [
    "**beds**: ranges from 1 to 50. Most of the listings have 1 to 2 beds, while few listings have up to 50 beds. This leads to a very right skewed distribution."
   ]
  },
  {
   "cell_type": "code",
   "execution_count": 107,
   "id": "57758ece",
   "metadata": {},
   "outputs": [
    {
     "data": {
      "text/plain": [
       "50.0"
      ]
     },
     "execution_count": 107,
     "metadata": {},
     "output_type": "execute_result"
    }
   ],
   "source": [
    "max(listings['beds'])"
   ]
  },
  {
   "cell_type": "code",
   "execution_count": 108,
   "id": "d747b930",
   "metadata": {},
   "outputs": [
    {
     "data": {
      "text/plain": [
       "1.0"
      ]
     },
     "execution_count": 108,
     "metadata": {},
     "output_type": "execute_result"
    }
   ],
   "source": [
    "min(listings['beds'])"
   ]
  },
  {
   "cell_type": "code",
   "execution_count": 109,
   "id": "8fff8a42",
   "metadata": {},
   "outputs": [
    {
     "data": {
      "text/plain": [
       "0.25    1.0\n",
       "0.50    1.0\n",
       "0.75    2.0\n",
       "Name: beds, dtype: float64"
      ]
     },
     "execution_count": 109,
     "metadata": {},
     "output_type": "execute_result"
    }
   ],
   "source": [
    "listings['beds'].quantile([0.25,0.5,0.75])"
   ]
  },
  {
   "cell_type": "code",
   "execution_count": 110,
   "id": "1eac6d23",
   "metadata": {},
   "outputs": [
    {
     "data": {
      "text/plain": [
       "count    16557.000000\n",
       "mean         1.837954\n",
       "std          2.011477\n",
       "min          1.000000\n",
       "25%          1.000000\n",
       "50%          1.000000\n",
       "75%          2.000000\n",
       "max         50.000000\n",
       "Name: beds, dtype: float64"
      ]
     },
     "execution_count": 110,
     "metadata": {},
     "output_type": "execute_result"
    }
   ],
   "source": [
    "listings['beds'].describe()"
   ]
  },
  {
   "cell_type": "code",
   "execution_count": 111,
   "id": "c89c5acb",
   "metadata": {},
   "outputs": [
    {
     "data": {
      "image/png": "[encoded data removed]",
      "text/plain": [
       "<Figure size 432x288 with 1 Axes>"
      ]
     },
     "metadata": {
      "needs_background": "light"
     },
     "output_type": "display_data"
    }
   ],
   "source": [
    "plt.hist(listings['beds'])\n",
    "plt.show() "
   ]
  },
  {
   "cell_type": "markdown",
   "id": "cc1ba230",
   "metadata": {},
   "source": [
    "**amenities**: 13880 unique description of amenities included. Max length 1606 characters."
   ]
  },
  {
   "cell_type": "code",
   "execution_count": 112,
   "id": "38848df0",
   "metadata": {},
   "outputs": [
    {
     "data": {
      "text/plain": [
       "13880"
      ]
     },
     "execution_count": 112,
     "metadata": {},
     "output_type": "execute_result"
    }
   ],
   "source": [
    "listings['amenities'].nunique()"
   ]
  },
  {
   "cell_type": "code",
   "execution_count": 113,
   "id": "12d4b88e",
   "metadata": {},
   "outputs": [
    {
     "data": {
      "text/plain": [
       "1606"
      ]
     },
     "execution_count": 113,
     "metadata": {},
     "output_type": "execute_result"
    }
   ],
   "source": [
    "max(listings['amenities'].str.len())"
   ]
  },
  {
   "cell_type": "code",
   "execution_count": 54,
   "id": "0d5a60df",
   "metadata": {},
   "outputs": [
    {
     "data": {
      "text/plain": [
       "{' \"Fast wifi \\\\u2013 328 Mbps\"   \"Wifi\"',\n",
       " ' \"Hot water\"   \"Pack \\\\u2019n play/Travel crib\"',\n",
       " ' \"Fire extinguisher\"   \"Shared fenced garden or backyard\"',\n",
       " ' \"Toiletries\"',\n",
       " ' \"24\\\\\" TV\"',\n",
       " ' \"Onsite restaurant \\\\u2014 Restaurant\"',\n",
       " ' \"Host greets you\"',\n",
       " ' \"Room-darkening shades\"',\n",
       " ' \"Fire extinguisher\"   \"Long term stays allowed\"',\n",
       " ' \"21\\\\\" TV with standard cable\"   \"Kitchen\"',\n",
       " ' \"Shared outdoor olympic-sized rooftop pool\"',\n",
       " ' \"40\\\\\" TV\"',\n",
       " ' \"Elevator\"   \"Wifi\"',\n",
       " ' \"Sharp refrigerator\"',\n",
       " ' \"Pool\"   \"Samsung refrigerator\"',\n",
       " ' \"Shared outdoor pool\"',\n",
       " ' \"42\\\\\" HDTV with premium cable',\n",
       " ' \"Gas stove\"',\n",
       " ' \"42\\\\\" TV with Chromecast',\n",
       " ' \"Washer \\\\u2013\\\\u00a0In unit\"   \"Wifi\"',\n",
       " ' \"40\\\\\" HDTV with \"',\n",
       " ' \"Gym\"   \"Kitchen\"',\n",
       " ' \"Hot water\"',\n",
       " ' \"Game console: Nintendo Wii U\"',\n",
       " ' \"Mex - combination microwave & grill oven stainless steel oven\"',\n",
       " ' \"Free parking garage on premises \\\\u2013 3 spaces\"',\n",
       " ' \"Fast wifi \\\\u2013 547 Mbps\"',\n",
       " ' \"Children\\\\u2019s books and toys for ages 0-2 years old and 2-5 years old\"   \"Shampoo\"',\n",
       " ' \"Children\\\\u2019s books and toys for ages 2-5 years old and 5-10 years old\"',\n",
       " ' \"Wifi \\\\u2013 45 Mbps\"',\n",
       " ' \"Fire pit\"',\n",
       " ' \"Cooking basics\"   \"Outdoor dining area\"',\n",
       " ' \"Wifi \\\\u2013 20 Mbps\"',\n",
       " ' \"Watsons  body soap\"',\n",
       " ' \"Carbon monoxide alarm\"   \"Essentials\"',\n",
       " ' \"46\\\\\" HDTV with Chromecast\"',\n",
       " ' \"Meg stove\"',\n",
       " ' \"42\\\\\" HDTV with Netflix\"',\n",
       " ' \"Smeg electric stove\"',\n",
       " ' \"62\\\\\" HDTV with Netflix\"',\n",
       " ' \"40\\\\\" HDTV with Netflix',\n",
       " ' \"Fire extinguisher\"   \"Wifi\"',\n",
       " ' \"Samsung refrigerator\"',\n",
       " ' \"TV\"   \"Air conditioning\"',\n",
       " ' \"Shared garden or backyard\"',\n",
       " ' \"Local brand body soap\"',\n",
       " ' \"Shared outdoor infinity rooftop pool\"',\n",
       " ' \"Wifi \\\\u2013 43 Mbps\"',\n",
       " ' \"42\\\\\" HDTV with Apple TV',\n",
       " ' \"35\\\\\" HDTV with Netflix\"',\n",
       " ' \"LOLENTIS shampoo\"',\n",
       " ' \"Xiaomi induction stove\"',\n",
       " ' \"Fast wifi \\\\u2013 271 Mbps\"',\n",
       " ' \"48\\\\\" HDTV with Chromecast',\n",
       " ' \"46\\\\\" HDTV with standard cable',\n",
       " ' \"Wifi \\\\u2013 10 Mbps\"',\n",
       " ' \"55\\\\\" HDTV with standard cable',\n",
       " ' \"Teka stainless steel oven\"',\n",
       " ' \". shampoo\"',\n",
       " ' \"Window AC unit\"   \"Shampoo\"',\n",
       " ' \"Keypad\"   \"Kitchen\"',\n",
       " ' \"Long term stays allowed\"   \"Backyard\"',\n",
       " ' \"Shared outdoor infinity pool\"',\n",
       " ' \"Lux shampoo\"',\n",
       " ' \"Fast wifi \\\\u2013 450 Mbps\"',\n",
       " ' \"Free parking on premises \\\\u2013 1 space\"',\n",
       " ' \"65\\\\\" HDTV with Netflix',\n",
       " ' \"Keypad\"   \"Essentials\"',\n",
       " ' \"Shared outdoor infinity rooftop saltwater lap pool\"',\n",
       " ' \"Dove conditioner\"',\n",
       " ' \"Cleaning products\"   \"Washer\"',\n",
       " ' \"Meg stainless steel electric stove\"',\n",
       " ' \"Window guards\"',\n",
       " ' \"Free street parking\"   \"Wifi\"',\n",
       " ' \"Fast wifi \\\\u2013 285 Mbps\"',\n",
       " ' \"Hot water\"   \"Air conditioning\"   \"Wifi\"',\n",
       " ' \"Shared pool\"',\n",
       " ' \"Shared in common areas  gas stove\"',\n",
       " ' \"Hafele induction stove\"',\n",
       " ' \"Smoke alarm\"   \"Air conditioning\"',\n",
       " ' \"Oven\"   \"Air conditioning\"',\n",
       " ' \"First aid kit\"   \"Wifi\"',\n",
       " ' \"Children\\\\u2019s books and toys for ages 0-2 years old',\n",
       " ' \"Private outdoor rooftop pool\"',\n",
       " ' and walk-in closet\"   \"Shampoo\"',\n",
       " ' \"HDTV with Chromecast\"',\n",
       " ' \"Paid dryer \\\\u2013 In unit\"',\n",
       " ' \"Ethernet connection\"   \"Pack \\\\u2019n play/Travel crib\"',\n",
       " ' pantene',\n",
       " ' \"42\\\\\" TV with Netflix',\n",
       " ' Lemongrass and Jasmin-Mint Hotel fragrance selected products body soap\"   \"Wifi\"',\n",
       " ' \"Shared outdoor infinity saltwater pool\"',\n",
       " ' \"Fast wifi \\\\u2013 474 Mbps\"',\n",
       " ' \"55\\\\\" HDTV with Amazon Prime Video',\n",
       " ' \"LG inverter 2 doors No Fros refrigerator\"',\n",
       " ' \"Shared pool\"   \"Wifi\"',\n",
       " ' \"First aid kit\"   \"Washer\"',\n",
       " ' \"49\\\\\" HDTV with standard cable\"',\n",
       " ' \"TV with Amazon Prime Video',\n",
       " ' \"BOSCH induction stove\"',\n",
       " ' \"Dryer \\\\u2013\\\\u00a0In unit\"',\n",
       " ' \"Clothing storage: dresser',\n",
       " ' \"32\\\\\" HDTV with premium cable\"',\n",
       " ' \"Local shampoo\"',\n",
       " ' \"Aromatheraphy body soap\"',\n",
       " ' \"Cooking basics\"   \"Kitchen\"',\n",
       " ' \"\\\\u0e17\\\\u0e31\\\\u0e48\\\\u0e27\\\\u0e44\\\\u0e1b body soap\"',\n",
       " ' \"Elevator\"   \"Shampoo\"',\n",
       " ' \"Bidet\"   \"Shampoo\"',\n",
       " ' \"Custom conditioner\"',\n",
       " ' \"Eve stainless steel electric stove\"',\n",
       " ' \"Carbon monoxide alarm\"   \"Kitchen\"',\n",
       " ' \"32\\\\\" HDTV with Amazon Prime Video',\n",
       " ' \"Home stainless steel electric stove\"',\n",
       " ' \"Sonos sound system\"',\n",
       " ' \"Pool\"   \"Hangers\"',\n",
       " ' \"Fire extinguisher\"   \"Kitchen\"',\n",
       " ' \"Fire extinguisher\"   \"Pack \\\\u2019n play/Travel crib\"',\n",
       " ' \"Long term stays allowed\"   \"Wifi\"',\n",
       " ' dresser',\n",
       " ' \"Heating\"   \"Wifi\"',\n",
       " ' \"32\\\\\" HDTV with standard cable',\n",
       " ' \"Changing table\"',\n",
       " ' \"Frank induction stove\"',\n",
       " ' \"Sound system with aux\"',\n",
       " ' \"Hitac refrigerator\"',\n",
       " ' \"Fast wifi \\\\u2013 56 Mbps\"',\n",
       " ' \"Hair dryer\"   \"Air conditioning\"',\n",
       " ' \"Clothing storage: closet and dresser\"',\n",
       " ' \"Cleaning before checkout\"   \"Washer\"',\n",
       " ' \"Lockbox\"   \"Wifi\"',\n",
       " ' \"TV\"',\n",
       " ' \"TV with premium cable\"',\n",
       " ' \"\\\\u0e2a\\\\u0e1a\\\\u0e39\\\\u0e48\\\\u0e19\\\\u0e49\\\\u0e33 \\\\u0e02\\\\u0e2d\\\\u0e07boots body soap\"',\n",
       " ' \"Own Brand conditioner\"',\n",
       " ' \"Aro shampoo\"',\n",
       " ' \"Organic Lux body soap\"',\n",
       " ' \"Clinix conditioner\"',\n",
       " ' \"Fast wifi \\\\u2013 340 Mbps\"',\n",
       " ' \"Paid washer \\\\u2013 In unit\"   \"Shampoo\"',\n",
       " ' \"Private indoor lap pool\"',\n",
       " ' \"Free street parking\"   \"Air conditioning\"',\n",
       " ' \"Free washer \\\\u2013 In unit\"',\n",
       " ' \"55\\\\\" TV\"',\n",
       " ' \"Microwave oven oven\"',\n",
       " ' \"Fast wifi \\\\u2013 469 Mbps\"',\n",
       " ' \"43\\\\\" HDTV with standard cable',\n",
       " ' \"Gym nearby\"',\n",
       " ' \"Hair dryer\"   \"Table corner guards\"',\n",
       " ' \"Hot water\"   \"Air conditioning\"',\n",
       " ' \"Fast wifi \\\\u2013 231 Mbps\"',\n",
       " ' \"Gym\"   \"Long term stays allowed\"   \"Coffee maker\"',\n",
       " ' \"Xx conditioner\"',\n",
       " ' \"Cleaning before checkout\"   \"Security cameras on property\"',\n",
       " ' \"36\\\\\" TV with Chromecast',\n",
       " ' \"38\\\\\" HDTV with Netflix',\n",
       " ' \"SUNSILK shampoo\"',\n",
       " ' \"HDTV with Netflix\"',\n",
       " ' \"First aid kit\"   \"Long term stays allowed\"   \"Shampoo\"',\n",
       " ' \"Cooking basics\"   \"Wifi\"',\n",
       " ' \"Shokubutsu body soap\"',\n",
       " ' \"- body soap\"',\n",
       " ' \"Self check-in\"',\n",
       " ' \"TV\"   \"Table corner guards\"',\n",
       " ' \"Fast wifi \\\\u2013 367 Mbps\"',\n",
       " ' \"Gym in building\"',\n",
       " ' \"2 doors fridge refrigerator\"',\n",
       " ' \"Fast wifi \\\\u2013 146 Mbps\"',\n",
       " ' \"Essentials\"   \"Shampoo\"',\n",
       " ' \"Clothing storage: walk-in closet\"',\n",
       " ' \"Ethernet connection\"   \"Table corner guards\"',\n",
       " ' \"Bathroom essentials\"   \"Shampoo\"',\n",
       " ' \"Toshiba  refrigerator\"',\n",
       " ' \"Pantene shampoo\"',\n",
       " ' \"Liew shampoo\"',\n",
       " ' \"55\\\\\" HDTV with Netflix\"',\n",
       " ' \"Toshiba FIT refrigerator\"',\n",
       " ' \"Ariston stainless steel oven\"',\n",
       " ' \"Aspira conditioner\"',\n",
       " ' \"Stainless steel stove\"',\n",
       " ' \"Dove shampoo\"',\n",
       " ' \"MEX electric stove\"',\n",
       " ' \"Local Premium Organic Product body soap\"',\n",
       " ' \"Fast wifi \\\\u2013 393 Mbps\"',\n",
       " ' \"MITSUBISHI refrigerator\"',\n",
       " ' \"Cleaning before checkout\"   \"Window guards\"',\n",
       " ' \"Clothing storage: closet\"',\n",
       " ' \"Pool\"   \"Hot tub\"',\n",
       " ' \"Laundromat nearby\"',\n",
       " ' \"Ethernet connection\"   \"24\\\\\" TV with standard cable\"',\n",
       " ' \"Beach essentials\"',\n",
       " ' \"Paid parking on premises\"   \"Wifi\"',\n",
       " ' \"Wifi\"   \"Shampoo\"',\n",
       " ' \"HDTV\"',\n",
       " ' \"21\\\\\" HDTV\"',\n",
       " ' \"\\\\u0e47Head &Shoulder conditioner\"',\n",
       " ' \"Teka induction stove\"',\n",
       " ' \"Shared fenced garden or backyard\"',\n",
       " ' \"Natural by Watson shampoo\"',\n",
       " ' \"43\\\\\" TV\"',\n",
       " ' \"Keypad\"',\n",
       " ' \"Long term stays allowed\"   \"Dedicated workspace\"',\n",
       " ' \"Hot water\"   \"Freezer\"',\n",
       " ' \"Theraphy Lab body soap\"',\n",
       " ' \"Theraphy Lab conditioner\"',\n",
       " ' \"Cleaning before checkout\"   \"Shampoo\"',\n",
       " ' \"First aid kit\"   \"Air conditioning\"',\n",
       " ' \"Private indoor pool\"',\n",
       " ' \"Bed linens\"',\n",
       " ' \"Private entrance\"   \"Air conditioning\"',\n",
       " ' \"Washer \\\\u2013\\\\u00a0In unit\"   \"Air conditioning\"',\n",
       " ' \"Panisonic refrigerator\"',\n",
       " ' \"Toshiba refrigerator\"   \"Wifi\"',\n",
       " ' \"30\\\\\" HDTV\"',\n",
       " ' \"Fire extinguisher\"   \"Indoor fireplace\"',\n",
       " ' \"First aid kit\"   \"Kitchen\"',\n",
       " ' \"Coffee maker\"',\n",
       " ' \"Watson body soap\"',\n",
       " ' \"Bathtub\" ',\n",
       " ' \"Fast wifi \\\\u2013 240 Mbps\"',\n",
       " ' \"Fast wifi \\\\u2013 411 Mbps\"',\n",
       " ' \"Patio or balcony\"   \"Wifi\"',\n",
       " ' \"Free parking garage on premises \\\\u2013 100 spaces\"',\n",
       " ' \"TV with Apple TV\"',\n",
       " ' \"Shared indoor rooftop pool\"',\n",
       " ' \"Washer \\\\u2013\\\\u00a0In unit\"   \"Shampoo\"',\n",
       " ' \"Iron\"   \"Shampoo\"',\n",
       " ' \"Watson shampoo\"',\n",
       " ' \"Hot water\"   \"Long term stays allowed\"',\n",
       " ' \"Pool\"   \"HDTV with Netflix',\n",
       " ' \"Iron\"   \"Kitchen\"',\n",
       " ' \"Fast wifi \\\\u2013 128 Mbps\"',\n",
       " ' \"Fast wifi \\\\u2013 412 Mbps\"',\n",
       " ' \"Paid parking off premises\"   \"Wifi\"',\n",
       " ' \"Hot water\"   \"Dedicated workspace\"',\n",
       " ' \"Shared outdoor infinity rooftop lap pool\"',\n",
       " ' \"Crib\"   \"Wifi\"',\n",
       " ' \"Paid parking lot on premises \\\\u2013 30 spaces\"',\n",
       " ' \"Aromatherapy  body soap\"',\n",
       " ' Netflix\"',\n",
       " ' \"Children\\\\u2019s books and toys for ages 0-2 years old and 2-5 years old\"',\n",
       " ' \"Mex stainless steel electric stove\"',\n",
       " ' \"Wifi \\\\u2013 14 Mbps\"',\n",
       " ' \"Bathtub\"   \"Shampoo\"',\n",
       " ' \"Multi brands. shampoo\"',\n",
       " ' \"Iron\"   \"Wifi\"',\n",
       " ' \"Pool\"   \"Shared pool\"',\n",
       " ' \"Long term stays allowed\"   \"Long term stays allowed\"   \"Shampoo\"',\n",
       " ' \"\\\\u0e17\\\\u0e31\\\\u0e48\\\\u0e27\\\\u0e44\\\\u0e1b shampoo\"',\n",
       " ' \"Limited housekeeping \\\\u2014 on request\"',\n",
       " ' \"Sound system\"',\n",
       " ' \"Cleaning before checkout\"   \"Air conditioning\"',\n",
       " ' \"55\\\\\" HDTV with Netflix',\n",
       " ' \"55\\\\\" HDTV with Chromecast\"',\n",
       " ' \"Nespresso machine\"',\n",
       " ' \"Dedicated workspace\"   \"Outdoor dining area\"',\n",
       " ' \"Paid valet parking on premises\"',\n",
       " ' \"Johnson\\\\u2019n johnson body soap\"',\n",
       " ' \"Dedicated workspace\"   \"Washer\"',\n",
       " ' \"Local brand body soap\"   \"Washer\"',\n",
       " ' \"- shampoo\"',\n",
       " ' \"Fire extinguisher\"   \"Outdoor dining area\"',\n",
       " ' \"32\\\\\" TV with Chromecast',\n",
       " ' \"Baby soap',\n",
       " ' \"Samsung sound system with Bluetooth and aux\"',\n",
       " ' \"55\\\\\" HDTV with premium cable',\n",
       " ' \"Theraphy Lab shampoo\"',\n",
       " ' \"Hisene refrigerator\"',\n",
       " ' \"40\\\\\" HDTV with Amazon Prime Video',\n",
       " ' \"White ivory body soap\"',\n",
       " ' \"45\\\\\" HDTV with Netflix',\n",
       " ' \"Shared outdoor olympic-sized saltwater pool\"',\n",
       " ' \"Lux body soap\"',\n",
       " ' \"Paid parking on premises\"',\n",
       " ' \"Paid parking lot on premises \\\\u2013 10 spaces\"',\n",
       " ' \"Beko  refrigerator\"',\n",
       " ' Chromecast',\n",
       " ' \"Beachfront\"',\n",
       " ' \"Generic shampoo\"',\n",
       " ' \"Fire extinguisher\"   \"Freezer\"',\n",
       " ' \"Pool\"   \"Dryer\"',\n",
       " ' \"Double porte avec espace congelation refrigerator\"',\n",
       " ' \"Toaster\"',\n",
       " ' \"Fast wifi \\\\u2013 52 Mbps\"',\n",
       " ' \"43\\\\\" HDTV with Netflix\"',\n",
       " ' \"Aromatheraphy shampoo\"',\n",
       " ' \"Paid parking lot on premises\"',\n",
       " ' \"Ethernet connection\"   \"Air conditioning\"',\n",
       " ' \"Head&Shoulder shampoo\"',\n",
       " ' \"Loland shampoo\"',\n",
       " ' \"38\\\\\" HDTV with premium cable',\n",
       " ' \"Shared outdoor rooftop saltwater lap pool\"',\n",
       " ' Amazon Prime Video\"',\n",
       " ' \"For Daily stay only ( Not provided for monthly Stay) shampoo\"',\n",
       " ' \"Central air conditioning\"',\n",
       " ' \"Record player\"',\n",
       " ' \"Paid washer \\\\u2013 In building\"',\n",
       " ' \"Sony  sound system with Bluetooth and aux\"',\n",
       " ' \"Bidet\"   \"Air conditioning\"',\n",
       " ' \"Safe\"',\n",
       " ' \"Mosquito net\"   \"Wifi\"',\n",
       " ' \"Shared gym nearby\"',\n",
       " ' \"Dryer \\\\u2013 In building\"',\n",
       " ' \"Head and shoulder conditioner\"',\n",
       " ' \"Fast wifi \\\\u2013 104 Mbps\"',\n",
       " ' \"Fire extinguisher\"   \"Lock on bedroom door\"',\n",
       " ' \"Tresume conditioner\"',\n",
       " ' \"Lock on bedroom door\"   \"Air conditioning\"',\n",
       " ' \"Toshiba refrigerator\"',\n",
       " ' \"Cusino induction stove\"',\n",
       " ' \"Infinite body soap\"',\n",
       " ' \"Washer \\\\u2013\\\\u00a0In unit\"   \"Table corner guards\"',\n",
       " ' \"Hot water\"   \"Hot tub\"',\n",
       " ' Perfume body soap\"',\n",
       " ' \"Targa stainless steel electric stove\"',\n",
       " ' \"Washer \\\\u2013\\\\u00a0In unit\"   \"Kitchen\"',\n",
       " ' \"55\\\\\" HDTV\"',\n",
       " ' \"HDTV with HBO Max',\n",
       " ' \"Fast wifi \\\\u2013 50 Mbps\"',\n",
       " ' \"32\\\\\" TV with standard cable\"',\n",
       " ' \"First aid kit\"   \"Shampoo\"',\n",
       " ' \"Natural soap body soap\"',\n",
       " ' \"Free carport on premises\"',\n",
       " ' \"Fast wifi \\\\u2013 166 Mbps\"',\n",
       " ' \"No brand body soap\"',\n",
       " ' \"L\\\\u2019oreal shampoo\"',\n",
       " ' premium cable\"',\n",
       " ' \"Conditioner\"   \"Kitchen\"',\n",
       " ' \"Fast wifi \\\\u2013 53 Mbps\"',\n",
       " ' \"Franke stainless steel gas stove\"',\n",
       " ' \"L\\\\u2019oreal conditioner\"',\n",
       " ' \"Wifi \\\\u2013 31 Mbps\"',\n",
       " ' \"Bedroom comforts\"',\n",
       " ' \"Free wifi\"',\n",
       " ' \"60\\\\\" HDTV with Chromecast',\n",
       " ' \"Bottled water\"',\n",
       " ' \"Hot water\"   \"Washer\"',\n",
       " ' \"Nesco stainless steel oven\"',\n",
       " ' \"\\\\u0e41\\\\u0e1e\\\\u0e19\\\\u0e17\\\\u0e35\\\\u0e19 shampoo\"',\n",
       " ' \"Washer\"',\n",
       " ' \"Aspira body soap\"',\n",
       " ' \"Luggage dropoff allowed\"   \"Shampoo\"',\n",
       " ' \"Teka 60 cm gas stove\"',\n",
       " ' \"Fire extinguisher\"   \"Hot tub\"',\n",
       " ' \"Private gym\"',\n",
       " ' \"Hot water\"   \"BBQ grill\"',\n",
       " ' \"Dishes and silverware\"   \"Wifi\"',\n",
       " ' \"49\\\\\" HDTV with Chromecast',\n",
       " ' \"Fire extinguisher\"   \"Washer\"',\n",
       " ' \"Dishes and silverware\"   \"Shampoo\"',\n",
       " ' \"Clothing storage: wardrobe\"',\n",
       " ' \"Pool\"   \"Essentials\"',\n",
       " ' \"Refrigerator\"',\n",
       " ' \"Shared outdoor infinity rooftop saltwater pool\"',\n",
       " ' \"Fast wifi \\\\u2013 262 Mbps\"',\n",
       " ' \"Clothing storage: wardrobe',\n",
       " ' \"Local brand shampoo\"',\n",
       " ' \"Pool\"   \"Bluetooth sound system\"',\n",
       " ' \"Hot water\"   \"Essentials\"',\n",
       " ' \"Waterfront\"',\n",
       " ' \"Shared patio or balcony\"',\n",
       " '  dettol body soap\"',\n",
       " ' \"42\\\\\" TV with standard cable\"',\n",
       " ' \"Wifi \\\\u2013 26 Mbps\"',\n",
       " ' \"Security cameras on property\"   \"Shampoo\"',\n",
       " ' \"Oven\"   \"Shampoo\"',\n",
       " ' \"Pool\"   \"Hot water\"',\n",
       " ' \"Free dryer\"',\n",
       " ' \"Conditioner\"   \"Board games\"',\n",
       " ' \"Signature shampoo\"',\n",
       " ' \"Outlet covers\"   \"Washer\"',\n",
       " ' \"Fire extinguisher\"   \"Table corner guards\"',\n",
       " ' \"Oven\"',\n",
       " ' \"Shared outdoor rooftop lap pool\"',\n",
       " ' \"Shokubutsu  body soap\"',\n",
       " ' \"Hot water\"   \"Private hot tub\"',\n",
       " ' \"Fast wifi \\\\u2013 87 Mbps\"',\n",
       " ' \"32\\\\\" HDTV with Netflix\"',\n",
       " ' standard cable\"   \"Kitchen\"',\n",
       " ' \"Bathtub\"   \"Private hot tub\"',\n",
       " ' premium cable\"   \"Long term stays allowed\"   \"Wifi\"',\n",
       " ' \"Free carport on premises \\\\u2013 5 spaces\"',\n",
       " ' \"TV with standard cable',\n",
       " ' \"Courtesy set shampoo\"',\n",
       " ' \"- oven\"',\n",
       " ' \"Watson conditioner\"',\n",
       " ' \"Head & Shoulder shampoo\"',\n",
       " ' \"Hangers\"',\n",
       " ' \"46\\\\\" HDTV with Netflix',\n",
       " ' \"Shared outdoor saltwater pool\"',\n",
       " ' \"Outdoor furniture\"',\n",
       " ' \"Private fenced garden or backyard\"',\n",
       " ' \"Washer \\\\u2013\\\\u00a0In building\"',\n",
       " ' \"Security cameras on property\"   \"Long term stays allowed\"',\n",
       " ' \"Free street parking\"   \"Kitchen\"',\n",
       " ' \"Nivea  body soap\"',\n",
       " ' \"Outlet covers\"   \"Window guards\"',\n",
       " ' \"68\\\\\" HDTV with Netflix\"',\n",
       " ' \"Fast wifi \\\\u2013 420 Mbps\"',\n",
       " ' \"Portable fans\"',\n",
       " ' \"47\\\\\" TV with premium cable',\n",
       " ' \"44\\\\\" HDTV with Netflix',\n",
       " ' \"Clothing storage: closet',\n",
       " ' \"55\\\\\" TV with Netflix',\n",
       " ' \"Gym\"   \"Shampoo\"',\n",
       " ' \"Panasonic  refrigerator\"',\n",
       " ' \"25\\\\\" HDTV with premium cable\"',\n",
       " ' \"First aid kit\"   \"Long term stays allowed\"   \"Wifi\"',\n",
       " ' \"Head & Shoulder  shampoo\"',\n",
       " ' \"Hair dryer\"   \"Long term stays allowed\"',\n",
       " ' \"Hot water\"   \"Long term stays allowed\"   \"Kitchen\"',\n",
       " ' \"Germany brand  electric stove\"',\n",
       " ' \"Dryer\"',\n",
       " ' \"Fast wifi \\\\u2013 83 Mbps\"',\n",
       " ' \"Local brand conditioner\"',\n",
       " ' \"General shampoo\"   \"Wifi\"',\n",
       " ' \"Mini fridge\"',\n",
       " ' \"60\\\\\" HDTV with Netflix',\n",
       " ' \"Wifi \\\\u2013 22 Mbps\"',\n",
       " ' \"Fast wifi \\\\u2013 127 Mbps\"',\n",
       " ' \"Fast wifi \\\\u2013 377 Mbps\"',\n",
       " ' 5-10 years old',\n",
       " ' \"Security cameras on property\"   \"Kitchen\"',\n",
       " ' \"Induction stove\"',\n",
       " ' \"Not specific  body soap\"',\n",
       " ' \"Pool\"   \"Shampoo\"',\n",
       " ' \"Fire extinguisher\"   \"Essentials\"',\n",
       " ' \"Local brand  shampoo\"',\n",
       " ' \"Free carport on premises \\\\u2013 30 spaces\"',\n",
       " ' \"Table corner guards\"',\n",
       " ' \"33\\\\\" HDTV\"',\n",
       " ' \"Fire extinguisher\"   \"Safe\"',\n",
       " ' \"Fast wifi \\\\u2013 176 Mbps\"',\n",
       " ' \"Dishes and silverware\"',\n",
       " ' \"Long term stays allowed\"   \"Freezer\"',\n",
       " ' \"25\\\\\" TV with Netflix\"',\n",
       " ' \"SHARP refrigerator\"',\n",
       " ' \". conditioner\"',\n",
       " ' \"41\\\\\" HDTV with standard cable\"',\n",
       " ' \"Mitsubishi Electric refrigerator\"',\n",
       " ' \"Free parking garage on premises\"',\n",
       " ' \"Clothing storage: wardrobe and walk-in closet\"',\n",
       " ' \"49\\\\\" HDTV\"',\n",
       " ' \"Commonground body soap\"',\n",
       " ' \"Paid washer\"',\n",
       " ' \"Hot water\"   \"Hot water\"',\n",
       " ' \"Samsung Bluetooth sound system\"',\n",
       " ' \"Ethernet connection\"   \"Shampoo\"',\n",
       " ' \"Sharp  refrigerator\"',\n",
       " ' \"Hot water\"   \"Central air conditioning\"',\n",
       " ' \"Erb ( Thai Herbs \\\\ud83c\\\\udf3f) body soap\"',\n",
       " ' \"Global brands body soap\"',\n",
       " ' \"Ski-in/Ski-out\"',\n",
       " ' \"Paid parking garage on premises \\\\u2013 2 spaces\"',\n",
       " ' \"Electric stove\"   \"Wifi\"',\n",
       " ' \"Local brand stainless steel oven\"',\n",
       " ' \"Mosquito net\"',\n",
       " ' \"Hot water\"   \"Board games\"',\n",
       " ' \"Paid parking lot on premises \\\\u2013 2 spaces\"',\n",
       " ' \"Smoking allowed\"',\n",
       " ' \"Fast wifi \\\\u2013 559 Mbps\"',\n",
       " ' \"First aid kit\"   \"Essentials\"',\n",
       " ' \"Electrolux oven\"',\n",
       " ' \"Private entrance\"   \"Long term stays allowed\"   \"Wifi\"',\n",
       " ' \"43\\\\\" TV with standard cable\"',\n",
       " ' \"Hot water\"   \"Kitchen\"',\n",
       " ' \"Bidet\"   \"Wifi\"',\n",
       " ' \"Boat slip\"',\n",
       " ' and closet\"',\n",
       " ' \"26\\\\\" HDTV with premium cable',\n",
       " ' \"Sunsilk  shampoo\"',\n",
       " ' \"Wifi \\\\u2013 48 Mbps\"',\n",
       " ' \"Pool\"   \"Long term stays allowed\"   \"Wifi\"',\n",
       " ' \"Shower cream body soap\"',\n",
       " ' and closet\"   \"Wifi\"',\n",
       " ' \"Fast wifi \\\\u2013 154 Mbps\"',\n",
       " ' \"Fast wifi \\\\u2013 321 Mbps\"',\n",
       " ' \"Private patio or balcony\"   \"Wifi\"',\n",
       " ' \"Conditioner\"   \"Long term stays allowed\"',\n",
       " ' \"Paid parking off premises\"   \"Kitchen\"',\n",
       " ' \"Private gym in building\"',\n",
       " ' \"Fast wifi \\\\u2013 568 Mbps\"',\n",
       " ' \"Boots body soap\"',\n",
       " ' \"Smoke alarm\"   \"Wifi\"',\n",
       " ' \"Essentials\"   \"Wifi\"',\n",
       " ' \"HITACHI refrigerator\"',\n",
       " ' \"Fast wifi \\\\u2013 313 Mbps\"',\n",
       " ' \"Fire extinguisher\"   \"Long term stays allowed\"   \"Kitchen\"',\n",
       " ' \"Bathtub\"   \"Kitchen\"',\n",
       " ' \"Pool\"',\n",
       " ' \"Schon stainless steel induction stove\"',\n",
       " ' \"Wifi \\\\u2013 36 Mbps\"',\n",
       " ' \"Samsung stainless steel oven\"',\n",
       " ' \"Hitachi  refrigerator\"',\n",
       " ' \"Pool\"   \"Private entrance\"',\n",
       " ' \"50\\\\\" HDTV with Amazon Prime Video',\n",
       " ' \"46\\\\\" HDTV\"',\n",
       " ' \"Patio or balcony\"   \"Shampoo\"',\n",
       " ' \"Freezer\"',\n",
       " ' \"Sunsilk',\n",
       " ' \"Fast wifi \\\\u2013 84 Mbps\"',\n",
       " ' \"Essentials\"',\n",
       " ' \"Fire extinguisher\"   \"50\\\\\" HDTV with Netflix',\n",
       " ' \"Hot water\"   \"Outdoor dining area\"',\n",
       " ' \"Outlet covers\"   \"Kitchen\"',\n",
       " ' \"Outlet covers\"   \"Shampoo\"',\n",
       " ' \"Teka stainless steel gas stove\"',\n",
       " ' \"Wifi \\\\u2013 37 Mbps\"',\n",
       " ' \"24\\\\\" HDTV with Netflix\"',\n",
       " ' \"Children\\\\u2019s books and toys for ages 5-10 years old and 10+ years old\"',\n",
       " ' \"LOLENTIS conditioner\"',\n",
       " ' \"Free carport on premises \\\\u2013 2 spaces\"',\n",
       " ' \"Head &Shoulder shampoo\"',\n",
       " ' \"Fast wifi \\\\u2013 269 Mbps\"',\n",
       " ' \"Homemade body soap\"',\n",
       " ' \"Free parking on premises\"   \"Air conditioning\"',\n",
       " ' \"Panasonic Soundbar + Subwoofer Bluetooth sound system\"',\n",
       " ' \"Free carport on premises \\\\u2013 20 spaces\"',\n",
       " ' \"Dining table\"',\n",
       " ' \"Sharp stainless steel oven\"',\n",
       " ' \"Long term stays allowed\"   \"Essentials\"',\n",
       " ' \"Fire extinguisher\"   \"LG refrigerator\"',\n",
       " ' \"Electrolux induction stove\"',\n",
       " ' \"Wifi \\\\u2013 15 Mbps\"',\n",
       " ' \"Outdoor dining area\"',\n",
       " ' \"Trash compactor\"',\n",
       " ' \"Fast wifi \\\\u2013 431 Mbps\"',\n",
       " ' \"Pool\"   \"Table corner guards\"',\n",
       " ' \"Air conditioning\"',\n",
       " ' \"Iron\"   \"Essentials\"',\n",
       " ' \"Shared gym\"   \"Air conditioning\"',\n",
       " ' \"Shared outdoor rooftop pool\"',\n",
       " ' \"Bathtub\"   \"Wifi\"',\n",
       " ' \"Wifi \\\\u2013 19 Mbps\"',\n",
       " ' \"Fast wifi \\\\u2013 410 Mbps\"',\n",
       " ' \"Sony sound system with Bluetooth and aux\"',\n",
       " ' \"Fast wifi \\\\u2013 251 Mbps\"',\n",
       " ' \"Heating\"',\n",
       " ' \"Free carport on premises \\\\u2013 1 space\"',\n",
       " ' \"Lock on bedroom door\"   \"Shampoo\"',\n",
       " ' \"Lake access\"   \"Shampoo\"',\n",
       " ' \"Smeg stainless steel oven\"',\n",
       " ' head&shoulder shampoo\"',\n",
       " ' \"Shared outdoor rooftop pool\"   \"Wifi\"',\n",
       " ' \"Hotel Brand body soap\"',\n",
       " ' \"Generic body soap\"',\n",
       " ' \"Fire extinguisher\"   \"Security cameras on property\"',\n",
       " ' \"36\\\\\" HDTV with premium cable',\n",
       " ' \"Xiaomi  stainless steel oven\"',\n",
       " ' closet',\n",
       " ' \"Paid parking on premises \\\\u2013 1 space\"',\n",
       " ' Sunsilk shampoo\"',\n",
       " ' \"Thailand body soap\"',\n",
       " ' \"Free street parking\"',\n",
       " ' \"Pool\"   \"Free parking on premises\"',\n",
       " ' \"Various shampoo\"',\n",
       " ' \"Siemens stainless steel oven\"',\n",
       " ' \"OK Google Bluetooth sound system\"',\n",
       " ' \"Gym\"   \"Table corner guards\"',\n",
       " ' \"Hair dryer\"',\n",
       " ' \"Samsung inverter  refrigerator\"',\n",
       " ' \"Portable air conditioning\"',\n",
       " ' \"65\\\\\" HDTV with premium cable\"',\n",
       " ' \"Carbon monoxide alarm\"   \"Wifi\"',\n",
       " ' \"General brand body soap\"',\n",
       " ' \"Fast wifi \\\\u2013 457 Mbps\"',\n",
       " ' \"Central heating\"',\n",
       " ' \"Pool table\"',\n",
       " ' \"Dishes and silverware\"   \"Private hot tub\"',\n",
       " ' \"20\\\\\" TV\"',\n",
       " ' \"Fire extinguisher\"   \"Watsons body soap\"',\n",
       " ' \"43\\\\\" HDTV with Netflix',\n",
       " ' \"Crib\"',\n",
       " ' \"THESS body soap\"',\n",
       " ' \"Hot water\"   \"Lock on bedroom door\"',\n",
       " ' \"Green Tea',\n",
       " ' \"Cooking basics\"   \"Shampoo\"',\n",
       " ' \"Free parking garage on premises \\\\u2013 13 spaces\"',\n",
       " ' \"Toshiba refrigerator\"   \"Shampoo\"',\n",
       " ' \"24\\\\\" HDTV with Netflix',\n",
       " ' \"No braND stainless steel electric stove\"',\n",
       " ' \"Hair dryer\"   \"Long term stays allowed\"   \"Air conditioning\"',\n",
       " ' \"\\\\u0e17\\\\u0e31\\\\u0e48\\\\u0e27\\\\u0e44\\\\u0e1b conditioner\"',\n",
       " ' \"Ethernet connection\"   \"Long term stays allowed\"   \"Wifi\"',\n",
       " ' \"Body soap\"',\n",
       " ' \"Conditioner\"   \"Wifi\"',\n",
       " ' \"Hot water\"   \"Window guards\"',\n",
       " ' \"Dedicated workspace\"   \"Air conditioning\"',\n",
       " ' \"Smart lock\"',\n",
       " ' \"White ivory conditioner\"',\n",
       " ' Netflix',\n",
       " ' \"Fast wifi \\\\u2013 372 Mbps\"',\n",
       " ' \"Mosquito net\"   \"Kitchen\"',\n",
       " ' \"Air flyer oven\"',\n",
       " ' \"SANYO Nano Ferrite System 2 doors No Fros refrigerator\"',\n",
       " ' \"Gym\"   \"Essentials\"',\n",
       " ' \"Shared outdoor lap pool\"',\n",
       " ' herbal type conditioner\"',\n",
       " ' \"Cleaning products\"   \"Wifi\"',\n",
       " ' \"Double ovens oven\"',\n",
       " ' \"Pool\"   \"Kitchen\"',\n",
       " ' \"Shared infinity pool\"',\n",
       " ' \"Building staff\"',\n",
       " ' \"Ski-in/Ski-out\"   \"Shampoo\"',\n",
       " ' \"TV with Apple TV',\n",
       " ' \"Security cameras on property\"   \"Table corner guards\"',\n",
       " ' \"Window AC unit\"   \"Essentials\"',\n",
       " ' \"Fast wifi \\\\u2013 318 Mbps\"',\n",
       " ' \"Ethernet connection\"   \"Lock on bedroom door\"',\n",
       " ' \"Natural product  body soap\"',\n",
       " ' \"Various conditioner\"',\n",
       " ' \"Hot water\"   \"Wifi\"   \"Wifi\"',\n",
       " ' \"Private entrance\"   \"Shampoo\"',\n",
       " ' \"Ceramic hob top electric stove\"',\n",
       " ' \"Wifi \\\\u2013 9 Mbps\"',\n",
       " ' \"TV with Netflix',\n",
       " ' \"Natural conditioner\"',\n",
       " ' \"Sumsung refrigerator\"',\n",
       " ' \"Keypad\"   \"Shampoo\"',\n",
       " ' \"Fire extinguisher\"   \"Long term stays allowed\"   \"Wifi\"',\n",
       " ' \"Slippers\"',\n",
       " ' \"Makro conditioner\"',\n",
       " ' \"Private hot tub\"',\n",
       " ' \"Fast wifi \\\\u2013 337 Mbps\"',\n",
       " ' \"43\\\\\" HDTV with standard cable\"',\n",
       " ' \"Smoke alarm\"   \"Shampoo\"',\n",
       " ' \"50\\\\\" HDTV\"',\n",
       " ' \"Toshoba oven\"',\n",
       " ' \"SKG sound system\"',\n",
       " ' \"Fast wifi \\\\u2013 88 Mbps\"',\n",
       " ' \"45\\\\\" HDTV with Amazon Prime Video',\n",
       " ' \"Gym\"   \"Samsung refrigerator\"',\n",
       " ' \"Pool\"   \"40\\\\\" HDTV with standard cable\"',\n",
       " ' \"Shared in common area refrigerator\"',\n",
       " ' \"MEX - 2 flame  electric stove\"',\n",
       " ' \"Shared gym\"',\n",
       " ' \"Dettol  body soap\"',\n",
       " ' \"49\\\\\" TV\"',\n",
       " ' \"Paid street parking off premises\"',\n",
       " ' \"Local body soap\"',\n",
       " ' \"Fire extinguisher\"   \"Window guards\"',\n",
       " ' \"Outdoor rooftop pool\"',\n",
       " ' \"Cleaning before checkout\"   \"Long term stays allowed\"',\n",
       " ' \"Hot water\"   \"Table corner guards\"',\n",
       " ' \"Fast wifi \\\\u2013 465 Mbps\"',\n",
       " ' \"Bidet\"',\n",
       " ' \"40\\\\\" HDTV with Chromecast',\n",
       " ' \"Smart lock\"   \"Wifi\"',\n",
       " ' \"Yamaha home theater  sound system\"',\n",
       " ' \"50\\\\\" HDTV with standard cable\"',\n",
       " ' \"Head&Shoulder',\n",
       " ' \"Cleaning before checkout\"   \"Private hot tub\"',\n",
       " ' \"55\\\\\" HDTV with Chromecast',\n",
       " ' \"LG Inverter refrigerator\"',\n",
       " ' \"Fast wifi \\\\u2013 248 Mbps\"',\n",
       " ' \"Free driveway parking on premises\"',\n",
       " ' \"Aro conditioner\"',\n",
       " ' \"Fast wifi \\\\u2013 210 Mbps\"',\n",
       " ' \"Lux  body soap\"',\n",
       " ' \"Oven\"   \"Wifi\"',\n",
       " ' \"Fire extinguisher\"   \"Private hot tub\"',\n",
       " ' \"Bidet\"   \"Kitchen\"',\n",
       " ' \"42\\\\\" HDTV\"',\n",
       " ' and 5-10 years old\"',\n",
       " ' \"Ethernet connection\"   \"Private hot tub\"',\n",
       " ' and dresser\"',\n",
       " ' \"Shared indoor saltwater pool\"',\n",
       " ' \"Paid parking garage on premises\"',\n",
       " ' \"40\\\\\" HDTV with standard cable',\n",
       " ' \"Washer \\\\u2013\\\\u00a0In unit\"   \"Long term stays allowed\"   \"Wifi\"',\n",
       " ' \"Pool toys\"',\n",
       " ' \"Bathroom essentials\"',\n",
       " ' \"Mitsubishi  refrigerator\"',\n",
       " ' \"Fast wifi \\\\u2013 323 Mbps\"',\n",
       " ' Sunsilk conditioner\"',\n",
       " ' \"General body soap\"',\n",
       " ' \"Pool\"   \"Freezer\"',\n",
       " ' \"Mitsubishi  conditioner\"',\n",
       " ' \"Sherman sound system\"',\n",
       " ' \"Board games\"',\n",
       " ' \"Kitchenette\"',\n",
       " ' \"Children\\\\u2019s books and toys for ages 0-2 years old and 2-5 years old\"   \"Wifi\"',\n",
       " ' \"Pool\"   \"Long term stays allowed\"   \"Kitchen\"',\n",
       " ' \"Hot water\"   \"Natural body soap\"',\n",
       " ' 2-5 years old',\n",
       " ' \"Kayak\"',\n",
       " ' \"Fast wifi \\\\u2013 222 Mbps\"',\n",
       " ' \"Free carport on premises \\\\u2013 15 spaces\"',\n",
       " ' \"42\\\\\" HDTV with standard cable\"',\n",
       " ' \"Pool\"   \"Long term stays allowed\"   \"Shampoo\"',\n",
       " ' \"Mex - Ceramic hob with touch control stove\"',\n",
       " ' \"Fast wifi \\\\u2013 147 Mbps\"',\n",
       " ' \"Children\\\\u2019s books and toys for ages 2-5 years old\"',\n",
       " ' \"TV with standard cable\"',\n",
       " ' \"Own Brand body soap\"',\n",
       " ' \"Drying rack for clothing\"',\n",
       " ' \"Electrolux - Induction touch control stove\"',\n",
       " ' \"HDTV with Amazon Prime Video',\n",
       " ' \". body soap\"',\n",
       " ' \"Security cameras on property\"   \"Air conditioning\"',\n",
       " ' \"Clothing storage: walk-in closet and wardrobe\"',\n",
       " ' \"Fast wifi \\\\u2013 134 Mbps\"',\n",
       " ' \"42\\\\\" TV with Netflix\"',\n",
       " ' Roku\"',\n",
       " ' \"Long term stays allowed\"   \"Samsung refrigerator\"',\n",
       " ' \"44\\\\\" HDTV with standard cable\"',\n",
       " ' \"Lux conditioner\"',\n",
       " ' \"Fire extinguisher\"   \"Fast wifi \\\\u2013 86 Mbps\"',\n",
       " ' \"Elextrolux stainless steel oven\"',\n",
       " ' Amazon Prime Video',\n",
       " ' \"Keurig coffee machine\"',\n",
       " ' \"Shared outdoor rooftop saltwater pool\"',\n",
       " ' \"Game console\"',\n",
       " ' \"Ethernet connection\"   \"Kitchen\"',\n",
       " ' \"30\\\\\" TV with standard cable\"',\n",
       " ' \"Razr Bluetooth sound system\"',\n",
       " ' \"Luggage dropoff allowed\"',\n",
       " ' \"Paid parking garage on premises \\\\u2013 1 space\"',\n",
       " ' \"Fast wifi \\\\u2013 171 Mbps\"',\n",
       " ' \"Shampoo  shampoo\"',\n",
       " ' \"Watson  body soap\"',\n",
       " ' \"Fire extinguisher\"   \"Samsung refrigerator\"',\n",
       " ' \"55\\\\\" TV with standard cable\"',\n",
       " ' \"Pets allowed\"',\n",
       " ' \"Smoke alarm\"   \"Kitchen\"',\n",
       " ' \"MITSUBISI refrigerator\"',\n",
       " ' \"Global brands shampoo\"',\n",
       " ' \"Cleaning before checkout\"   \"Essentials\"',\n",
       " ' \"Shared outdoor heated saltwater pool\"',\n",
       " ' \"35\\\\\" TV with standard cable\"',\n",
       " ' \"42\\\\\" HDTV with premium cable\"',\n",
       " ' \"Piano\"',\n",
       " ' \"Conditioner\"   \"Shampoo\"',\n",
       " ' \"Rice maker\"',\n",
       " ' \"Fast wifi \\\\u2013 145 Mbps\"',\n",
       " ' \"Free residential garage on premises \\\\u2013 6 spaces\"',\n",
       " ' \"Free residential garage on premises\"',\n",
       " ' \"Gym\"   \"Freezer\"',\n",
       " ' \"HDTV with Apple TV',\n",
       " ' \"Gym\"   \"Wifi\"',\n",
       " ' \"Clothing storage: walk-in closet',\n",
       " ' \"Panasonic sound system with Bluetooth and aux\"',\n",
       " ' herbal type  shampoo\"',\n",
       " ' \"50\\\\\" TV with Netflix\"',\n",
       " ' \"42\\\\\" HDTV with Netflix',\n",
       " ' \"Signature body soap\"',\n",
       " ' \"Aromatheraphy conditioner\"',\n",
       " ' \"HDTV with Netflix',\n",
       " ' \"Fast wifi \\\\u2013 312 Mbps\"',\n",
       " ' \"Washer \\\\u2013\\\\u00a0In unit\"',\n",
       " ' \"EV charger\"',\n",
       " ' \"Fast wifi \\\\u2013 108 Mbps\"',\n",
       " ' \"Keypad\"   \"Washer\"',\n",
       " ' \"Oven\"   \"Kitchen\"',\n",
       " ' \"Dettol body soap\"',\n",
       " ' \"Dedicated workspace\"   \"Long term stays allowed\"   \"Wifi\"',\n",
       " ' \"45\\\\\" HDTV with standard cable\"',\n",
       " ' \"Elevator\"   \"Long term stays allowed\"   \"Wifi\"',\n",
       " ' \"Concierge\"',\n",
       " ' \"Hot water\"   \"Backyard\"',\n",
       " ' \"Cleaning before checkout\"   \"Long term stays allowed\"   \"Shampoo\"',\n",
       " ' \"Cable TV\"   \"Shampoo\"',\n",
       " ' \"75\\\\\" HDTV with Netflix\"',\n",
       " ' \"TV with Chromecast',\n",
       " ' \"46\\\\\" TV with Chromecast',\n",
       " ' \"Carbon monoxide alarm\"',\n",
       " ' \"Fast wifi \\\\u2013 453 Mbps\"',\n",
       " ' \"Klarstein VarioCook 3100W induction stove\"',\n",
       " ' \"Baking sheet\"',\n",
       " ' \"Electric stove\"',\n",
       " ' \"Fast wifi \\\\u2013 257 Mbps\"',\n",
       " ' \"Free driveway parking on premises \\\\u2013 2 spaces\"',\n",
       " ' \"Free dryer \\\\u2013 In unit\"',\n",
       " ' \"Local Brands body soap\"',\n",
       " ' \"High chair\"',\n",
       " ' \"Wifi \\\\u2013 46 Mbps\"',\n",
       " ' \"50\\\\\" HDTV with standard cable',\n",
       " ' \"Pool\"   \"Elevator\"',\n",
       " ' \"32\\\\\" TV\"',\n",
       " ' \"Clothing storage: dresser\"',\n",
       " ' \"Fast wifi \\\\u2013 227 Mbps\"',\n",
       " ' \"Hot water\"   \"Long term stays allowed\"   \"Wifi\"',\n",
       " ' \"Panasonic refrigerator\"',\n",
       " ' \"Outdoor shower\"',\n",
       " ' \"Sunsilk conditioner\"',\n",
       " ' \"Wifi \\\\u2013 33 Mbps\"',\n",
       " ' \"Outdoor saltwater pool\"',\n",
       " ' \"Free parking garage on premises \\\\u2013 2 spaces\"',\n",
       " ' \"Backyard\"',\n",
       " ' \"Sharp refrigerator\"   \"Air conditioning\"',\n",
       " ' \"Hot water kettle\"',\n",
       " ' \"Smeg induction stove\"',\n",
       " ' \"Cleaning before checkout\"   \"Lock on bedroom door\"',\n",
       " ' \"Bose sound system\"',\n",
       " ' \"Fast wifi \\\\u2013 55 Mbps\"',\n",
       " ' \"Clothing storage: wardrobe and dresser\"',\n",
       " ' \"Watsons or Sunsilk shampoo\"',\n",
       " ' \"Shared outdoor infinity olympic-sized rooftop saltwater lap pool\"',\n",
       " ' \"Long term stays allowed\"   \"Long term stays allowed\"   \"Wifi\"',\n",
       " ' \"Shokubutsu',\n",
       " ' \"Aesop body soap\"',\n",
       " ' \"Paid parking on premises\"   \"Kitchen\"',\n",
       " ' \"Breakfast\"',\n",
       " ' \"24\\\\\" TV with standard cable\"',\n",
       " ' \"Lake access\"   \"Wifi\"',\n",
       " ' Lemongrass and Jasmin-Mint Hotel fragrance selected products conditioner\"',\n",
       " ' \"Free residential garage on premises \\\\u2013 1 space\"',\n",
       " ' \"Iron\"',\n",
       " ' \"General conditioner\"',\n",
       " ' \"Children\\\\u2019s books and toys for ages 0-2 years old\"',\n",
       " ' \"Hair dryer\"   \"Kitchen\"',\n",
       " ' \"38\\\\\" HDTV with standard cable\"',\n",
       " ' \"HDTV with standard cable',\n",
       " ' \"32\\\\\" HDTV with Chromecast\"',\n",
       " ' \"\\\\u7a7a\\\\u6c14\\\\u70b8\\\\u9505 oven\"',\n",
       " ' \"Commonground shampoo\"',\n",
       " ' \"44\\\\\" HDTV with Netflix\"',\n",
       " ' \"Indoor fireplace\"',\n",
       " ' \"Filtered  conditioner\"',\n",
       " ' standard cable\"   \"Wifi\"',\n",
       " ' \"40\\\\\" HDTV\"',\n",
       " ' \"Fast wifi \\\\u2013 333 Mbps\"',\n",
       " ' \"Free washer\"',\n",
       " ' \"Head&Shoulder conditioner\"',\n",
       " ' \"Local brand',\n",
       " ' \"Pack \\\\u2019n play/Travel crib\"',\n",
       " ' \"Aromatherapy  shampoo\"',\n",
       " ' \"40\\\\\" HDTV with Netflix\"',\n",
       " ' \"Mex stove\"',\n",
       " ' \"Fast wifi \\\\u2013 427 Mbps\"',\n",
       " ' \"Fire extinguisher\"',\n",
       " ' \"39\\\\\" TV with standard cable\"',\n",
       " ' \"Hot water\"   \"Hangers\"',\n",
       " ' \"39\\\\\" HDTV\"',\n",
       " ' \"HDTV with premium cable\"',\n",
       " ' \"Ceiling fan\"',\n",
       " ' Chromecast\"',\n",
       " ' \"Sun silk shampoo\"',\n",
       " ' \"Cooking basics\"',\n",
       " ' \"SMEG electric stove\"',\n",
       " ' \"45\\\\\" HDTV with Netflix\"',\n",
       " ' \"Fast wifi \\\\u2013 260 Mbps\"',\n",
       " ' \"Fire extinguisher\"   \"Shampoo\"',\n",
       " ' \"Clothing storage: closet and wardrobe\"',\n",
       " ' \"Bathtub\"',\n",
       " ' \"TV\"   \"Shampoo\"',\n",
       " ' \"Fast wifi \\\\u2013 91 Mbps\"',\n",
       " ' \"Fast wifi \\\\u2013 57 Mbps\"',\n",
       " ' \"Pool\"   \"Washer\"',\n",
       " ' \"HDTV with Amazon Prime Video\"',\n",
       " ' \"Thai brand body soap\"',\n",
       " ' \"\\\\u4f0a\\\\u83b1\\\\u514b\\\\u65af refrigerator\"',\n",
       " ' \"Pool\"   \"Board games\"',\n",
       " ' \"Carbon monoxide alarm\"   \"Air conditioning\"',\n",
       " ' \"Patio or balcony\"',\n",
       " ' and walk-in closet\"',\n",
       " ' HBO Max\"',\n",
       " ' \"Hot water\"   \"Free parking on premises\"',\n",
       " ' \"Dedicated workspace\"',\n",
       " ' \"30\\\\\" TV\"',\n",
       " ' \"34\\\\\" TV\"',\n",
       " ' \"65\\\\\" HDTV with Netflix\"',\n",
       " ' \"Fast wifi \\\\u2013 225 Mbps\"',\n",
       " ' \"Continental breakfast available \\\\u2014 \\\\u0e3f270 per person per day\"',\n",
       " ' \"Beko Inverter 10.6Q refrigerator\"',\n",
       " ' \"Gla conditioner\"',\n",
       " ' \"Teka electric stove\"',\n",
       " ' \"Lock on bedroom door\"   \"Wifi\"',\n",
       " ' \"42\\\\\" HDTV with Chromecast',\n",
       " ' \"Teka halogen electric stove\"',\n",
       " ' \"Hotel grade body soap\"',\n",
       " ' \"Fire extinguisher\"   \"Long term stays allowed\"   \"Long term stays allowed\"   \"Long term stays allowed\"   \"Wifi\"',\n",
       " ' \"43\\\\\" HDTV\"',\n",
       " ' \"Gym\"   \"Long term stays allowed\"',\n",
       " ' \"Hotel Brand conditioner\"',\n",
       " ' \"Electric stove\"   \"Shampoo\"',\n",
       " ' \"Cleaning before checkout\"   \"Freezer\"',\n",
       " ' \"Liquid body soap body soap\"',\n",
       " ' \"Ping pong table\"',\n",
       " ' \"Franke electric stove\"',\n",
       " ' \"Fast wifi \\\\u2013 80 Mbps\"',\n",
       " ' \"Sharp refrigerator\"   \"Wifi\"',\n",
       " ' \"49\\\\\" HDTV with HBO Max',\n",
       " ' \"TV\"   \"Wifi\"',\n",
       " ' \"Long term stays allowed\"',\n",
       " ' \"Gym\"   \"Long term stays allowed\"   \"Wifi\"',\n",
       " ' \"Free parking on premises\"   \"Wifi\"',\n",
       " ' \"Ethernet connection\"   \"Host greets you\"',\n",
       " ' \"Long term stays allowed\"   \"Watsons body soap\"',\n",
       " ' \"Free parking on premises\"',\n",
       " ' \"Hangers\"   \"Wifi\"',\n",
       " ' \"Pool\"   \"Wifi\"',\n",
       " ' \"Paid washer \\\\u2013 In unit\"   \"Wifi\"',\n",
       " ' \"52\\\\\" HDTV with standard cable',\n",
       " ' \"Hair dryer\"   \"50\\\\\" HDTV with Netflix',\n",
       " ' \"Fast wifi \\\\u2013 488 Mbps\"',\n",
       " ' \"Shared indoor pool\"',\n",
       " ' \"Paid parking lot on premises \\\\u2013 100 spaces\"',\n",
       " ' \"Private patio or balcony\"',\n",
       " ' \"Siemens refrigerator\"',\n",
       " ' \"Private entrance\"   \"Long term stays allowed\"',\n",
       " ' \"Hot water\"   \"Shared pool\"',\n",
       " ' \"Pool\"   \"Watsons body soap\"',\n",
       " ' \"Shared outdoor heated pool\"',\n",
       " ' \"Hair dryer\"   \"Wifi\"',\n",
       " ' \"29\\\\\" TV with standard cable\"',\n",
       " ' \"Long term stays allowed\"   \"Kitchen\"',\n",
       " ' \"Private entrance\"   \"Kitchen\"',\n",
       " ' \"Breakfast\"   \"Shampoo\"',\n",
       " ' \"Sasung refrigerator\"',\n",
       " ' \"50\\\\\" HDTV with HBO Max',\n",
       " ' \"Hot water\"   \"Samsung refrigerator\"',\n",
       " ' \"Fast wifi \\\\u2013 118 Mbps\"',\n",
       " ' \"Fire extinguisher\"   \"Essentials\"   \"Air conditioning\"',\n",
       " ' \"Hot water\"   \"Shampoo\"',\n",
       " ' \"Shared indoor infinity rooftop pool\"',\n",
       " ' \"\\\\u0e37None refrigerator\"',\n",
       " ' \"Hotel Kit for 1-2 days conditioner\"',\n",
       " ' \"50\\\\\" HDTV with Apple TV',\n",
       " ' \"HDTV with Apple TV\"',\n",
       " ' \"Paid dryer\"',\n",
       " ' \"Sunsilk shampoo\"',\n",
       " ' \"Private entrance\"',\n",
       " ' and walk-in closet\"   \"Wifi\"',\n",
       " ' \"Ethernet connection\"   \"Essentials\"',\n",
       " ' HBO Max',\n",
       " ' \"Cleaning before checkout\"   \"Backyard\"',\n",
       " ' \"Harman Kardon Bluetooth sound system\"',\n",
       " ' \"Dedicated workspace\"   \"Long term stays allowed\"',\n",
       " ' \"Lux and Protex body soap\"',\n",
       " ' rejoice',\n",
       " ' \"Fast wifi \\\\u2013 63 Mbps\"',\n",
       " ' \"Lux  shampoo\"',\n",
       " ' \"Head and shoulder shampoo\"',\n",
       " ' \"Conditioner\"',\n",
       " ' \"Security cameras on property\"   \"Wifi\"',\n",
       " ' \"Baby bath\"',\n",
       " ' \"32\\\\\" HDTV with standard cable\"',\n",
       " ' \"Fast wifi \\\\u2013 151 Mbps\"',\n",
       " ' \"Ethernet connection\"   \"Outdoor dining area\"',\n",
       " ' \"Teka stove\"',\n",
       " ' \"Hair dryer\"   \"Long term stays allowed\"   \"Shampoo\"',\n",
       " ' \"Fast wifi \\\\u2013 342 Mbps\"   \"Wifi\"',\n",
       " ' \"Children\\\\u2019s dinnerware\"',\n",
       " ' \"Rejoice conditioner\"',\n",
       " ' \"TV\"   \"Hot water kettle\"',\n",
       " ' \"HDTV with Roku',\n",
       " ' \"Hot water\"   \"Daikin conditioner\"',\n",
       " ' \"Stainless steel gas stove\"',\n",
       " ' \"Beko refrigerator\"',\n",
       " ' \"60\\\\\" HDTV\"',\n",
       " ' \"Private entrance\"   \"Wifi\"',\n",
       " ' \"Fire extinguisher\"      \"Shampoo\"',\n",
       " ' \"Hangers\"   \"Shampoo\"',\n",
       " ' \"Children\\\\u2019s books and toys for ages 10+ years old\"',\n",
       " ' \"Shared hot tub\"',\n",
       " ' \"40\\\\\" TV with standard cable\"',\n",
       " ' \"Paid dryer \\\\u2013 In building\"   \"Long term stays allowed\"   \"Shampoo\"',\n",
       " ' \"52\\\\\" HDTV with Amazon Prime Video\"',\n",
       " ' \"Fast wifi \\\\u2013 245 Mbps\"',\n",
       " ' \"Babysitter recommendations\"',\n",
       " ' premium cable',\n",
       " ' \"40\\\\\" HDTV with Chromecast\"',\n",
       " ' \"Cleaning products\"   \"Shampoo\"',\n",
       " ' \"Bikes\"',\n",
       " ' \"32\\\\\" HDTV with Netflix',\n",
       " ' \"Samsung electric stove\"',\n",
       " ' \"Local Premium Organic Product shampoo\"',\n",
       " ' \"HDTV with Chromecast',\n",
       " ' \"Long term stays allowed\"   \"Air conditioning\"',\n",
       " ' \"Samsung  refrigerator\"',\n",
       " ' \"No brand stainless steel oven\"',\n",
       " ' \"- refrigerator\"',\n",
       " ' \"Pantene',\n",
       " ' \"Shower gel\"',\n",
       " ' \"Samsung with a separate freezer  refrigerator\"',\n",
       " ' \"Fast wifi \\\\u2013 102 Mbps\"',\n",
       " ' \"24\\\\\" HDTV with premium cable',\n",
       " ' \"Clothing storage: closet\"   \"Wifi\"',\n",
       " ' \"Long term stays allowed\"   \"Washer\"',\n",
       " ' \"Various body soap\"',\n",
       " ' \"Sony sound system\"',\n",
       " ' \"Clothing storage: walk-in closet and closet\"',\n",
       " ' \"50\\\\\" TV\"',\n",
       " ' \"- stove\"',\n",
       " ' \"Fire extinguisher\"   \"Wifi\"   \"Shampoo\"',\n",
       " ' \"SCCT101 refrigerator\"',\n",
       " ' \"Long term stays allowed\"   \"Shampoo\"',\n",
       " ' \"HDTV with \"',\n",
       " ' \"Pour-over coffee\"',\n",
       " ' \"42\\\\\" TV\"',\n",
       " ' \"Shared outdoor olympic-sized rooftop saltwater pool\"',\n",
       " ' \"50\\\\\" HDTV with Netflix\"',\n",
       " ' \"Free driveway parking on premises \\\\u2013 1 space\"',\n",
       " ' \"Fast wifi \\\\u2013 223 Mbps\"',\n",
       " ' \"Fast wifi \\\\u2013 467 Mbps\"   \"Wifi\"',\n",
       " ' \"Airport shuttle\"',\n",
       " ' \"HDTV with premium cable',\n",
       " ' \"Outlet covers\"   \"Essentials\"',\n",
       " ' \"Game console: PS4\"',\n",
       " ...}"
      ]
     },
     "execution_count": 54,
     "metadata": {},
     "output_type": "execute_result"
    }
   ],
   "source": [
    "amenities =  ' '.join(listings['amenities'])\n",
    "amenities = amenities.replace(\"[\", \" \")\n",
    "amenities = amenities.replace(\"]\", \" \")\n",
    "amenities = amenities.split(\",\")\n",
    "set(amenities)"
   ]
  },
  {
   "cell_type": "markdown",
   "id": "d2539b66",
   "metadata": {},
   "source": [
    "**price**: ranges from \\\\$0 to \\\\$1500000, not matching with the price in calendar. The distribtution of price is highly skewed to the right. "
   ]
  },
  {
   "cell_type": "code",
   "execution_count": 114,
   "id": "d5077a1f",
   "metadata": {},
   "outputs": [
    {
     "name": "stderr",
     "output_type": "stream",
     "text": [
      "/var/folders/x7/bkzyc74x221_9zcr_p3637s40000gn/T/ipykernel_82601/881201311.py:1: FutureWarning: The default value of regex will change from True to False in a future version.\n",
      "  price_listing = listings[\"price\"].str.replace('[\\$\\,\\.]', '').astype(float)\n"
     ]
    },
    {
     "data": {
      "text/plain": [
       "0     712.0\n",
       "1    2500.0\n",
       "2     600.0\n",
       "3     650.0\n",
       "4     500.0\n",
       "Name: price, dtype: float64"
      ]
     },
     "execution_count": 114,
     "metadata": {},
     "output_type": "execute_result"
    }
   ],
   "source": [
    "price_listing = listings[\"price\"].str.replace('[\\$\\,\\.]', '').astype(float)\n",
    "price_listing = price_listing/100\n",
    "price_listing.head()"
   ]
  },
  {
   "cell_type": "code",
   "execution_count": 118,
   "id": "8f1fcc24",
   "metadata": {},
   "outputs": [
    {
     "data": {
      "text/plain": [
       "1500000.0"
      ]
     },
     "execution_count": 118,
     "metadata": {},
     "output_type": "execute_result"
    }
   ],
   "source": [
    "max(price_listing)"
   ]
  },
  {
   "cell_type": "code",
   "execution_count": 119,
   "id": "ecd54b15",
   "metadata": {},
   "outputs": [
    {
     "data": {
      "text/plain": [
       "0.0"
      ]
     },
     "execution_count": 119,
     "metadata": {},
     "output_type": "execute_result"
    }
   ],
   "source": [
    "min(price_listing)"
   ]
  },
  {
   "cell_type": "code",
   "execution_count": 120,
   "id": "3f3df60b",
   "metadata": {},
   "outputs": [
    {
     "data": {
      "text/plain": [
       "0.25     790.0\n",
       "0.50    1200.0\n",
       "0.75    2000.0\n",
       "Name: price, dtype: float64"
      ]
     },
     "execution_count": 120,
     "metadata": {},
     "output_type": "execute_result"
    }
   ],
   "source": [
    "price_listing.quantile([0.25,0.5,0.75])"
   ]
  },
  {
   "cell_type": "code",
   "execution_count": 121,
   "id": "0e2df90c",
   "metadata": {},
   "outputs": [
    {
     "data": {
      "text/plain": [
       "count    1.707400e+04\n",
       "mean     2.262178e+03\n",
       "std      1.332705e+04\n",
       "min      0.000000e+00\n",
       "25%      7.900000e+02\n",
       "50%      1.200000e+03\n",
       "75%      2.000000e+03\n",
       "max      1.500000e+06\n",
       "Name: price, dtype: float64"
      ]
     },
     "execution_count": 121,
     "metadata": {},
     "output_type": "execute_result"
    }
   ],
   "source": [
    "price_listing.describe()"
   ]
  },
  {
   "cell_type": "code",
   "execution_count": 122,
   "id": "e4067ebb",
   "metadata": {},
   "outputs": [
    {
     "data": {
      "image/png": "[encoded data removed]",
      "text/plain": [
       "<Figure size 432x288 with 1 Axes>"
      ]
     },
     "metadata": {
      "needs_background": "light"
     },
     "output_type": "display_data"
    }
   ],
   "source": [
    "plt.hist(price_listing)\n",
    "plt.show() "
   ]
  },
  {
   "cell_type": "markdown",
   "id": "54b54ea0",
   "metadata": {},
   "source": [
    "**minimum_nights**: ranges from 1 to 1125 days. Most of the listings have a minimum equal or less than 7 days. Its distribution is highly skewed to the right."
   ]
  },
  {
   "cell_type": "code",
   "execution_count": 124,
   "id": "d3ffcf6c",
   "metadata": {},
   "outputs": [
    {
     "data": {
      "text/plain": [
       "1125"
      ]
     },
     "execution_count": 124,
     "metadata": {},
     "output_type": "execute_result"
    }
   ],
   "source": [
    "max(listings['minimum_nights'])"
   ]
  },
  {
   "cell_type": "code",
   "execution_count": 125,
   "id": "4e4f2908",
   "metadata": {},
   "outputs": [
    {
     "data": {
      "text/plain": [
       "1"
      ]
     },
     "execution_count": 125,
     "metadata": {},
     "output_type": "execute_result"
    }
   ],
   "source": [
    "min(listings['minimum_nights'])"
   ]
  },
  {
   "cell_type": "code",
   "execution_count": 126,
   "id": "36d6db6c",
   "metadata": {},
   "outputs": [
    {
     "data": {
      "text/plain": [
       "0.25    1.0\n",
       "0.50    1.0\n",
       "0.75    7.0\n",
       "Name: minimum_nights, dtype: float64"
      ]
     },
     "execution_count": 126,
     "metadata": {},
     "output_type": "execute_result"
    }
   ],
   "source": [
    "listings['minimum_nights'].quantile([0.25,0.5,0.75])"
   ]
  },
  {
   "cell_type": "code",
   "execution_count": 127,
   "id": "a5d01b0d",
   "metadata": {},
   "outputs": [
    {
     "data": {
      "text/plain": [
       "count    17074.000000\n",
       "mean        14.181797\n",
       "std         46.362005\n",
       "min          1.000000\n",
       "25%          1.000000\n",
       "50%          1.000000\n",
       "75%          7.000000\n",
       "max       1125.000000\n",
       "Name: minimum_nights, dtype: float64"
      ]
     },
     "execution_count": 127,
     "metadata": {},
     "output_type": "execute_result"
    }
   ],
   "source": [
    "listings['minimum_nights'].describe()"
   ]
  },
  {
   "cell_type": "code",
   "execution_count": 128,
   "id": "c2b6a30b",
   "metadata": {},
   "outputs": [
    {
     "data": {
      "image/png": "[encoded data removed]",
      "text/plain": [
       "<Figure size 432x288 with 1 Axes>"
      ]
     },
     "metadata": {
      "needs_background": "light"
     },
     "output_type": "display_data"
    }
   ],
   "source": [
    "plt.hist(listings['minimum_nights'])\n",
    "plt.show() "
   ]
  },
  {
   "cell_type": "markdown",
   "id": "774a3815",
   "metadata": {},
   "source": [
    "**maximum_nights**: ranges from 1 to 100000 days. Most of the listings have a maximum equal or less than 1125 days. Its distribution is highly skewed to the right."
   ]
  },
  {
   "cell_type": "code",
   "execution_count": 129,
   "id": "a2a76dff",
   "metadata": {},
   "outputs": [
    {
     "data": {
      "text/plain": [
       "100000"
      ]
     },
     "execution_count": 129,
     "metadata": {},
     "output_type": "execute_result"
    }
   ],
   "source": [
    "max(listings['maximum_nights'])"
   ]
  },
  {
   "cell_type": "code",
   "execution_count": 130,
   "id": "613ab523",
   "metadata": {},
   "outputs": [
    {
     "data": {
      "text/plain": [
       "1"
      ]
     },
     "execution_count": 130,
     "metadata": {},
     "output_type": "execute_result"
    }
   ],
   "source": [
    "min(listings['maximum_nights'])"
   ]
  },
  {
   "cell_type": "code",
   "execution_count": 131,
   "id": "cc9c9ff9",
   "metadata": {},
   "outputs": [
    {
     "data": {
      "text/plain": [
       "0.25     365.0\n",
       "0.50    1125.0\n",
       "0.75    1125.0\n",
       "Name: maximum_nights, dtype: float64"
      ]
     },
     "execution_count": 131,
     "metadata": {},
     "output_type": "execute_result"
    }
   ],
   "source": [
    "listings['maximum_nights'].quantile([0.25,0.5,0.75])"
   ]
  },
  {
   "cell_type": "code",
   "execution_count": 132,
   "id": "c66d705d",
   "metadata": {},
   "outputs": [
    {
     "data": {
      "text/plain": [
       "count     17074.000000\n",
       "mean        796.630432\n",
       "std        1170.535489\n",
       "min           1.000000\n",
       "25%         365.000000\n",
       "50%        1125.000000\n",
       "75%        1125.000000\n",
       "max      100000.000000\n",
       "Name: maximum_nights, dtype: float64"
      ]
     },
     "execution_count": 132,
     "metadata": {},
     "output_type": "execute_result"
    }
   ],
   "source": [
    "listings['maximum_nights'].describe()"
   ]
  },
  {
   "cell_type": "code",
   "execution_count": 133,
   "id": "2dc9221d",
   "metadata": {},
   "outputs": [
    {
     "data": {
      "image/png": "[encoded data removed]",
      "text/plain": [
       "<Figure size 432x288 with 1 Axes>"
      ]
     },
     "metadata": {
      "needs_background": "light"
     },
     "output_type": "display_data"
    }
   ],
   "source": [
    "plt.hist(listings['maximum_nights'])\n",
    "plt.show() "
   ]
  },
  {
   "cell_type": "markdown",
   "id": "6151ae73",
   "metadata": {},
   "source": [
    "**minimum_minimum_nights**: ranges from 1 to 1125 days. Most of the listings have a minimum equal or less than 7 days. Its distribution is highly skewed to the right. There are 16793 listings that have the same value of smallest minimum_nights value from the calender (looking 365 nights in the future) with their current minimum_nights."
   ]
  },
  {
   "cell_type": "code",
   "execution_count": 137,
   "id": "11a9325c",
   "metadata": {},
   "outputs": [
    {
     "data": {
      "text/plain": [
       "16793"
      ]
     },
     "execution_count": 137,
     "metadata": {},
     "output_type": "execute_result"
    }
   ],
   "source": [
    "same_min_nights = listings['minimum_minimum_nights'] == listings['minimum_nights']\n",
    "sum(same_min_nights)"
   ]
  },
  {
   "cell_type": "code",
   "execution_count": 140,
   "id": "a9950933",
   "metadata": {},
   "outputs": [
    {
     "data": {
      "text/plain": [
       "170     5\n",
       "223     7\n",
       "327     3\n",
       "454    30\n",
       "500    30\n",
       "Name: minimum_nights, dtype: int64"
      ]
     },
     "execution_count": 140,
     "metadata": {},
     "output_type": "execute_result"
    }
   ],
   "source": [
    "listings[listings['minimum_minimum_nights'] != listings['minimum_nights']]['minimum_nights'].head()"
   ]
  },
  {
   "cell_type": "code",
   "execution_count": 141,
   "id": "eb4f51e7",
   "metadata": {},
   "outputs": [
    {
     "data": {
      "text/plain": [
       "170     3.0\n",
       "223     4.0\n",
       "327     1.0\n",
       "454    31.0\n",
       "500    28.0\n",
       "Name: minimum_minimum_nights, dtype: float64"
      ]
     },
     "execution_count": 141,
     "metadata": {},
     "output_type": "execute_result"
    }
   ],
   "source": [
    "listings[listings['minimum_minimum_nights'] != listings['minimum_nights']]['minimum_minimum_nights'].head()"
   ]
  },
  {
   "cell_type": "code",
   "execution_count": 142,
   "id": "d9b948fe",
   "metadata": {},
   "outputs": [
    {
     "data": {
      "text/plain": [
       "1125.0"
      ]
     },
     "execution_count": 142,
     "metadata": {},
     "output_type": "execute_result"
    }
   ],
   "source": [
    "max(listings['minimum_minimum_nights'])"
   ]
  },
  {
   "cell_type": "code",
   "execution_count": 143,
   "id": "07d5cd58",
   "metadata": {},
   "outputs": [
    {
     "data": {
      "text/plain": [
       "1.0"
      ]
     },
     "execution_count": 143,
     "metadata": {},
     "output_type": "execute_result"
    }
   ],
   "source": [
    "min(listings['minimum_minimum_nights'])"
   ]
  },
  {
   "cell_type": "code",
   "execution_count": 144,
   "id": "85025c52",
   "metadata": {},
   "outputs": [
    {
     "data": {
      "text/plain": [
       "count    17073.00000\n",
       "mean        13.95244\n",
       "std         45.54680\n",
       "min          1.00000\n",
       "25%          1.00000\n",
       "50%          1.00000\n",
       "75%          7.00000\n",
       "max       1125.00000\n",
       "Name: minimum_minimum_nights, dtype: float64"
      ]
     },
     "execution_count": 144,
     "metadata": {},
     "output_type": "execute_result"
    }
   ],
   "source": [
    "listings['minimum_minimum_nights'].describe()"
   ]
  },
  {
   "cell_type": "code",
   "execution_count": 145,
   "id": "b8d7af55",
   "metadata": {},
   "outputs": [
    {
     "data": {
      "image/png": "[encoded data removed]",
      "text/plain": [
       "<Figure size 432x288 with 1 Axes>"
      ]
     },
     "metadata": {
      "needs_background": "light"
     },
     "output_type": "display_data"
    }
   ],
   "source": [
    "plt.hist(listings['minimum_minimum_nights'])\n",
    "plt.show() "
   ]
  },
  {
   "cell_type": "markdown",
   "id": "d069db85",
   "metadata": {},
   "source": [
    "**maximum_minimum_nights**: ranges from 1 to 1125 days. Most of the listings have a maximum equal or less than 1 days. Its distribution is highly skewed to the right. There are 16773 listings that have the same value of largest minimum_nights value from the calender (looking 365 nights in the future) with their current minimum_nights."
   ]
  },
  {
   "cell_type": "code",
   "execution_count": 146,
   "id": "92f182de",
   "metadata": {},
   "outputs": [
    {
     "data": {
      "text/plain": [
       "16773"
      ]
     },
     "execution_count": 146,
     "metadata": {},
     "output_type": "execute_result"
    }
   ],
   "source": [
    "same_min_nights = listings['maximum_minimum_nights'] == listings['minimum_nights']\n",
    "sum(same_min_nights)"
   ]
  },
  {
   "cell_type": "code",
   "execution_count": 147,
   "id": "fc8325d5",
   "metadata": {},
   "outputs": [
    {
     "data": {
      "text/plain": [
       "19    1\n",
       "55    1\n",
       "89    1\n",
       "90    1\n",
       "92    2\n",
       "Name: minimum_nights, dtype: int64"
      ]
     },
     "execution_count": 147,
     "metadata": {},
     "output_type": "execute_result"
    }
   ],
   "source": [
    "listings[listings['maximum_minimum_nights'] != listings['minimum_nights']]['minimum_nights'].head()"
   ]
  },
  {
   "cell_type": "code",
   "execution_count": 148,
   "id": "8a0d7b3f",
   "metadata": {},
   "outputs": [
    {
     "data": {
      "text/plain": [
       "19     2.0\n",
       "55    10.0\n",
       "89     5.0\n",
       "90    10.0\n",
       "92    28.0\n",
       "Name: maximum_minimum_nights, dtype: float64"
      ]
     },
     "execution_count": 148,
     "metadata": {},
     "output_type": "execute_result"
    }
   ],
   "source": [
    "listings[listings['maximum_minimum_nights'] != listings['minimum_nights']]['maximum_minimum_nights'].head()"
   ]
  },
  {
   "cell_type": "code",
   "execution_count": 149,
   "id": "5e2c694c",
   "metadata": {},
   "outputs": [
    {
     "data": {
      "text/plain": [
       "1125.0"
      ]
     },
     "execution_count": 149,
     "metadata": {},
     "output_type": "execute_result"
    }
   ],
   "source": [
    "max(listings['maximum_minimum_nights'])"
   ]
  },
  {
   "cell_type": "code",
   "execution_count": 150,
   "id": "80ab9d16",
   "metadata": {},
   "outputs": [
    {
     "data": {
      "text/plain": [
       "1.0"
      ]
     },
     "execution_count": 150,
     "metadata": {},
     "output_type": "execute_result"
    }
   ],
   "source": [
    "min(listings['maximum_minimum_nights'])"
   ]
  },
  {
   "cell_type": "code",
   "execution_count": 151,
   "id": "b8d2a0f4",
   "metadata": {},
   "outputs": [
    {
     "data": {
      "text/plain": [
       "count    17073.000000\n",
       "mean        14.208165\n",
       "std         45.727986\n",
       "min          1.000000\n",
       "25%          1.000000\n",
       "50%          1.000000\n",
       "75%          7.000000\n",
       "max       1125.000000\n",
       "Name: maximum_minimum_nights, dtype: float64"
      ]
     },
     "execution_count": 151,
     "metadata": {},
     "output_type": "execute_result"
    }
   ],
   "source": [
    "listings['maximum_minimum_nights'].describe()"
   ]
  },
  {
   "cell_type": "code",
   "execution_count": 152,
   "id": "0234ded2",
   "metadata": {},
   "outputs": [
    {
     "data": {
      "image/png": "[encoded data removed]",
      "text/plain": [
       "<Figure size 432x288 with 1 Axes>"
      ]
     },
     "metadata": {
      "needs_background": "light"
     },
     "output_type": "display_data"
    }
   ],
   "source": [
    "plt.hist(listings['maximum_minimum_nights'])\n",
    "plt.show() "
   ]
  },
  {
   "cell_type": "markdown",
   "id": "4a86ce8b",
   "metadata": {},
   "source": [
    "**minimum_maximum_nights**: ranges from 1 to 2147483647 days. Most of the listings have a maximum equal or less than 1125 days. Its distribution is highly skewed to the right. There are 14801 listings that have the same value of smallest maximum_nights value from the calender (looking 365 nights in the future) with their current maximum_nights."
   ]
  },
  {
   "cell_type": "code",
   "execution_count": 153,
   "id": "959320af",
   "metadata": {},
   "outputs": [
    {
     "data": {
      "text/plain": [
       "14801"
      ]
     },
     "execution_count": 153,
     "metadata": {},
     "output_type": "execute_result"
    }
   ],
   "source": [
    "same_max_nights = listings['minimum_maximum_nights'] == listings['maximum_nights']\n",
    "sum(same_max_nights)"
   ]
  },
  {
   "cell_type": "code",
   "execution_count": 154,
   "id": "f2644f46",
   "metadata": {},
   "outputs": [
    {
     "data": {
      "text/plain": [
       "3      30\n",
       "10     90\n",
       "32    365\n",
       "45    180\n",
       "54    365\n",
       "Name: maximum_nights, dtype: int64"
      ]
     },
     "execution_count": 154,
     "metadata": {},
     "output_type": "execute_result"
    }
   ],
   "source": [
    "listings[listings['minimum_maximum_nights'] != listings['maximum_nights']]['maximum_nights'].head()"
   ]
  },
  {
   "cell_type": "code",
   "execution_count": 155,
   "id": "cce729e5",
   "metadata": {},
   "outputs": [
    {
     "data": {
      "text/plain": [
       "3     1125.0\n",
       "10    1125.0\n",
       "32    1125.0\n",
       "45    1125.0\n",
       "54    1125.0\n",
       "Name: minimum_maximum_nights, dtype: float64"
      ]
     },
     "execution_count": 155,
     "metadata": {},
     "output_type": "execute_result"
    }
   ],
   "source": [
    "listings[listings['minimum_maximum_nights'] != listings['maximum_nights']]['minimum_maximum_nights'].head()"
   ]
  },
  {
   "cell_type": "code",
   "execution_count": 156,
   "id": "4774e7a1",
   "metadata": {},
   "outputs": [
    {
     "data": {
      "text/plain": [
       "2147483647.0"
      ]
     },
     "execution_count": 156,
     "metadata": {},
     "output_type": "execute_result"
    }
   ],
   "source": [
    "max(listings['minimum_maximum_nights'])"
   ]
  },
  {
   "cell_type": "code",
   "execution_count": 157,
   "id": "f8d81893",
   "metadata": {},
   "outputs": [
    {
     "data": {
      "text/plain": [
       "1.0"
      ]
     },
     "execution_count": 157,
     "metadata": {},
     "output_type": "execute_result"
    }
   ],
   "source": [
    "min(listings['minimum_maximum_nights'])"
   ]
  },
  {
   "cell_type": "code",
   "execution_count": 158,
   "id": "cacbfa90",
   "metadata": {},
   "outputs": [
    {
     "data": {
      "text/plain": [
       "count    1.707300e+04\n",
       "mean     3.782240e+05\n",
       "std      2.846492e+07\n",
       "min      1.000000e+00\n",
       "25%      3.650000e+02\n",
       "50%      1.125000e+03\n",
       "75%      1.125000e+03\n",
       "max      2.147484e+09\n",
       "Name: minimum_maximum_nights, dtype: float64"
      ]
     },
     "execution_count": 158,
     "metadata": {},
     "output_type": "execute_result"
    }
   ],
   "source": [
    "listings['minimum_maximum_nights'].describe()"
   ]
  },
  {
   "cell_type": "code",
   "execution_count": 159,
   "id": "067dcfc7",
   "metadata": {},
   "outputs": [
    {
     "data": {
      "image/png": "[encoded data removed]",
      "text/plain": [
       "<Figure size 432x288 with 1 Axes>"
      ]
     },
     "metadata": {
      "needs_background": "light"
     },
     "output_type": "display_data"
    }
   ],
   "source": [
    "plt.hist(listings['minimum_maximum_nights'])\n",
    "plt.show() "
   ]
  },
  {
   "cell_type": "markdown",
   "id": "7ef6d1e2",
   "metadata": {},
   "source": [
    "**maximum_maximum_nights**: ranges from 1 to 2147483647 days. Most of the listings have a maximum equal or less than 1125 days. Its distribution is highly skewed to the right. There are 14961 listings that have the same value of largest maximum_nights value from the calender (looking 365 nights in the future) with their current maximum_nights. Combining the info from the previous column, it shows there are 14801 listings with no change in maximum nights for the future 365 days."
   ]
  },
  {
   "cell_type": "code",
   "execution_count": 160,
   "id": "19574f3f",
   "metadata": {},
   "outputs": [
    {
     "data": {
      "text/plain": [
       "14961"
      ]
     },
     "execution_count": 160,
     "metadata": {},
     "output_type": "execute_result"
    }
   ],
   "source": [
    "same_max_nights = listings['maximum_maximum_nights'] == listings['maximum_nights']\n",
    "sum(same_max_nights)"
   ]
  },
  {
   "cell_type": "code",
   "execution_count": 161,
   "id": "94296d9c",
   "metadata": {},
   "outputs": [
    {
     "data": {
      "text/plain": [
       "3      30\n",
       "10     90\n",
       "32    365\n",
       "45    180\n",
       "54    365\n",
       "Name: maximum_nights, dtype: int64"
      ]
     },
     "execution_count": 161,
     "metadata": {},
     "output_type": "execute_result"
    }
   ],
   "source": [
    "listings[listings['maximum_maximum_nights'] != listings['maximum_nights']]['maximum_nights'].head()"
   ]
  },
  {
   "cell_type": "code",
   "execution_count": 162,
   "id": "e70a3fa1",
   "metadata": {},
   "outputs": [
    {
     "data": {
      "text/plain": [
       "3     1125.0\n",
       "10    1125.0\n",
       "32    1125.0\n",
       "45    1125.0\n",
       "54    1125.0\n",
       "Name: maximum_maximum_nights, dtype: float64"
      ]
     },
     "execution_count": 162,
     "metadata": {},
     "output_type": "execute_result"
    }
   ],
   "source": [
    "listings[listings['maximum_maximum_nights'] != listings['maximum_nights']]['maximum_maximum_nights'].head()"
   ]
  },
  {
   "cell_type": "code",
   "execution_count": 165,
   "id": "0175a9af",
   "metadata": {},
   "outputs": [
    {
     "data": {
      "text/plain": [
       "2147483647.0"
      ]
     },
     "execution_count": 165,
     "metadata": {},
     "output_type": "execute_result"
    }
   ],
   "source": [
    "max(listings['maximum_maximum_nights'])"
   ]
  },
  {
   "cell_type": "code",
   "execution_count": 166,
   "id": "0a041aef",
   "metadata": {},
   "outputs": [
    {
     "data": {
      "text/plain": [
       "1.0"
      ]
     },
     "execution_count": 166,
     "metadata": {},
     "output_type": "execute_result"
    }
   ],
   "source": [
    "min(listings['maximum_maximum_nights'])"
   ]
  },
  {
   "cell_type": "code",
   "execution_count": 163,
   "id": "4c03b38b",
   "metadata": {},
   "outputs": [
    {
     "data": {
      "text/plain": [
       "count    1.707300e+04\n",
       "mean     1.761841e+06\n",
       "std      6.147144e+07\n",
       "min      1.000000e+00\n",
       "25%      3.650000e+02\n",
       "50%      1.125000e+03\n",
       "75%      1.125000e+03\n",
       "max      2.147484e+09\n",
       "Name: maximum_maximum_nights, dtype: float64"
      ]
     },
     "execution_count": 163,
     "metadata": {},
     "output_type": "execute_result"
    }
   ],
   "source": [
    "listings['maximum_maximum_nights'].describe()"
   ]
  },
  {
   "cell_type": "code",
   "execution_count": 164,
   "id": "946d5ae9",
   "metadata": {},
   "outputs": [
    {
     "data": {
      "image/png": "[encoded data removed]",
      "text/plain": [
       "<Figure size 432x288 with 1 Axes>"
      ]
     },
     "metadata": {
      "needs_background": "light"
     },
     "output_type": "display_data"
    }
   ],
   "source": [
    "plt.hist(listings['maximum_maximum_nights'])\n",
    "plt.show() "
   ]
  },
  {
   "cell_type": "markdown",
   "id": "1355027d",
   "metadata": {},
   "source": [
    "**minimum_nights_avg_ntm**: ranges from 1 to 1125 days. Most of the listings have a minimum equal or less than 7 days. Its distribution is highly skewed to the right."
   ]
  },
  {
   "cell_type": "code",
   "execution_count": 167,
   "id": "98f09bb3",
   "metadata": {},
   "outputs": [
    {
     "data": {
      "text/plain": [
       "1125.0"
      ]
     },
     "execution_count": 167,
     "metadata": {},
     "output_type": "execute_result"
    }
   ],
   "source": [
    "max(listings['minimum_nights_avg_ntm'])"
   ]
  },
  {
   "cell_type": "code",
   "execution_count": 168,
   "id": "97091871",
   "metadata": {},
   "outputs": [
    {
     "data": {
      "text/plain": [
       "1.0"
      ]
     },
     "execution_count": 168,
     "metadata": {},
     "output_type": "execute_result"
    }
   ],
   "source": [
    "min(listings['minimum_nights_avg_ntm'])"
   ]
  },
  {
   "cell_type": "code",
   "execution_count": 170,
   "id": "111c6eed",
   "metadata": {},
   "outputs": [
    {
     "data": {
      "text/plain": [
       "count    17073.000000\n",
       "mean        14.126035\n",
       "std         45.591759\n",
       "min          1.000000\n",
       "25%          1.000000\n",
       "50%          1.000000\n",
       "75%          7.000000\n",
       "max       1125.000000\n",
       "Name: minimum_nights_avg_ntm, dtype: float64"
      ]
     },
     "execution_count": 170,
     "metadata": {},
     "output_type": "execute_result"
    }
   ],
   "source": [
    "listings['minimum_nights_avg_ntm'].describe()"
   ]
  },
  {
   "cell_type": "code",
   "execution_count": 169,
   "id": "f145d780",
   "metadata": {},
   "outputs": [
    {
     "data": {
      "image/png": "[encoded data removed]",
      "text/plain": [
       "<Figure size 432x288 with 1 Axes>"
      ]
     },
     "metadata": {
      "needs_background": "light"
     },
     "output_type": "display_data"
    }
   ],
   "source": [
    "plt.hist(listings['minimum_nights_avg_ntm'])\n",
    "plt.show() "
   ]
  },
  {
   "cell_type": "markdown",
   "id": "d606eb64",
   "metadata": {},
   "source": [
    "**maximum_nights_avg_ntm**: ranges from 1 to 2147483647 days. Most of the listings have a maximum equal or less than 1125 days. Its distribution is highly skewed to the right."
   ]
  },
  {
   "cell_type": "code",
   "execution_count": 171,
   "id": "af78ff5e",
   "metadata": {},
   "outputs": [
    {
     "data": {
      "text/plain": [
       "2147483647.0"
      ]
     },
     "execution_count": 171,
     "metadata": {},
     "output_type": "execute_result"
    }
   ],
   "source": [
    "max(listings['maximum_nights_avg_ntm'])"
   ]
  },
  {
   "cell_type": "code",
   "execution_count": 172,
   "id": "0bbdec3f",
   "metadata": {},
   "outputs": [
    {
     "data": {
      "text/plain": [
       "1.0"
      ]
     },
     "execution_count": 172,
     "metadata": {},
     "output_type": "execute_result"
    }
   ],
   "source": [
    "min(listings['maximum_nights_avg_ntm'])"
   ]
  },
  {
   "cell_type": "code",
   "execution_count": 173,
   "id": "14abff22",
   "metadata": {},
   "outputs": [
    {
     "data": {
      "text/plain": [
       "count    1.707300e+04\n",
       "mean     1.708050e+06\n",
       "std      5.975215e+07\n",
       "min      1.000000e+00\n",
       "25%      3.650000e+02\n",
       "50%      1.125000e+03\n",
       "75%      1.125000e+03\n",
       "max      2.147484e+09\n",
       "Name: maximum_nights_avg_ntm, dtype: float64"
      ]
     },
     "execution_count": 173,
     "metadata": {},
     "output_type": "execute_result"
    }
   ],
   "source": [
    "listings['maximum_nights_avg_ntm'].describe()"
   ]
  },
  {
   "cell_type": "code",
   "execution_count": 174,
   "id": "5fbb3445",
   "metadata": {},
   "outputs": [
    {
     "data": {
      "image/png": "[encoded data removed]",
      "text/plain": [
       "<Figure size 432x288 with 1 Axes>"
      ]
     },
     "metadata": {
      "needs_background": "light"
     },
     "output_type": "display_data"
    }
   ],
   "source": [
    "plt.hist(listings['maximum_nights_avg_ntm'])\n",
    "plt.show() "
   ]
  },
  {
   "cell_type": "markdown",
   "id": "c624e32d",
   "metadata": {},
   "source": [
    "**calendar_updated**: emtpy column"
   ]
  },
  {
   "cell_type": "code",
   "execution_count": 176,
   "id": "05a02457",
   "metadata": {},
   "outputs": [
    {
     "data": {
      "text/plain": [
       "array([nan])"
      ]
     },
     "execution_count": 176,
     "metadata": {},
     "output_type": "execute_result"
    }
   ],
   "source": [
    "listings['calendar_updated'].unique()"
   ]
  },
  {
   "cell_type": "markdown",
   "id": "c2635977",
   "metadata": {},
   "source": [
    "**has_availability**: two levels: t and f. There are 17004 listings with availability in the next 365 days based on calendar, and 70 listings not."
   ]
  },
  {
   "cell_type": "code",
   "execution_count": 178,
   "id": "d2c53c9c",
   "metadata": {},
   "outputs": [
    {
     "data": {
      "text/plain": [
       "array(['t', 'f'], dtype=object)"
      ]
     },
     "execution_count": 178,
     "metadata": {},
     "output_type": "execute_result"
    }
   ],
   "source": [
    "listings['has_availability'].unique()"
   ]
  },
  {
   "cell_type": "code",
   "execution_count": 179,
   "id": "fa0a68e9",
   "metadata": {},
   "outputs": [
    {
     "data": {
      "text/plain": [
       "t    17004\n",
       "f       70\n",
       "Name: has_availability, dtype: int64"
      ]
     },
     "execution_count": 179,
     "metadata": {},
     "output_type": "execute_result"
    }
   ],
   "source": [
    "listings['has_availability'].value_counts()"
   ]
  },
  {
   "cell_type": "markdown",
   "id": "4e6f10e1",
   "metadata": {},
   "source": [
    "**availability_30**: ranges from 0 to 30 days. Most of the listings have around 30 days of availability in the next 30 days."
   ]
  },
  {
   "cell_type": "code",
   "execution_count": 180,
   "id": "a5aad971",
   "metadata": {},
   "outputs": [
    {
     "data": {
      "text/plain": [
       "30"
      ]
     },
     "execution_count": 180,
     "metadata": {},
     "output_type": "execute_result"
    }
   ],
   "source": [
    "max(listings['availability_30'])"
   ]
  },
  {
   "cell_type": "code",
   "execution_count": 181,
   "id": "a53c0af2",
   "metadata": {},
   "outputs": [
    {
     "data": {
      "text/plain": [
       "0"
      ]
     },
     "execution_count": 181,
     "metadata": {},
     "output_type": "execute_result"
    }
   ],
   "source": [
    "min(listings['availability_30'])"
   ]
  },
  {
   "cell_type": "code",
   "execution_count": 182,
   "id": "d58afa35",
   "metadata": {},
   "outputs": [
    {
     "data": {
      "text/plain": [
       "count    17074.000000\n",
       "mean        21.449807\n",
       "std         11.462251\n",
       "min          0.000000\n",
       "25%         13.000000\n",
       "50%         29.000000\n",
       "75%         30.000000\n",
       "max         30.000000\n",
       "Name: availability_30, dtype: float64"
      ]
     },
     "execution_count": 182,
     "metadata": {},
     "output_type": "execute_result"
    }
   ],
   "source": [
    "listings['availability_30'].describe()"
   ]
  },
  {
   "cell_type": "code",
   "execution_count": 183,
   "id": "6b22bb00",
   "metadata": {},
   "outputs": [
    {
     "data": {
      "image/png": "[encoded data removed]",
      "text/plain": [
       "<Figure size 432x288 with 1 Axes>"
      ]
     },
     "metadata": {
      "needs_background": "light"
     },
     "output_type": "display_data"
    }
   ],
   "source": [
    "plt.hist(listings['availability_30'])\n",
    "plt.show() "
   ]
  },
  {
   "cell_type": "markdown",
   "id": "2c957f67",
   "metadata": {},
   "source": [
    "**availability_60**: ranges from 0 to 60 days. Most of the distributions have around 60 days of availability in the next 60 days."
   ]
  },
  {
   "cell_type": "code",
   "execution_count": 184,
   "id": "4fdea73b",
   "metadata": {},
   "outputs": [
    {
     "data": {
      "text/plain": [
       "60"
      ]
     },
     "execution_count": 184,
     "metadata": {},
     "output_type": "execute_result"
    }
   ],
   "source": [
    "max(listings['availability_60'])"
   ]
  },
  {
   "cell_type": "code",
   "execution_count": 185,
   "id": "da5d6773",
   "metadata": {},
   "outputs": [
    {
     "data": {
      "text/plain": [
       "0"
      ]
     },
     "execution_count": 185,
     "metadata": {},
     "output_type": "execute_result"
    }
   ],
   "source": [
    "min(listings['availability_60'])"
   ]
  },
  {
   "cell_type": "code",
   "execution_count": 186,
   "id": "6d48a92e",
   "metadata": {},
   "outputs": [
    {
     "data": {
      "text/plain": [
       "count    17074.000000\n",
       "mean        46.016575\n",
       "std         20.917941\n",
       "min          0.000000\n",
       "25%         38.000000\n",
       "50%         59.000000\n",
       "75%         60.000000\n",
       "max         60.000000\n",
       "Name: availability_60, dtype: float64"
      ]
     },
     "execution_count": 186,
     "metadata": {},
     "output_type": "execute_result"
    }
   ],
   "source": [
    "listings['availability_60'].describe()"
   ]
  },
  {
   "cell_type": "code",
   "execution_count": 187,
   "id": "a1fe1bb9",
   "metadata": {},
   "outputs": [
    {
     "data": {
      "image/png": "[encoded data removed]",
      "text/plain": [
       "<Figure size 432x288 with 1 Axes>"
      ]
     },
     "metadata": {
      "needs_background": "light"
     },
     "output_type": "display_data"
    }
   ],
   "source": [
    "plt.hist(listings['availability_60'])\n",
    "plt.show() "
   ]
  },
  {
   "cell_type": "markdown",
   "id": "840e20aa",
   "metadata": {},
   "source": [
    "**availability_90**: ranges from 0 to 90 days. Most of the distributions have around 90 days of availability in the next 90 days."
   ]
  },
  {
   "cell_type": "code",
   "execution_count": 188,
   "id": "fa555a11",
   "metadata": {},
   "outputs": [
    {
     "data": {
      "text/plain": [
       "90"
      ]
     },
     "execution_count": 188,
     "metadata": {},
     "output_type": "execute_result"
    }
   ],
   "source": [
    "max(listings['availability_90'])"
   ]
  },
  {
   "cell_type": "code",
   "execution_count": 189,
   "id": "543faa1d",
   "metadata": {},
   "outputs": [
    {
     "data": {
      "text/plain": [
       "0"
      ]
     },
     "execution_count": 189,
     "metadata": {},
     "output_type": "execute_result"
    }
   ],
   "source": [
    "min(listings['availability_90'])"
   ]
  },
  {
   "cell_type": "code",
   "execution_count": 190,
   "id": "22322095",
   "metadata": {},
   "outputs": [
    {
     "data": {
      "text/plain": [
       "count    17074.000000\n",
       "mean        72.007731\n",
       "std         29.163058\n",
       "min          0.000000\n",
       "25%         66.000000\n",
       "50%         89.000000\n",
       "75%         90.000000\n",
       "max         90.000000\n",
       "Name: availability_90, dtype: float64"
      ]
     },
     "execution_count": 190,
     "metadata": {},
     "output_type": "execute_result"
    }
   ],
   "source": [
    "listings['availability_90'].describe()"
   ]
  },
  {
   "cell_type": "code",
   "execution_count": 191,
   "id": "82bb3321",
   "metadata": {},
   "outputs": [
    {
     "data": {
      "image/png": "[encoded data removed]",
      "text/plain": [
       "<Figure size 432x288 with 1 Axes>"
      ]
     },
     "metadata": {
      "needs_background": "light"
     },
     "output_type": "display_data"
    }
   ],
   "source": [
    "plt.hist(listings['availability_90'])\n",
    "plt.show() "
   ]
  },
  {
   "cell_type": "markdown",
   "id": "44f3a789",
   "metadata": {},
   "source": [
    "**availability_365**: ranges from 0 to 365 days. Most of the distributions have around 365 days of availability in the next 365 days, with few around 0 days, 100 days and 150 days."
   ]
  },
  {
   "cell_type": "code",
   "execution_count": 192,
   "id": "76cb3b12",
   "metadata": {},
   "outputs": [
    {
     "data": {
      "text/plain": [
       "365"
      ]
     },
     "execution_count": 192,
     "metadata": {},
     "output_type": "execute_result"
    }
   ],
   "source": [
    "max(listings['availability_365'])"
   ]
  },
  {
   "cell_type": "code",
   "execution_count": 193,
   "id": "88396b20",
   "metadata": {},
   "outputs": [
    {
     "data": {
      "text/plain": [
       "0"
      ]
     },
     "execution_count": 193,
     "metadata": {},
     "output_type": "execute_result"
    }
   ],
   "source": [
    "min(listings['availability_365'])"
   ]
  },
  {
   "cell_type": "code",
   "execution_count": 194,
   "id": "18ed1e13",
   "metadata": {},
   "outputs": [
    {
     "data": {
      "text/plain": [
       "count    17074.000000\n",
       "mean       253.558451\n",
       "std        123.933499\n",
       "min          0.000000\n",
       "25%        161.000000\n",
       "50%        328.000000\n",
       "75%        365.000000\n",
       "max        365.000000\n",
       "Name: availability_365, dtype: float64"
      ]
     },
     "execution_count": 194,
     "metadata": {},
     "output_type": "execute_result"
    }
   ],
   "source": [
    "listings['availability_365'].describe()"
   ]
  },
  {
   "cell_type": "code",
   "execution_count": 195,
   "id": "aa505235",
   "metadata": {},
   "outputs": [
    {
     "data": {
      "image/png": "[encoded data removed]",
      "text/plain": [
       "<Figure size 432x288 with 1 Axes>"
      ]
     },
     "metadata": {
      "needs_background": "light"
     },
     "output_type": "display_data"
    }
   ],
   "source": [
    "plt.hist(listings['availability_365'])\n",
    "plt.show() "
   ]
  },
  {
   "cell_type": "markdown",
   "id": "a69939cf",
   "metadata": {},
   "source": [
    "**calendar_last_scraped**: there are two days that the airbnb data was scraped: 2022/06/20 and 2022/06/21."
   ]
  },
  {
   "cell_type": "code",
   "execution_count": 197,
   "id": "217284d9",
   "metadata": {},
   "outputs": [
    {
     "data": {
      "text/plain": [
       "array(['2022-06-20', '2022-06-21'], dtype=object)"
      ]
     },
     "execution_count": 197,
     "metadata": {},
     "output_type": "execute_result"
    }
   ],
   "source": [
    "listings['calendar_last_scraped'].unique()"
   ]
  },
  {
   "cell_type": "code",
   "execution_count": 198,
   "id": "e5884e89",
   "metadata": {},
   "outputs": [
    {
     "data": {
      "text/plain": [
       "2022-06-21    14753\n",
       "2022-06-20     2321\n",
       "Name: calendar_last_scraped, dtype: int64"
      ]
     },
     "execution_count": 198,
     "metadata": {},
     "output_type": "execute_result"
    }
   ],
   "source": [
    "listings['calendar_last_scraped'].value_counts()"
   ]
  },
  {
   "cell_type": "markdown",
   "id": "e1537c44",
   "metadata": {},
   "source": [
    "**number_of_reviews**: ranges from 0 to 1119 reviews. Most of the listings have less than 10 reviews, but few can up have to 1119 reviews. The distribution is highly skewed to the right."
   ]
  },
  {
   "cell_type": "code",
   "execution_count": 199,
   "id": "f105e16a",
   "metadata": {},
   "outputs": [
    {
     "data": {
      "text/plain": [
       "1119"
      ]
     },
     "execution_count": 199,
     "metadata": {},
     "output_type": "execute_result"
    }
   ],
   "source": [
    "max(listings['number_of_reviews'])"
   ]
  },
  {
   "cell_type": "code",
   "execution_count": 200,
   "id": "85f9ec38",
   "metadata": {},
   "outputs": [
    {
     "data": {
      "text/plain": [
       "0"
      ]
     },
     "execution_count": 200,
     "metadata": {},
     "output_type": "execute_result"
    }
   ],
   "source": [
    "min(listings['number_of_reviews'])"
   ]
  },
  {
   "cell_type": "code",
   "execution_count": 201,
   "id": "f60e046f",
   "metadata": {},
   "outputs": [
    {
     "data": {
      "text/plain": [
       "count    17074.000000\n",
       "mean        14.445590\n",
       "std         37.094589\n",
       "min          0.000000\n",
       "25%          0.000000\n",
       "50%          1.000000\n",
       "75%         10.000000\n",
       "max       1119.000000\n",
       "Name: number_of_reviews, dtype: float64"
      ]
     },
     "execution_count": 201,
     "metadata": {},
     "output_type": "execute_result"
    }
   ],
   "source": [
    "listings['number_of_reviews'].describe()"
   ]
  },
  {
   "cell_type": "code",
   "execution_count": 202,
   "id": "c9d34137",
   "metadata": {},
   "outputs": [
    {
     "data": {
      "image/png": "[encoded data removed]",
      "text/plain": [
       "<Figure size 432x288 with 1 Axes>"
      ]
     },
     "metadata": {
      "needs_background": "light"
     },
     "output_type": "display_data"
    }
   ],
   "source": [
    "plt.hist(listings['number_of_reviews'])\n",
    "plt.show() "
   ]
  },
  {
   "cell_type": "markdown",
   "id": "a0b3c6f3",
   "metadata": {},
   "source": [
    "**number_of_reviews_ltm**: ranges from 0 to 112 reviews. Most of the listings have 0 reviews in the last 12 months, but few can up have to 112 reviews. The distribution is highly skewed to the right."
   ]
  },
  {
   "cell_type": "code",
   "execution_count": 203,
   "id": "f9bc0fdf",
   "metadata": {},
   "outputs": [
    {
     "data": {
      "text/plain": [
       "112"
      ]
     },
     "execution_count": 203,
     "metadata": {},
     "output_type": "execute_result"
    }
   ],
   "source": [
    "max(listings['number_of_reviews_ltm'])"
   ]
  },
  {
   "cell_type": "code",
   "execution_count": 204,
   "id": "c8c6aa65",
   "metadata": {},
   "outputs": [
    {
     "data": {
      "text/plain": [
       "0"
      ]
     },
     "execution_count": 204,
     "metadata": {},
     "output_type": "execute_result"
    }
   ],
   "source": [
    "min(listings['number_of_reviews_ltm'])"
   ]
  },
  {
   "cell_type": "code",
   "execution_count": 205,
   "id": "6db4e131",
   "metadata": {},
   "outputs": [
    {
     "data": {
      "text/plain": [
       "count    17074.000000\n",
       "mean         1.187771\n",
       "std          3.898571\n",
       "min          0.000000\n",
       "25%          0.000000\n",
       "50%          0.000000\n",
       "75%          0.000000\n",
       "max        112.000000\n",
       "Name: number_of_reviews_ltm, dtype: float64"
      ]
     },
     "execution_count": 205,
     "metadata": {},
     "output_type": "execute_result"
    }
   ],
   "source": [
    "listings['number_of_reviews_ltm'].describe()"
   ]
  },
  {
   "cell_type": "code",
   "execution_count": 206,
   "id": "a393664c",
   "metadata": {},
   "outputs": [
    {
     "data": {
      "image/png": "[encoded data removed]",
      "text/plain": [
       "<Figure size 432x288 with 1 Axes>"
      ]
     },
     "metadata": {
      "needs_background": "light"
     },
     "output_type": "display_data"
    }
   ],
   "source": [
    "plt.hist(listings['number_of_reviews_ltm'])\n",
    "plt.show() "
   ]
  },
  {
   "cell_type": "markdown",
   "id": "644766c4",
   "metadata": {},
   "source": [
    "**number_of_reviews_l30d**: ranges from 0 to 23 reviews. Most of the listings have 0 reviews in the last 30 days, but few can up have to 23 reviews. The distribution is highly skewed to the right."
   ]
  },
  {
   "cell_type": "code",
   "execution_count": 207,
   "id": "9920c515",
   "metadata": {},
   "outputs": [
    {
     "data": {
      "text/plain": [
       "23"
      ]
     },
     "execution_count": 207,
     "metadata": {},
     "output_type": "execute_result"
    }
   ],
   "source": [
    "max(listings['number_of_reviews_l30d'])"
   ]
  },
  {
   "cell_type": "code",
   "execution_count": 208,
   "id": "576f4701",
   "metadata": {},
   "outputs": [
    {
     "data": {
      "text/plain": [
       "0"
      ]
     },
     "execution_count": 208,
     "metadata": {},
     "output_type": "execute_result"
    }
   ],
   "source": [
    "min(listings['number_of_reviews_l30d'])"
   ]
  },
  {
   "cell_type": "code",
   "execution_count": 209,
   "id": "b3b27a4c",
   "metadata": {},
   "outputs": [
    {
     "data": {
      "text/plain": [
       "count    17074.000000\n",
       "mean         0.199367\n",
       "std          0.815325\n",
       "min          0.000000\n",
       "25%          0.000000\n",
       "50%          0.000000\n",
       "75%          0.000000\n",
       "max         23.000000\n",
       "Name: number_of_reviews_l30d, dtype: float64"
      ]
     },
     "execution_count": 209,
     "metadata": {},
     "output_type": "execute_result"
    }
   ],
   "source": [
    "listings['number_of_reviews_l30d'].describe()"
   ]
  },
  {
   "cell_type": "code",
   "execution_count": 210,
   "id": "afa2ed98",
   "metadata": {},
   "outputs": [
    {
     "data": {
      "image/png": "[encoded data removed]",
      "text/plain": [
       "<Figure size 432x288 with 1 Axes>"
      ]
     },
     "metadata": {
      "needs_background": "light"
     },
     "output_type": "display_data"
    }
   ],
   "source": [
    "plt.hist(listings['number_of_reviews_l30d'])\n",
    "plt.show() "
   ]
  },
  {
   "cell_type": "markdown",
   "id": "76e5f085",
   "metadata": {},
   "source": [
    "**first_review**: from 2011/02/09 to 2022/06/21."
   ]
  },
  {
   "cell_type": "code",
   "execution_count": 214,
   "id": "f85d4aa0",
   "metadata": {},
   "outputs": [
    {
     "data": {
      "text/plain": [
       "2    2019-11-15\n",
       "3    2019-06-01\n",
       "6    2012-04-07\n",
       "9    2016-07-13\n",
       "15   2014-02-03\n",
       "Name: first_review, dtype: datetime64[ns]"
      ]
     },
     "execution_count": 214,
     "metadata": {},
     "output_type": "execute_result"
    }
   ],
   "source": [
    "# convert date to datetime object\n",
    "first_review = pd.to_datetime(listings['first_review'].dropna())\n",
    "first_review.head()"
   ]
  },
  {
   "cell_type": "code",
   "execution_count": 218,
   "id": "dbf025e1",
   "metadata": {},
   "outputs": [
    {
     "data": {
      "text/plain": [
       "(10012,)"
      ]
     },
     "execution_count": 218,
     "metadata": {},
     "output_type": "execute_result"
    }
   ],
   "source": [
    "first_review.shape"
   ]
  },
  {
   "cell_type": "code",
   "execution_count": 215,
   "id": "c164a145",
   "metadata": {},
   "outputs": [
    {
     "data": {
      "text/plain": [
       "Timestamp('2022-06-21 00:00:00')"
      ]
     },
     "execution_count": 215,
     "metadata": {},
     "output_type": "execute_result"
    }
   ],
   "source": [
    "max(first_review)"
   ]
  },
  {
   "cell_type": "code",
   "execution_count": 216,
   "id": "3d6ecd29",
   "metadata": {},
   "outputs": [
    {
     "data": {
      "text/plain": [
       "Timestamp('2011-02-09 00:00:00')"
      ]
     },
     "execution_count": 216,
     "metadata": {},
     "output_type": "execute_result"
    }
   ],
   "source": [
    "min(first_review)"
   ]
  },
  {
   "cell_type": "markdown",
   "id": "1d8d06ee",
   "metadata": {},
   "source": [
    "**last_review**: from 2012/12/15 to 2022/06/21. There are 1873 listings with same first review and last review date."
   ]
  },
  {
   "cell_type": "code",
   "execution_count": 219,
   "id": "f28d353a",
   "metadata": {},
   "outputs": [
    {
     "data": {
      "text/plain": [
       "2    2020-03-05\n",
       "3    2019-12-07\n",
       "6    2020-01-06\n",
       "9    2022-04-01\n",
       "15   2014-02-03\n",
       "Name: last_review, dtype: datetime64[ns]"
      ]
     },
     "execution_count": 219,
     "metadata": {},
     "output_type": "execute_result"
    }
   ],
   "source": [
    "# convert date to datetime object\n",
    "last_review = pd.to_datetime(listings['last_review'].dropna())\n",
    "last_review.head()"
   ]
  },
  {
   "cell_type": "code",
   "execution_count": 220,
   "id": "3ca3e988",
   "metadata": {},
   "outputs": [
    {
     "data": {
      "text/plain": [
       "(10012,)"
      ]
     },
     "execution_count": 220,
     "metadata": {},
     "output_type": "execute_result"
    }
   ],
   "source": [
    "last_review.shape"
   ]
  },
  {
   "cell_type": "code",
   "execution_count": 221,
   "id": "c3320be5",
   "metadata": {},
   "outputs": [
    {
     "data": {
      "text/plain": [
       "Timestamp('2022-06-21 00:00:00')"
      ]
     },
     "execution_count": 221,
     "metadata": {},
     "output_type": "execute_result"
    }
   ],
   "source": [
    "max(last_review)"
   ]
  },
  {
   "cell_type": "code",
   "execution_count": 222,
   "id": "64ed67db",
   "metadata": {},
   "outputs": [
    {
     "data": {
      "text/plain": [
       "Timestamp('2012-12-15 00:00:00')"
      ]
     },
     "execution_count": 222,
     "metadata": {},
     "output_type": "execute_result"
    }
   ],
   "source": [
    "min(last_review)"
   ]
  },
  {
   "cell_type": "code",
   "execution_count": 223,
   "id": "6b1abdf3",
   "metadata": {},
   "outputs": [
    {
     "data": {
      "text/plain": [
       "1873"
      ]
     },
     "execution_count": 223,
     "metadata": {},
     "output_type": "execute_result"
    }
   ],
   "source": [
    "same_review = last_review == first_review\n",
    "sum(same_review)"
   ]
  },
  {
   "cell_type": "markdown",
   "id": "86beb0ed",
   "metadata": {},
   "source": [
    "**review_scores_rating**: ranges from 0 to 5. Most reviews have 4 and above. The distribution is highly skewed to the left."
   ]
  },
  {
   "cell_type": "code",
   "execution_count": 233,
   "id": "ae41c4c7",
   "metadata": {},
   "outputs": [
    {
     "data": {
      "text/plain": [
       "(10012,)"
      ]
     },
     "execution_count": 233,
     "metadata": {},
     "output_type": "execute_result"
    }
   ],
   "source": [
    "review_scores_rating = listings['review_scores_rating'].dropna()\n",
    "review_scores_rating.shape"
   ]
  },
  {
   "cell_type": "code",
   "execution_count": 227,
   "id": "6a1ec0a2",
   "metadata": {},
   "outputs": [
    {
     "data": {
      "text/plain": [
       "5.0"
      ]
     },
     "execution_count": 227,
     "metadata": {},
     "output_type": "execute_result"
    }
   ],
   "source": [
    "max(review_scores_rating)"
   ]
  },
  {
   "cell_type": "code",
   "execution_count": 228,
   "id": "0533b666",
   "metadata": {},
   "outputs": [
    {
     "data": {
      "text/plain": [
       "0.0"
      ]
     },
     "execution_count": 228,
     "metadata": {},
     "output_type": "execute_result"
    }
   ],
   "source": [
    "min(review_scores_rating)"
   ]
  },
  {
   "cell_type": "code",
   "execution_count": 229,
   "id": "718c5c7b",
   "metadata": {},
   "outputs": [
    {
     "data": {
      "text/plain": [
       "count    10012.000000\n",
       "mean         4.541204\n",
       "std          0.876216\n",
       "min          0.000000\n",
       "25%          4.500000\n",
       "50%          4.800000\n",
       "75%          5.000000\n",
       "max          5.000000\n",
       "Name: review_scores_rating, dtype: float64"
      ]
     },
     "execution_count": 229,
     "metadata": {},
     "output_type": "execute_result"
    }
   ],
   "source": [
    "review_scores_rating.describe()"
   ]
  },
  {
   "cell_type": "code",
   "execution_count": 230,
   "id": "98d14ee2",
   "metadata": {},
   "outputs": [
    {
     "data": {
      "image/png": "[encoded data removed]",
      "text/plain": [
       "<Figure size 432x288 with 1 Axes>"
      ]
     },
     "metadata": {
      "needs_background": "light"
     },
     "output_type": "display_data"
    }
   ],
   "source": [
    "plt.hist(review_scores_rating)\n",
    "plt.show() "
   ]
  },
  {
   "cell_type": "markdown",
   "id": "7d96bb09",
   "metadata": {},
   "source": [
    "**review_scores_accuracy**: ranges from 0 to 5. Most reviews have 4 and above for accuracy. Only 9786 listings out of the 10012 listings that have review have review score for accuracy. The distribution is highly skewed to the left."
   ]
  },
  {
   "cell_type": "code",
   "execution_count": 237,
   "id": "5f897fb5",
   "metadata": {},
   "outputs": [
    {
     "data": {
      "text/plain": [
       "(9786,)"
      ]
     },
     "execution_count": 237,
     "metadata": {},
     "output_type": "execute_result"
    }
   ],
   "source": [
    "review_scores_accuracy = listings['review_scores_accuracy'].dropna()\n",
    "review_scores_accuracy.shape"
   ]
  },
  {
   "cell_type": "code",
   "execution_count": 232,
   "id": "14d6bb84",
   "metadata": {},
   "outputs": [
    {
     "data": {
      "text/plain": [
       "5.0"
      ]
     },
     "execution_count": 232,
     "metadata": {},
     "output_type": "execute_result"
    }
   ],
   "source": [
    "max(review_scores_accuracy)"
   ]
  },
  {
   "cell_type": "code",
   "execution_count": 234,
   "id": "5fcdf4af",
   "metadata": {},
   "outputs": [
    {
     "data": {
      "text/plain": [
       "1.0"
      ]
     },
     "execution_count": 234,
     "metadata": {},
     "output_type": "execute_result"
    }
   ],
   "source": [
    "min(review_scores_accuracy)"
   ]
  },
  {
   "cell_type": "code",
   "execution_count": 235,
   "id": "ddc875f8",
   "metadata": {},
   "outputs": [
    {
     "data": {
      "text/plain": [
       "count    9786.000000\n",
       "mean        4.709730\n",
       "std         0.534413\n",
       "min         1.000000\n",
       "25%         4.670000\n",
       "50%         4.880000\n",
       "75%         5.000000\n",
       "max         5.000000\n",
       "Name: review_scores_accuracy, dtype: float64"
      ]
     },
     "execution_count": 235,
     "metadata": {},
     "output_type": "execute_result"
    }
   ],
   "source": [
    "review_scores_accuracy.describe()"
   ]
  },
  {
   "cell_type": "code",
   "execution_count": 236,
   "id": "032f8ca9",
   "metadata": {},
   "outputs": [
    {
     "data": {
      "image/png": "[encoded data removed]",
      "text/plain": [
       "<Figure size 432x288 with 1 Axes>"
      ]
     },
     "metadata": {
      "needs_background": "light"
     },
     "output_type": "display_data"
    }
   ],
   "source": [
    "plt.hist(review_scores_accuracy)\n",
    "plt.show() "
   ]
  },
  {
   "cell_type": "markdown",
   "id": "83170ca9",
   "metadata": {},
   "source": [
    "**review_scores_cleanliness**: ranges from 0 to 5. Most reviews have 4 and above for cleanliness. Only 9786 listings out of the 10012 listings that have review have review score for cleanliness. The distribution is highly skewed to the left."
   ]
  },
  {
   "cell_type": "code",
   "execution_count": 238,
   "id": "8aa56914",
   "metadata": {},
   "outputs": [
    {
     "data": {
      "text/plain": [
       "(9786,)"
      ]
     },
     "execution_count": 238,
     "metadata": {},
     "output_type": "execute_result"
    }
   ],
   "source": [
    "review_scores_cleanliness = listings['review_scores_cleanliness'].dropna()\n",
    "review_scores_cleanliness.shape"
   ]
  },
  {
   "cell_type": "code",
   "execution_count": 239,
   "id": "f90241f7",
   "metadata": {},
   "outputs": [
    {
     "data": {
      "text/plain": [
       "5.0"
      ]
     },
     "execution_count": 239,
     "metadata": {},
     "output_type": "execute_result"
    }
   ],
   "source": [
    "max(review_scores_cleanliness)"
   ]
  },
  {
   "cell_type": "code",
   "execution_count": 240,
   "id": "9da808f2",
   "metadata": {},
   "outputs": [
    {
     "data": {
      "text/plain": [
       "0.0"
      ]
     },
     "execution_count": 240,
     "metadata": {},
     "output_type": "execute_result"
    }
   ],
   "source": [
    "min(review_scores_cleanliness)"
   ]
  },
  {
   "cell_type": "code",
   "execution_count": 241,
   "id": "f542e314",
   "metadata": {},
   "outputs": [
    {
     "data": {
      "text/plain": [
       "count    9786.000000\n",
       "mean        4.675581\n",
       "std         0.530950\n",
       "min         0.000000\n",
       "25%         4.600000\n",
       "50%         4.840000\n",
       "75%         5.000000\n",
       "max         5.000000\n",
       "Name: review_scores_cleanliness, dtype: float64"
      ]
     },
     "execution_count": 241,
     "metadata": {},
     "output_type": "execute_result"
    }
   ],
   "source": [
    "review_scores_cleanliness.describe()"
   ]
  },
  {
   "cell_type": "code",
   "execution_count": 242,
   "id": "aeeabeb0",
   "metadata": {},
   "outputs": [
    {
     "data": {
      "image/png": "[encoded data removed]",
      "text/plain": [
       "<Figure size 432x288 with 1 Axes>"
      ]
     },
     "metadata": {
      "needs_background": "light"
     },
     "output_type": "display_data"
    }
   ],
   "source": [
    "plt.hist(review_scores_cleanliness)\n",
    "plt.show() "
   ]
  },
  {
   "cell_type": "markdown",
   "id": "188036ea",
   "metadata": {},
   "source": [
    "**review_scores_checkin**: ranges from 0 to 5. Most reviews have 4 and above for checkin. Only 9780 listings out of the 10012 listings that have review have review score for checkin. The distribution is highly skewed to the left."
   ]
  },
  {
   "cell_type": "code",
   "execution_count": 243,
   "id": "714cc758",
   "metadata": {},
   "outputs": [
    {
     "data": {
      "text/plain": [
       "(9780,)"
      ]
     },
     "execution_count": 243,
     "metadata": {},
     "output_type": "execute_result"
    }
   ],
   "source": [
    "review_scores_checkin = listings['review_scores_checkin'].dropna()\n",
    "review_scores_checkin.shape"
   ]
  },
  {
   "cell_type": "code",
   "execution_count": 244,
   "id": "2dd4b38d",
   "metadata": {},
   "outputs": [
    {
     "data": {
      "text/plain": [
       "5.0"
      ]
     },
     "execution_count": 244,
     "metadata": {},
     "output_type": "execute_result"
    }
   ],
   "source": [
    "max(review_scores_checkin)"
   ]
  },
  {
   "cell_type": "code",
   "execution_count": 245,
   "id": "cc525597",
   "metadata": {},
   "outputs": [
    {
     "data": {
      "text/plain": [
       "5.0"
      ]
     },
     "execution_count": 245,
     "metadata": {},
     "output_type": "execute_result"
    }
   ],
   "source": [
    "max(review_scores_checkin)"
   ]
  },
  {
   "cell_type": "code",
   "execution_count": 246,
   "id": "c5aeedfd",
   "metadata": {},
   "outputs": [
    {
     "data": {
      "text/plain": [
       "count    9780.000000\n",
       "mean        4.753142\n",
       "std         0.514311\n",
       "min         0.000000\n",
       "25%         4.730000\n",
       "50%         4.920000\n",
       "75%         5.000000\n",
       "max         5.000000\n",
       "Name: review_scores_checkin, dtype: float64"
      ]
     },
     "execution_count": 246,
     "metadata": {},
     "output_type": "execute_result"
    }
   ],
   "source": [
    "review_scores_checkin.describe()"
   ]
  },
  {
   "cell_type": "code",
   "execution_count": 247,
   "id": "95768517",
   "metadata": {},
   "outputs": [
    {
     "data": {
      "image/png": "[encoded data removed]",
      "text/plain": [
       "<Figure size 432x288 with 1 Axes>"
      ]
     },
     "metadata": {
      "needs_background": "light"
     },
     "output_type": "display_data"
    }
   ],
   "source": [
    "plt.hist(review_scores_checkin)\n",
    "plt.show() "
   ]
  },
  {
   "cell_type": "markdown",
   "id": "2015d058",
   "metadata": {},
   "source": [
    "**review_scores_communication**: ranges from 0 to 5. Most reviews have 4 and above for communication. Only 9785 listings out of the 10012 listings that have review have review score for communication. The distribution is highly skewed to the left."
   ]
  },
  {
   "cell_type": "code",
   "execution_count": 248,
   "id": "aaa2f0bf",
   "metadata": {},
   "outputs": [
    {
     "data": {
      "text/plain": [
       "(9785,)"
      ]
     },
     "execution_count": 248,
     "metadata": {},
     "output_type": "execute_result"
    }
   ],
   "source": [
    "review_scores_communication = listings['review_scores_communication'].dropna()\n",
    "review_scores_communication.shape"
   ]
  },
  {
   "cell_type": "code",
   "execution_count": 249,
   "id": "4119fec9",
   "metadata": {},
   "outputs": [
    {
     "data": {
      "text/plain": [
       "5.0"
      ]
     },
     "execution_count": 249,
     "metadata": {},
     "output_type": "execute_result"
    }
   ],
   "source": [
    "max(review_scores_communication)"
   ]
  },
  {
   "cell_type": "code",
   "execution_count": 254,
   "id": "b75865fc",
   "metadata": {},
   "outputs": [
    {
     "data": {
      "text/plain": [
       "0.0"
      ]
     },
     "execution_count": 254,
     "metadata": {},
     "output_type": "execute_result"
    }
   ],
   "source": [
    "min(review_scores_communication)"
   ]
  },
  {
   "cell_type": "code",
   "execution_count": 251,
   "id": "2a6413e7",
   "metadata": {},
   "outputs": [
    {
     "data": {
      "text/plain": [
       "count    9785.000000\n",
       "mean        4.763751\n",
       "std         0.507348\n",
       "min         0.000000\n",
       "25%         4.750000\n",
       "50%         4.940000\n",
       "75%         5.000000\n",
       "max         5.000000\n",
       "Name: review_scores_communication, dtype: float64"
      ]
     },
     "execution_count": 251,
     "metadata": {},
     "output_type": "execute_result"
    }
   ],
   "source": [
    "review_scores_communication.describe()"
   ]
  },
  {
   "cell_type": "code",
   "execution_count": 252,
   "id": "8fff71bf",
   "metadata": {},
   "outputs": [
    {
     "data": {
      "image/png": "[encoded data removed]",
      "text/plain": [
       "<Figure size 432x288 with 1 Axes>"
      ]
     },
     "metadata": {
      "needs_background": "light"
     },
     "output_type": "display_data"
    }
   ],
   "source": [
    "plt.hist(review_scores_communication)\n",
    "plt.show() "
   ]
  },
  {
   "cell_type": "markdown",
   "id": "437dfafa",
   "metadata": {},
   "source": [
    "**review_scores_location**: ranges from 0 to 5. Most reviews have 4 and above for location. Only 9779 listings out of the 10012 listings that have review have review score for location. The distribution is highly skewed to the left."
   ]
  },
  {
   "cell_type": "code",
   "execution_count": 253,
   "id": "d9db3998",
   "metadata": {},
   "outputs": [
    {
     "data": {
      "text/plain": [
       "(9779,)"
      ]
     },
     "execution_count": 253,
     "metadata": {},
     "output_type": "execute_result"
    }
   ],
   "source": [
    "review_scores_location = listings['review_scores_location'].dropna()\n",
    "review_scores_location.shape"
   ]
  },
  {
   "cell_type": "code",
   "execution_count": 255,
   "id": "a1b90f91",
   "metadata": {},
   "outputs": [
    {
     "data": {
      "text/plain": [
       "5.0"
      ]
     },
     "execution_count": 255,
     "metadata": {},
     "output_type": "execute_result"
    }
   ],
   "source": [
    "max(review_scores_location)"
   ]
  },
  {
   "cell_type": "code",
   "execution_count": 257,
   "id": "e3259cbf",
   "metadata": {},
   "outputs": [
    {
     "data": {
      "text/plain": [
       "0.0"
      ]
     },
     "execution_count": 257,
     "metadata": {},
     "output_type": "execute_result"
    }
   ],
   "source": [
    "min(review_scores_location)"
   ]
  },
  {
   "cell_type": "code",
   "execution_count": 258,
   "id": "7fcd8bd5",
   "metadata": {},
   "outputs": [
    {
     "data": {
      "text/plain": [
       "count    9779.000000\n",
       "mean        4.599265\n",
       "std         0.538672\n",
       "min         0.000000\n",
       "25%         4.480000\n",
       "50%         4.750000\n",
       "75%         5.000000\n",
       "max         5.000000\n",
       "Name: review_scores_location, dtype: float64"
      ]
     },
     "execution_count": 258,
     "metadata": {},
     "output_type": "execute_result"
    }
   ],
   "source": [
    "review_scores_location.describe()"
   ]
  },
  {
   "cell_type": "code",
   "execution_count": 259,
   "id": "f4578f58",
   "metadata": {},
   "outputs": [
    {
     "data": {
      "image/png": "[encoded data removed]",
      "text/plain": [
       "<Figure size 432x288 with 1 Axes>"
      ]
     },
     "metadata": {
      "needs_background": "light"
     },
     "output_type": "display_data"
    }
   ],
   "source": [
    "plt.hist(review_scores_location)\n",
    "plt.show() "
   ]
  },
  {
   "cell_type": "markdown",
   "id": "ca78ee9a",
   "metadata": {},
   "source": [
    "**review_scores_value**: ranges from 0 to 5. Most reviews have 4 and above for value. Only 9778 listings out of the 10012 listings that have review have review score for value. The distribution is highly skewed to the left."
   ]
  },
  {
   "cell_type": "code",
   "execution_count": 260,
   "id": "87ef5284",
   "metadata": {},
   "outputs": [
    {
     "data": {
      "text/plain": [
       "(9778,)"
      ]
     },
     "execution_count": 260,
     "metadata": {},
     "output_type": "execute_result"
    }
   ],
   "source": [
    "review_scores_value = listings['review_scores_value'].dropna()\n",
    "review_scores_value.shape"
   ]
  },
  {
   "cell_type": "code",
   "execution_count": 261,
   "id": "78fc7465",
   "metadata": {},
   "outputs": [
    {
     "data": {
      "text/plain": [
       "5.0"
      ]
     },
     "execution_count": 261,
     "metadata": {},
     "output_type": "execute_result"
    }
   ],
   "source": [
    "max(review_scores_value)"
   ]
  },
  {
   "cell_type": "code",
   "execution_count": 262,
   "id": "5b6e8500",
   "metadata": {},
   "outputs": [
    {
     "data": {
      "text/plain": [
       "0.0"
      ]
     },
     "execution_count": 262,
     "metadata": {},
     "output_type": "execute_result"
    }
   ],
   "source": [
    "min(review_scores_value)"
   ]
  },
  {
   "cell_type": "code",
   "execution_count": 263,
   "id": "bf394d42",
   "metadata": {},
   "outputs": [
    {
     "data": {
      "text/plain": [
       "count    9778.000000\n",
       "mean        4.640124\n",
       "std         0.541973\n",
       "min         0.000000\n",
       "25%         4.550000\n",
       "50%         4.780000\n",
       "75%         5.000000\n",
       "max         5.000000\n",
       "Name: review_scores_value, dtype: float64"
      ]
     },
     "execution_count": 263,
     "metadata": {},
     "output_type": "execute_result"
    }
   ],
   "source": [
    "review_scores_value.describe()"
   ]
  },
  {
   "cell_type": "code",
   "execution_count": 264,
   "id": "921a9d23",
   "metadata": {},
   "outputs": [
    {
     "data": {
      "image/png": "[encoded data removed]",
      "text/plain": [
       "<Figure size 432x288 with 1 Axes>"
      ]
     },
     "metadata": {
      "needs_background": "light"
     },
     "output_type": "display_data"
    }
   ],
   "source": [
    "plt.hist(review_scores_value)\n",
    "plt.show() "
   ]
  },
  {
   "cell_type": "markdown",
   "id": "34f1cf42",
   "metadata": {},
   "source": [
    "**license**: empty column with no data"
   ]
  },
  {
   "cell_type": "code",
   "execution_count": 265,
   "id": "5a2389f0",
   "metadata": {},
   "outputs": [
    {
     "data": {
      "text/plain": [
       "array([nan])"
      ]
     },
     "execution_count": 265,
     "metadata": {},
     "output_type": "execute_result"
    }
   ],
   "source": [
    "listings['license'].unique()"
   ]
  },
  {
   "cell_type": "markdown",
   "id": "943d5014",
   "metadata": {},
   "source": [
    "**instant_bookable**: two levels: t and f. 11376 listings are instant bookable while 5698 listings are not."
   ]
  },
  {
   "cell_type": "code",
   "execution_count": 267,
   "id": "5b849be4",
   "metadata": {},
   "outputs": [
    {
     "data": {
      "text/plain": [
       "array(['t', 'f'], dtype=object)"
      ]
     },
     "execution_count": 267,
     "metadata": {},
     "output_type": "execute_result"
    }
   ],
   "source": [
    "listings['instant_bookable'].unique()"
   ]
  },
  {
   "cell_type": "code",
   "execution_count": 268,
   "id": "10032242",
   "metadata": {},
   "outputs": [
    {
     "data": {
      "text/plain": [
       "t    11376\n",
       "f     5698\n",
       "Name: instant_bookable, dtype: int64"
      ]
     },
     "execution_count": 268,
     "metadata": {},
     "output_type": "execute_result"
    }
   ],
   "source": [
    "listings['instant_bookable'].value_counts()"
   ]
  },
  {
   "cell_type": "markdown",
   "id": "6ff0f2f5",
   "metadata": {},
   "source": [
    "**calculated_host_listings_count**: ranges from 1 to 195, different from host_listings_count. Most of the hosts have less or equal to 11 listings, but some have up to 195 listings. The distribution is highly skewed to the right."
   ]
  },
  {
   "cell_type": "code",
   "execution_count": 269,
   "id": "9c7280d5",
   "metadata": {},
   "outputs": [
    {
     "data": {
      "text/plain": [
       "195"
      ]
     },
     "execution_count": 269,
     "metadata": {},
     "output_type": "execute_result"
    }
   ],
   "source": [
    "max(listings['calculated_host_listings_count'])"
   ]
  },
  {
   "cell_type": "code",
   "execution_count": 270,
   "id": "4a914265",
   "metadata": {},
   "outputs": [
    {
     "data": {
      "text/plain": [
       "1"
      ]
     },
     "execution_count": 270,
     "metadata": {},
     "output_type": "execute_result"
    }
   ],
   "source": [
    "min(listings['calculated_host_listings_count'])"
   ]
  },
  {
   "cell_type": "code",
   "execution_count": 271,
   "id": "a9963195",
   "metadata": {},
   "outputs": [
    {
     "data": {
      "text/plain": [
       "count    17074.000000\n",
       "mean        11.953497\n",
       "std         25.137223\n",
       "min          1.000000\n",
       "25%          1.000000\n",
       "50%          4.000000\n",
       "75%         11.000000\n",
       "max        195.000000\n",
       "Name: calculated_host_listings_count, dtype: float64"
      ]
     },
     "execution_count": 271,
     "metadata": {},
     "output_type": "execute_result"
    }
   ],
   "source": [
    "listings['calculated_host_listings_count'].describe()"
   ]
  },
  {
   "cell_type": "code",
   "execution_count": 272,
   "id": "1c6f1b10",
   "metadata": {},
   "outputs": [
    {
     "data": {
      "image/png": "[encoded data removed]",
      "text/plain": [
       "<Figure size 432x288 with 1 Axes>"
      ]
     },
     "metadata": {
      "needs_background": "light"
     },
     "output_type": "display_data"
    }
   ],
   "source": [
    "plt.hist(listings['calculated_host_listings_count'])\n",
    "plt.show() "
   ]
  },
  {
   "cell_type": "markdown",
   "id": "93473554",
   "metadata": {},
   "source": [
    "**calculated_host_listings_count_entire_homes**: ranges from 0 to 195. Most of the hosts have less or equal to 5 listings of entire home/apt, but some have up to 195 listings. The distribution is highly skewed to the right."
   ]
  },
  {
   "cell_type": "code",
   "execution_count": 273,
   "id": "fcbfa2db",
   "metadata": {},
   "outputs": [
    {
     "data": {
      "text/plain": [
       "195"
      ]
     },
     "execution_count": 273,
     "metadata": {},
     "output_type": "execute_result"
    }
   ],
   "source": [
    "max(listings['calculated_host_listings_count_entire_homes'])"
   ]
  },
  {
   "cell_type": "code",
   "execution_count": 274,
   "id": "a915e784",
   "metadata": {},
   "outputs": [
    {
     "data": {
      "text/plain": [
       "0"
      ]
     },
     "execution_count": 274,
     "metadata": {},
     "output_type": "execute_result"
    }
   ],
   "source": [
    "min(listings['calculated_host_listings_count_entire_homes'])"
   ]
  },
  {
   "cell_type": "code",
   "execution_count": 275,
   "id": "8822cf24",
   "metadata": {},
   "outputs": [
    {
     "data": {
      "text/plain": [
       "count    17074.000000\n",
       "mean         8.130959\n",
       "std         24.225898\n",
       "min          0.000000\n",
       "25%          0.000000\n",
       "50%          1.000000\n",
       "75%          5.000000\n",
       "max        195.000000\n",
       "Name: calculated_host_listings_count_entire_homes, dtype: float64"
      ]
     },
     "execution_count": 275,
     "metadata": {},
     "output_type": "execute_result"
    }
   ],
   "source": [
    "listings['calculated_host_listings_count_entire_homes'].describe()"
   ]
  },
  {
   "cell_type": "code",
   "execution_count": 276,
   "id": "c3ba519e",
   "metadata": {},
   "outputs": [
    {
     "data": {
      "image/png": "[encoded data removed]",
      "text/plain": [
       "<Figure size 432x288 with 1 Axes>"
      ]
     },
     "metadata": {
      "needs_background": "light"
     },
     "output_type": "display_data"
    }
   ],
   "source": [
    "plt.hist(listings['calculated_host_listings_count_entire_homes'])\n",
    "plt.show() "
   ]
  },
  {
   "cell_type": "markdown",
   "id": "051d7bef",
   "metadata": {},
   "source": [
    "**calculated_host_listings_count_private_rooms**: ranges from 0 to 195. Most of the hosts have less or equal to 2 listings of private rooms, but some have up to 56 listings. The distribution is highly skewed to the right."
   ]
  },
  {
   "cell_type": "code",
   "execution_count": 277,
   "id": "1ed0c94e",
   "metadata": {},
   "outputs": [
    {
     "data": {
      "text/plain": [
       "56"
      ]
     },
     "execution_count": 277,
     "metadata": {},
     "output_type": "execute_result"
    }
   ],
   "source": [
    "max(listings['calculated_host_listings_count_private_rooms'])"
   ]
  },
  {
   "cell_type": "code",
   "execution_count": 278,
   "id": "fcdc286f",
   "metadata": {},
   "outputs": [
    {
     "data": {
      "text/plain": [
       "0"
      ]
     },
     "execution_count": 278,
     "metadata": {},
     "output_type": "execute_result"
    }
   ],
   "source": [
    "min(listings['calculated_host_listings_count_private_rooms'])"
   ]
  },
  {
   "cell_type": "code",
   "execution_count": 279,
   "id": "3cfbf78e",
   "metadata": {},
   "outputs": [
    {
     "data": {
      "text/plain": [
       "count    17074.000000\n",
       "mean         2.632541\n",
       "std          6.432300\n",
       "min          0.000000\n",
       "25%          0.000000\n",
       "50%          0.000000\n",
       "75%          2.000000\n",
       "max         56.000000\n",
       "Name: calculated_host_listings_count_private_rooms, dtype: float64"
      ]
     },
     "execution_count": 279,
     "metadata": {},
     "output_type": "execute_result"
    }
   ],
   "source": [
    "listings['calculated_host_listings_count_private_rooms'].describe()"
   ]
  },
  {
   "cell_type": "code",
   "execution_count": 280,
   "id": "065f537f",
   "metadata": {},
   "outputs": [
    {
     "data": {
      "image/png": "[encoded data removed]",
      "text/plain": [
       "<Figure size 432x288 with 1 Axes>"
      ]
     },
     "metadata": {
      "needs_background": "light"
     },
     "output_type": "display_data"
    }
   ],
   "source": [
    "plt.hist(listings['calculated_host_listings_count_private_rooms'])\n",
    "plt.show() "
   ]
  },
  {
   "cell_type": "markdown",
   "id": "f59fbcd7",
   "metadata": {},
   "source": [
    "**calculated_host_listings_count_shared_rooms**: ranges from 0 to 62. Most of the hosts have 0 listing of shared room, but some have up to 62 listings. The distribution is highly skewed to the right."
   ]
  },
  {
   "cell_type": "code",
   "execution_count": 281,
   "id": "f77c96d4",
   "metadata": {},
   "outputs": [
    {
     "data": {
      "text/plain": [
       "62"
      ]
     },
     "execution_count": 281,
     "metadata": {},
     "output_type": "execute_result"
    }
   ],
   "source": [
    "max(listings['calculated_host_listings_count_shared_rooms'])"
   ]
  },
  {
   "cell_type": "code",
   "execution_count": 282,
   "id": "ef3b7219",
   "metadata": {},
   "outputs": [
    {
     "data": {
      "text/plain": [
       "0"
      ]
     },
     "execution_count": 282,
     "metadata": {},
     "output_type": "execute_result"
    }
   ],
   "source": [
    "min(listings['calculated_host_listings_count_shared_rooms'])"
   ]
  },
  {
   "cell_type": "code",
   "execution_count": 283,
   "id": "da809ab3",
   "metadata": {},
   "outputs": [
    {
     "data": {
      "text/plain": [
       "count    17074.000000\n",
       "mean         0.490922\n",
       "std          3.980412\n",
       "min          0.000000\n",
       "25%          0.000000\n",
       "50%          0.000000\n",
       "75%          0.000000\n",
       "max         62.000000\n",
       "Name: calculated_host_listings_count_shared_rooms, dtype: float64"
      ]
     },
     "execution_count": 283,
     "metadata": {},
     "output_type": "execute_result"
    }
   ],
   "source": [
    "listings['calculated_host_listings_count_shared_rooms'].describe()"
   ]
  },
  {
   "cell_type": "code",
   "execution_count": 284,
   "id": "4f80f29b",
   "metadata": {},
   "outputs": [
    {
     "data": {
      "image/png": "[encoded data removed]",
      "text/plain": [
       "<Figure size 432x288 with 1 Axes>"
      ]
     },
     "metadata": {
      "needs_background": "light"
     },
     "output_type": "display_data"
    }
   ],
   "source": [
    "plt.hist(listings['calculated_host_listings_count_shared_rooms'])\n",
    "plt.show() "
   ]
  },
  {
   "cell_type": "markdown",
   "id": "8e0a6c08",
   "metadata": {},
   "source": [
    "**reviews_per_month**: ranges from 0.01 to 19.42. Most of the hosts have less than 1 review per month. The distribution is highly skewed to the right."
   ]
  },
  {
   "cell_type": "code",
   "execution_count": 286,
   "id": "6c0979e4",
   "metadata": {},
   "outputs": [
    {
     "data": {
      "text/plain": [
       "(10012,)"
      ]
     },
     "execution_count": 286,
     "metadata": {},
     "output_type": "execute_result"
    }
   ],
   "source": [
    "reviews_per_month = listings['reviews_per_month'].dropna()\n",
    "reviews_per_month.shape"
   ]
  },
  {
   "cell_type": "code",
   "execution_count": 287,
   "id": "c312651a",
   "metadata": {},
   "outputs": [
    {
     "data": {
      "text/plain": [
       "19.42"
      ]
     },
     "execution_count": 287,
     "metadata": {},
     "output_type": "execute_result"
    }
   ],
   "source": [
    "max(reviews_per_month)"
   ]
  },
  {
   "cell_type": "code",
   "execution_count": 288,
   "id": "a52589d1",
   "metadata": {},
   "outputs": [
    {
     "data": {
      "text/plain": [
       "0.01"
      ]
     },
     "execution_count": 288,
     "metadata": {},
     "output_type": "execute_result"
    }
   ],
   "source": [
    "min(reviews_per_month)"
   ]
  },
  {
   "cell_type": "code",
   "execution_count": 289,
   "id": "a18f3b3d",
   "metadata": {},
   "outputs": [
    {
     "data": {
      "text/plain": [
       "count    10012.000000\n",
       "mean         0.564038\n",
       "std          0.812025\n",
       "min          0.010000\n",
       "25%          0.070000\n",
       "50%          0.250000\n",
       "75%          0.770000\n",
       "max         19.420000\n",
       "Name: reviews_per_month, dtype: float64"
      ]
     },
     "execution_count": 289,
     "metadata": {},
     "output_type": "execute_result"
    }
   ],
   "source": [
    "reviews_per_month.describe()"
   ]
  },
  {
   "cell_type": "code",
   "execution_count": 290,
   "id": "80dac740",
   "metadata": {},
   "outputs": [
    {
     "data": {
      "image/png": "[encoded data removed]",
      "text/plain": [
       "<Figure size 432x288 with 1 Axes>"
      ]
     },
     "metadata": {
      "needs_background": "light"
     },
     "output_type": "display_data"
    }
   ],
   "source": [
    "plt.hist(reviews_per_month)\n",
    "plt.show() "
   ]
  },
  {
   "cell_type": "markdown",
   "id": "87acabbe",
   "metadata": {},
   "source": [
    "### 3.5 Attribute Constraint, PK and FK"
   ]
  },
  {
   "cell_type": "markdown",
   "id": "2ca093ce",
   "metadata": {},
   "source": [
    "* primary key(id)\n",
    "* listing_url not null\n",
    "* host_id not null (in future separation to host table, host_id is the primary key)\n",
    "* host_url not null\n",
    "* check (host_is_superhost in ('t', 'f'))\n",
    "* check (host_listings_count >= 0)\n",
    "* check (host_total_listings_count >= 0)\n",
    "* check (host_has_profile_pic in ('t', 'f'))\n",
    "* check (host_identity_verified in ('t', 'f'))\n",
    "* check (latitude >= 0)\n",
    "* check (longitude >= 0)\n",
    "* check (room_type in ('Entire home/apt', 'Private room', 'Hotel room', 'Shared room'))\n",
    "* check (accommodates >= 0)\n",
    "* check (bedrooms >= 1)\n",
    "* check (beds >= 1)\n",
    "* check (price >= 0)\n",
    "* check (minimum_nights >= 1)\n",
    "* check (maximum_nights >= 1)\n",
    "* check (minimum_minimum_nights >= 1)\n",
    "* check (maximum_minimum_nights >= 1)\n",
    "* check (minimum_maximum_nights >= 1)\n",
    "* check (maximum_maximum_nights >= 1)\n",
    "* check (minimum_nights_avg_ntm >= 1)\n",
    "* check (maximum_nights_avg_ntm >= 1)\n",
    "* check (has_availability in ('t', 'f'))\n",
    "* check (availability_30 >= 0)\n",
    "* check (availability_60 >= 0)\n",
    "* check (availability_90 >= 0)\n",
    "* check (availability_365 >= 0)\n",
    "* check (number_of_reviews >= 0)\n",
    "* check (number_of_reviews_ltm >= 0)\n",
    "* check (number_of_reviews_l30d >= 0)\n",
    "* check (review_scores_rating >= 0)\n",
    "* check (review_scores_accuracy >= 0)\n",
    "* check (review_scores_cleanliness >= 0)\n",
    "* check (review_scores_checkin >= 0)\n",
    "* check (review_scores_communication >= 0)\n",
    "* check (review_scores_location >= 0)\n",
    "* check (review_scores_value >= 0)\n",
    "* check (instant_bookable in ('t', 'f'))\n",
    "* check (calculated_host_listings_count >= 1)\n",
    "* check (calculated_host_listings_count_entire_homes >= 0)\n",
    "* check (calculated_host_listings_count_private_rooms >= 0)\n",
    "* check (calculated_host_listings_count_shared_rooms >= 0)\n",
    "* check (reviews_per_month >= 0)\n",
    "\n",
    "any other?"
   ]
  },
  {
   "cell_type": "code",
   "execution_count": null,
   "id": "bb72ec8b",
   "metadata": {},
   "outputs": [],
   "source": []
  }
 ],
 "metadata": {
  "kernelspec": {
   "display_name": "Python 3 (ipykernel)",
   "language": "python",
   "name": "python3"
  },
  "language_info": {
   "codemirror_mode": {
    "name": "ipython",
    "version": 3
   },
   "file_extension": ".py",
   "mimetype": "text/x-python",
   "name": "python",
   "nbconvert_exporter": "python",
   "pygments_lexer": "ipython3",
   "version": "3.9.12"
  }
 },
 "nbformat": 4,
 "nbformat_minor": 5
}
